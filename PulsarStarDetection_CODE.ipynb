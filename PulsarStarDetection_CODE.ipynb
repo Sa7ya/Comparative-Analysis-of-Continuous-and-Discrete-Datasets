{
  "nbformat": 4,
  "nbformat_minor": 0,
  "metadata": {
    "colab": {
      "name": "PulsarStarDetection_CODE.ipynb",
      "provenance": [],
      "collapsed_sections": []
    },
    "kernelspec": {
      "name": "python3",
      "display_name": "Python 3"
    }
  },
  "cells": [
    {
      "cell_type": "code",
      "metadata": {
        "colab": {
          "base_uri": "https://localhost:8080/"
        },
        "id": "BuEsseZMkz7a",
        "outputId": "1e48fad0-f9ac-423f-cc50-d7d658fe9a5b"
      },
      "source": [
        "import os\n",
        "import numpy as np\n",
        "import pandas as pd\n",
        "data = pd.read_csv(\"pulsar_data.csv\")\n",
        "data.columns\n",
        "\n",
        "\n"
      ],
      "execution_count": null,
      "outputs": [
        {
          "output_type": "execute_result",
          "data": {
            "text/plain": [
              "Index([' Mean of the integrated profile',\n",
              "       ' Standard deviation of the integrated profile',\n",
              "       ' Excess kurtosis of the integrated profile',\n",
              "       ' Skewness of the integrated profile', ' Mean of the DM-SNR curve',\n",
              "       ' Standard deviation of the DM-SNR curve',\n",
              "       ' Excess kurtosis of the DM-SNR curve', ' Skewness of the DM-SNR curve',\n",
              "       'target_class'],\n",
              "      dtype='object')"
            ]
          },
          "metadata": {
            "tags": []
          },
          "execution_count": 16
        }
      ]
    },
    {
      "cell_type": "code",
      "metadata": {
        "colab": {
          "base_uri": "https://localhost:8080/"
        },
        "id": "uY3BBPqmqggJ",
        "outputId": "b5e5e4d2-df5b-41ca-efe4-144614acd518"
      },
      "source": [
        "#unique values in coloumns\n",
        "print(data[' Mean of the integrated profile'].unique())\n",
        "print(data[ ' Standard deviation of the integrated profile'].unique())\n",
        "print(data[' Excess kurtosis of the integrated profile'].unique())\n",
        "print(data[' Skewness of the integrated profile'].unique())\n",
        "print(data[' Mean of the DM-SNR curve'].unique())\n",
        "print(data[' Standard deviation of the DM-SNR curve'].unique())\n",
        "print(data[' Excess kurtosis of the DM-SNR curve'].unique())\n",
        "print(data[' Skewness of the DM-SNR curve'].unique())\n",
        "print(data['target_class'].unique())"
      ],
      "execution_count": null,
      "outputs": [
        {
          "output_type": "stream",
          "text": [
            "[121.15625    76.96875   130.5859375 ... 115.375      90.5703125\n",
            " 135.6640625]\n",
            "[48.37297113 36.17555664 53.22953353 ... 43.21384643 49.93374944\n",
            " 50.47225643]\n",
            "[ 0.37548466  0.71289786  0.13340829 ...  0.66345569 -0.08994031\n",
            "  0.34617808]\n",
            "[-0.01316549  3.38871856 -0.29724164 ...  0.43308797 -0.22672618\n",
            "  0.18479723]\n",
            "[  3.16889632   2.39966555   2.74331104 ... 152.4197324    7.18645485\n",
            "   6.14046823]\n",
            "[18.3993666  17.57099693 22.36255299 ... 11.62814941 21.50150499\n",
            " 11.79260254]\n",
            "[ 7.44987415  9.41465226  8.50836378 ... 17.05521452  7.3983949\n",
            " 17.66222194]\n",
            "[ 65.15929771 102.7229747   74.0313242  ... 312.2043252   62.33401752\n",
            " 329.5480159 ]\n",
            "[0. 1.]\n"
          ],
          "name": "stdout"
        }
      ]
    },
    {
      "cell_type": "code",
      "metadata": {
        "colab": {
          "base_uri": "https://localhost:8080/"
        },
        "id": "PKh--QLk0JqT",
        "outputId": "bdc9987b-91e8-490d-8662-4e839d0cf539"
      },
      "source": [
        "#Basic preprocessing\n",
        "\n",
        "#handling missing values\n",
        "data.isna().sum()"
      ],
      "execution_count": null,
      "outputs": [
        {
          "output_type": "execute_result",
          "data": {
            "text/plain": [
              " Mean of the integrated profile                     0\n",
              " Standard deviation of the integrated profile       0\n",
              " Excess kurtosis of the integrated profile       1735\n",
              " Skewness of the integrated profile                 0\n",
              " Mean of the DM-SNR curve                           0\n",
              " Standard deviation of the DM-SNR curve          1178\n",
              " Excess kurtosis of the DM-SNR curve                0\n",
              " Skewness of the DM-SNR curve                     625\n",
              "target_class                                        0\n",
              "dtype: int64"
            ]
          },
          "metadata": {
            "tags": []
          },
          "execution_count": 18
        }
      ]
    },
    {
      "cell_type": "code",
      "metadata": {
        "colab": {
          "base_uri": "https://localhost:8080/"
        },
        "id": "Ewj0zgtZ0kai",
        "outputId": "be20e7a4-17e4-4902-d54a-e681d886f8ae"
      },
      "source": [
        "from sklearn.impute import SimpleImputer\n",
        "imputer = SimpleImputer(fill_value=np.nan, strategy='mean')\n",
        "X = imputer.fit_transform(data)\n",
        "data = pd.DataFrame(X, columns=data.columns)\n",
        "\n",
        "print(data)"
      ],
      "execution_count": null,
      "outputs": [
        {
          "output_type": "stream",
          "text": [
            "        Mean of the integrated profile  ...  target_class\n",
            "0                           121.156250  ...           0.0\n",
            "1                            76.968750  ...           0.0\n",
            "2                           130.585938  ...           0.0\n",
            "3                           156.398438  ...           0.0\n",
            "4                            84.804688  ...           0.0\n",
            "...                                ...  ...           ...\n",
            "12523                       124.312500  ...           0.0\n",
            "12524                       115.617188  ...           0.0\n",
            "12525                       116.031250  ...           0.0\n",
            "12526                       135.664062  ...           0.0\n",
            "12527                       120.726562  ...           0.0\n",
            "\n",
            "[12528 rows x 9 columns]\n"
          ],
          "name": "stdout"
        }
      ]
    },
    {
      "cell_type": "code",
      "metadata": {
        "colab": {
          "base_uri": "https://localhost:8080/"
        },
        "id": "l9J1weFC1ssG",
        "outputId": "9833e27e-3e6d-41fb-ba04-68733fb8d737"
      },
      "source": [
        "data.isna().sum()"
      ],
      "execution_count": null,
      "outputs": [
        {
          "output_type": "execute_result",
          "data": {
            "text/plain": [
              " Mean of the integrated profile                  0\n",
              " Standard deviation of the integrated profile    0\n",
              " Excess kurtosis of the integrated profile       0\n",
              " Skewness of the integrated profile              0\n",
              " Mean of the DM-SNR curve                        0\n",
              " Standard deviation of the DM-SNR curve          0\n",
              " Excess kurtosis of the DM-SNR curve             0\n",
              " Skewness of the DM-SNR curve                    0\n",
              "target_class                                     0\n",
              "dtype: int64"
            ]
          },
          "metadata": {
            "tags": []
          },
          "execution_count": 20
        }
      ]
    },
    {
      "cell_type": "code",
      "metadata": {
        "id": "5-EOMNQwvW68"
      },
      "source": [
        "# Data splitting \n",
        "from sklearn.model_selection import train_test_split\n",
        "x = data.iloc[:,:-1].values\n",
        "y = data.iloc[:,-1].values\n",
        "x = pd.DataFrame(x)\n",
        "y = pd.Series(y)\n",
        "X_train, X_test, y_train, y_test = train_test_split(x, y,\n",
        "                                                    train_size=0.8,\n",
        "                                                    random_state=101)\n"
      ],
      "execution_count": null,
      "outputs": []
    },
    {
      "cell_type": "markdown",
      "metadata": {
        "id": "p2fSnaK-wfPN"
      },
      "source": [
        "STEP :1   \n",
        "APPLYING ALGORITHMS WITHOUT ANY PREPROCESSING"
      ]
    },
    {
      "cell_type": "code",
      "metadata": {
        "id": "FoZgtgdkwuzB"
      },
      "source": [
        "#Score function we gonna use\n",
        "from sklearn import preprocessing\n",
        "from sklearn.model_selection import cross_val_score, cross_val_predict\n",
        "from sklearn.metrics import accuracy_score, classification_report\n",
        "from sklearn.metrics import confusion_matrix, roc_auc_score\n",
        "def print_score(clf, X_train, X_test, y_train, y_test, train=True):\n",
        "    '''\n",
        "    v0.1 Follow the scikit learn library format in terms of input\n",
        "    print the accuracy score, classification report and confusion matrix of classifier\n",
        "    '''\n",
        "    lb = preprocessing.LabelBinarizer()\n",
        "    lb.fit(y_train)\n",
        "    if train:\n",
        "        '''\n",
        "        training performance\n",
        "        '''\n",
        "        res = clf.predict(X_train)\n",
        "        print(\"Train Result:\\n\")\n",
        "        print(\"accuracy score: {0:.4f}\\n\".format(accuracy_score(y_train, \n",
        "                                                                res)))\n",
        "        print(\"Classification Report: \\n {}\\n\".format(classification_report(y_train, \n",
        "                                                                            res)))\n",
        "        print(\"Confusion Matrix: \\n {}\\n\".format(confusion_matrix(y_train, \n",
        "                                                                  res)))\n",
        "        print(\"ROC AUC: {0:.4f}\\n\".format(roc_auc_score(lb.transform(y_train), \n",
        "                                                      lb.transform(res))))\n",
        "\n",
        "        res = cross_val_score(clf, X_train, y_train, cv=10, scoring='accuracy')\n",
        "        print(\"Average Accuracy: \\t {0:.4f}\".format(np.mean(res)))\n",
        "        print(\"Accuracy SD: \\t\\t {0:.4f}\".format(np.std(res)))\n",
        "        \n",
        "    elif train==False:\n",
        "        '''\n",
        "        test performance\n",
        "        '''\n",
        "        res_test = clf.predict(X_test)\n",
        "        print(\"Test Result:\\n\")        \n",
        "        print(\"accuracy score: {0:.4f}\\n\".format(accuracy_score(y_test, \n",
        "                                                                res_test)))\n",
        "        print(\"Classification Report: \\n {}\\n\".format(classification_report(y_test, \n",
        "                                                                            res_test)))\n",
        "        print(\"Confusion Matrix: \\n {}\\n\".format(confusion_matrix(y_test, \n",
        "                                                                  res_test)))   \n",
        "        print(\"ROC AUC: {0:.4f}\\n\".format(roc_auc_score(lb.transform(y_test), \n",
        "                                                      lb.transform(res_test))))"
      ],
      "execution_count": null,
      "outputs": []
    },
    {
      "cell_type": "code",
      "metadata": {
        "colab": {
          "base_uri": "https://localhost:8080/"
        },
        "id": "0XwdNeqF3Xkv",
        "outputId": "e48c19c8-4859-4885-922e-d49d5e9e731e"
      },
      "source": [
        "#KNN\n",
        "from sklearn.neighbors import KNeighborsClassifier \n",
        "knn_clf = KNeighborsClassifier(n_neighbors=5, p=2, metric='minkowski')\n",
        "knn_clf=knn_clf.fit(X_train, y_train) \n",
        "print_score(knn_clf, X_train, X_test, y_train, y_test, train=True)"
      ],
      "execution_count": null,
      "outputs": [
        {
          "output_type": "stream",
          "text": [
            "Train Result:\n",
            "\n",
            "accuracy score: 0.9754\n",
            "\n",
            "Classification Report: \n",
            "               precision    recall  f1-score   support\n",
            "\n",
            "         0.0       0.98      0.99      0.99      9090\n",
            "         1.0       0.93      0.80      0.86       932\n",
            "\n",
            "    accuracy                           0.98     10022\n",
            "   macro avg       0.95      0.90      0.92     10022\n",
            "weighted avg       0.97      0.98      0.97     10022\n",
            "\n",
            "\n",
            "Confusion Matrix: \n",
            " [[9031   59]\n",
            " [ 188  744]]\n",
            "\n",
            "ROC AUC: 0.8959\n",
            "\n",
            "Average Accuracy: \t 0.9707\n",
            "Accuracy SD: \t\t 0.0060\n"
          ],
          "name": "stdout"
        }
      ]
    },
    {
      "cell_type": "code",
      "metadata": {
        "colab": {
          "base_uri": "https://localhost:8080/"
        },
        "id": "LVDDFgeG8cNW",
        "outputId": "d3e55649-23b7-4d26-bdf3-509abf2e9b5f"
      },
      "source": [
        "#XG BOOSTING\n",
        "from xgboost import XGBClassifier\n",
        "model=XGBClassifier()\n",
        "model.fit(X_train, y_train)\n",
        "print_score(model, X_train, X_test, y_train, y_test, train=True)"
      ],
      "execution_count": null,
      "outputs": [
        {
          "output_type": "stream",
          "text": [
            "Train Result:\n",
            "\n",
            "accuracy score: 0.9819\n",
            "\n",
            "Classification Report: \n",
            "               precision    recall  f1-score   support\n",
            "\n",
            "         0.0       0.99      1.00      0.99      9090\n",
            "         1.0       0.95      0.85      0.90       932\n",
            "\n",
            "    accuracy                           0.98     10022\n",
            "   macro avg       0.97      0.92      0.94     10022\n",
            "weighted avg       0.98      0.98      0.98     10022\n",
            "\n",
            "\n",
            "Confusion Matrix: \n",
            " [[9045   45]\n",
            " [ 136  796]]\n",
            "\n",
            "ROC AUC: 0.9246\n",
            "\n",
            "Average Accuracy: \t 0.9782\n",
            "Accuracy SD: \t\t 0.0048\n"
          ],
          "name": "stdout"
        }
      ]
    },
    {
      "cell_type": "code",
      "metadata": {
        "colab": {
          "base_uri": "https://localhost:8080/"
        },
        "id": "KIracAWf9h2z",
        "outputId": "178e5fea-d8a6-4ba6-afea-da9221356dcc"
      },
      "source": [
        "#SVM \n",
        "from sklearn import svm\n",
        "sv = svm.SVC()\n",
        "sv=sv.fit(X_train, y_train)\n",
        "print_score(sv, X_train, X_test, y_train, y_test, train=True)"
      ],
      "execution_count": null,
      "outputs": [
        {
          "output_type": "stream",
          "text": [
            "Train Result:\n",
            "\n",
            "accuracy score: 0.9246\n",
            "\n",
            "Classification Report: \n",
            "               precision    recall  f1-score   support\n",
            "\n",
            "         0.0       0.89      0.96      0.93       908\n",
            "         1.0       0.96      0.89      0.92       936\n",
            "\n",
            "    accuracy                           0.92      1844\n",
            "   macro avg       0.93      0.93      0.92      1844\n",
            "weighted avg       0.93      0.92      0.92      1844\n",
            "\n",
            "\n",
            "Confusion Matrix: \n",
            " [[876  32]\n",
            " [107 829]]\n",
            "\n",
            "ROC AUC: 0.9252\n",
            "\n",
            "Average Accuracy: \t 0.9235\n",
            "Accuracy SD: \t\t 0.0198\n"
          ],
          "name": "stdout"
        }
      ]
    },
    {
      "cell_type": "code",
      "metadata": {
        "colab": {
          "base_uri": "https://localhost:8080/"
        },
        "id": "lavh8znJ_QVq",
        "outputId": "ef8d9321-0c24-49c5-d241-4c23a521d2bd"
      },
      "source": [
        "#Random Forest Classifier \n",
        "from sklearn.ensemble import RandomForestClassifier\n",
        "rmf = RandomForestClassifier(max_depth=3, random_state=0)\n",
        "rmf=rmf.fit(X_train, y_train)\n",
        "print_score(rmf, X_train, X_test, y_train, y_test, train=True)"
      ],
      "execution_count": null,
      "outputs": [
        {
          "output_type": "stream",
          "text": [
            "Train Result:\n",
            "\n",
            "accuracy score: 0.9772\n",
            "\n",
            "Classification Report: \n",
            "               precision    recall  f1-score   support\n",
            "\n",
            "         0.0       0.98      1.00      0.99      9090\n",
            "         1.0       0.94      0.80      0.87       932\n",
            "\n",
            "    accuracy                           0.98     10022\n",
            "   macro avg       0.96      0.90      0.93     10022\n",
            "weighted avg       0.98      0.98      0.98     10022\n",
            "\n",
            "\n",
            "Confusion Matrix: \n",
            " [[9045   45]\n",
            " [ 184  748]]\n",
            "\n",
            "ROC AUC: 0.8988\n",
            "\n",
            "Average Accuracy: \t 0.9757\n",
            "Accuracy SD: \t\t 0.0053\n"
          ],
          "name": "stdout"
        }
      ]
    },
    {
      "cell_type": "code",
      "metadata": {
        "colab": {
          "base_uri": "https://localhost:8080/"
        },
        "id": "P3u5RlinAmrT",
        "outputId": "68cf50be-3c2b-45d2-85dc-48aa10f825d4"
      },
      "source": [
        "#Naive Bayes Classification\n",
        "from sklearn.naive_bayes import GaussianNB\n",
        "nb =GaussianNB()\n",
        "nb=nb.fit(X_train, y_train)\n",
        "print_score(nb, X_train, X_test, y_train, y_test, train=True)\n"
      ],
      "execution_count": null,
      "outputs": [
        {
          "output_type": "stream",
          "text": [
            "Train Result:\n",
            "\n",
            "accuracy score: 0.9436\n",
            "\n",
            "Classification Report: \n",
            "               precision    recall  f1-score   support\n",
            "\n",
            "         0.0       0.98      0.95      0.97      9090\n",
            "         1.0       0.65      0.84      0.74       932\n",
            "\n",
            "    accuracy                           0.94     10022\n",
            "   macro avg       0.82      0.90      0.85     10022\n",
            "weighted avg       0.95      0.94      0.95     10022\n",
            "\n",
            "\n",
            "Confusion Matrix: \n",
            " [[8672  418]\n",
            " [ 147  785]]\n",
            "\n",
            "ROC AUC: 0.8981\n",
            "\n",
            "Average Accuracy: \t 0.9435\n",
            "Accuracy SD: \t\t 0.0064\n"
          ],
          "name": "stdout"
        }
      ]
    },
    {
      "cell_type": "markdown",
      "metadata": {
        "id": "2f68Ku9WDsxx"
      },
      "source": [
        "STEP : 2 \n",
        "USING DIFFERENT WAYS TO HANDLE MISSING VALUES AND ITS OBSERVATIONS\n",
        "A) droping rows, \n",
        "B) replacing with median, \n",
        "C) replacing with mode, "
      ]
    },
    {
      "cell_type": "code",
      "metadata": {
        "colab": {
          "base_uri": "https://localhost:8080/"
        },
        "id": "bjwtKqCiD871",
        "outputId": "711ecfcc-05a4-4cbb-a609-365b8e599255"
      },
      "source": [
        "#1 DROP NA\n",
        "import os\n",
        "import numpy as np\n",
        "import pandas as pd\n",
        "data = pd.read_csv(\"pulsar_data.csv\")\n",
        "data.isna().sum()\n"
      ],
      "execution_count": null,
      "outputs": [
        {
          "output_type": "execute_result",
          "data": {
            "text/plain": [
              " Mean of the integrated profile                     0\n",
              " Standard deviation of the integrated profile       0\n",
              " Excess kurtosis of the integrated profile       1735\n",
              " Skewness of the integrated profile                 0\n",
              " Mean of the DM-SNR curve                           0\n",
              " Standard deviation of the DM-SNR curve          1178\n",
              " Excess kurtosis of the DM-SNR curve                0\n",
              " Skewness of the DM-SNR curve                     625\n",
              "target_class                                        0\n",
              "dtype: int64"
            ]
          },
          "metadata": {
            "tags": []
          },
          "execution_count": 59
        }
      ]
    },
    {
      "cell_type": "code",
      "metadata": {
        "colab": {
          "base_uri": "https://localhost:8080/"
        },
        "id": "ra7TlWQSFntR",
        "outputId": "682d377f-427a-4474-ba4d-fc28202e0018"
      },
      "source": [
        "data.dropna(inplace = True)\n",
        "data.isna().sum()"
      ],
      "execution_count": null,
      "outputs": [
        {
          "output_type": "execute_result",
          "data": {
            "text/plain": [
              " Mean of the integrated profile                  0\n",
              " Standard deviation of the integrated profile    0\n",
              " Excess kurtosis of the integrated profile       0\n",
              " Skewness of the integrated profile              0\n",
              " Mean of the DM-SNR curve                        0\n",
              " Standard deviation of the DM-SNR curve          0\n",
              " Excess kurtosis of the DM-SNR curve             0\n",
              " Skewness of the DM-SNR curve                    0\n",
              "target_class                                     0\n",
              "dtype: int64"
            ]
          },
          "metadata": {
            "tags": []
          },
          "execution_count": 60
        }
      ]
    },
    {
      "cell_type": "code",
      "metadata": {
        "id": "nBSnOIl0F6Ql"
      },
      "source": [
        "# Data splitting \n",
        "from sklearn.model_selection import train_test_split\n",
        "x = data.iloc[:,:-1].values\n",
        "y = data.iloc[:,-1].values\n",
        "x = pd.DataFrame(x)\n",
        "y = pd.Series(y)\n",
        "X_train, X_test, y_train, y_test = train_test_split(x, y,\n",
        "                                                    train_size=0.8,\n",
        "                                                    random_state=101)"
      ],
      "execution_count": null,
      "outputs": []
    },
    {
      "cell_type": "code",
      "metadata": {
        "colab": {
          "base_uri": "https://localhost:8080/"
        },
        "id": "Du46ksDbGf4n",
        "outputId": "d397d0f3-a04f-4deb-e196-b36892c39f0e"
      },
      "source": [
        "#RANDOM FOREST CLASSIFIER\n",
        "from sklearn.ensemble import RandomForestClassifier\n",
        "rmf = RandomForestClassifier(max_depth=3, random_state=0)\n",
        "rmf=rmf.fit(X_train, y_train)\n",
        "print_score(rmf, X_train, X_test, y_train, y_test, train=True)"
      ],
      "execution_count": null,
      "outputs": [
        {
          "output_type": "stream",
          "text": [
            "Train Result:\n",
            "\n",
            "accuracy score: 0.9807\n",
            "\n",
            "Classification Report: \n",
            "               precision    recall  f1-score   support\n",
            "\n",
            "         0.0       0.98      0.99      0.99      6747\n",
            "         1.0       0.94      0.84      0.89       671\n",
            "\n",
            "    accuracy                           0.98      7418\n",
            "   macro avg       0.96      0.92      0.94      7418\n",
            "weighted avg       0.98      0.98      0.98      7418\n",
            "\n",
            "\n",
            "Confusion Matrix: \n",
            " [[6711   36]\n",
            " [ 107  564]]\n",
            "\n",
            "ROC AUC: 0.9176\n",
            "\n",
            "Average Accuracy: \t 0.9798\n",
            "Accuracy SD: \t\t 0.0044\n"
          ],
          "name": "stdout"
        }
      ]
    },
    {
      "cell_type": "code",
      "metadata": {
        "colab": {
          "base_uri": "https://localhost:8080/"
        },
        "id": "E8zNBZKTwGW9",
        "outputId": "53928b50-36a2-4a3e-b62a-4a53945bc547"
      },
      "source": [
        "#KNN\n",
        "from sklearn.neighbors import KNeighborsClassifier \n",
        "knn_clf = KNeighborsClassifier(n_neighbors=5, p=2, metric='minkowski')\n",
        "knn_clf=knn_clf.fit(X_train, y_train) \n",
        "print_score(knn_clf, X_train, X_test, y_train, y_test, train=True)\n"
      ],
      "execution_count": null,
      "outputs": [
        {
          "output_type": "stream",
          "text": [
            "Train Result:\n",
            "\n",
            "accuracy score: 0.9787\n",
            "\n",
            "Classification Report: \n",
            "               precision    recall  f1-score   support\n",
            "\n",
            "         0.0       0.98      0.99      0.99      6747\n",
            "         1.0       0.94      0.82      0.87       671\n",
            "\n",
            "    accuracy                           0.98      7418\n",
            "   macro avg       0.96      0.91      0.93      7418\n",
            "weighted avg       0.98      0.98      0.98      7418\n",
            "\n",
            "\n",
            "Confusion Matrix: \n",
            " [[6710   37]\n",
            " [ 121  550]]\n",
            "\n",
            "ROC AUC: 0.9071\n",
            "\n",
            "Average Accuracy: \t 0.9726\n",
            "Accuracy SD: \t\t 0.0058\n"
          ],
          "name": "stdout"
        }
      ]
    },
    {
      "cell_type": "code",
      "metadata": {
        "colab": {
          "base_uri": "https://localhost:8080/"
        },
        "id": "yDCpT-oV57TH",
        "outputId": "6dbbc13d-6885-44ab-d379-04b88978c7d9"
      },
      "source": [
        "#SVM \n",
        "from sklearn import svm\n",
        "sv = svm.SVC()\n",
        "sv=sv.fit(X_train, y_train)\n",
        "print_score(sv, X_train, X_test, y_train, y_test, train=True)"
      ],
      "execution_count": null,
      "outputs": [
        {
          "output_type": "stream",
          "text": [
            "Train Result:\n",
            "\n",
            "accuracy score: 0.9737\n",
            "\n",
            "Classification Report: \n",
            "               precision    recall  f1-score   support\n",
            "\n",
            "         0.0       0.98      1.00      0.99      6747\n",
            "         1.0       0.95      0.75      0.84       671\n",
            "\n",
            "    accuracy                           0.97      7418\n",
            "   macro avg       0.96      0.87      0.91      7418\n",
            "weighted avg       0.97      0.97      0.97      7418\n",
            "\n",
            "\n",
            "Confusion Matrix: \n",
            " [[6718   29]\n",
            " [ 166  505]]\n",
            "\n",
            "ROC AUC: 0.8742\n",
            "\n",
            "Average Accuracy: \t 0.9734\n",
            "Accuracy SD: \t\t 0.0054\n"
          ],
          "name": "stdout"
        }
      ]
    },
    {
      "cell_type": "code",
      "metadata": {
        "colab": {
          "base_uri": "https://localhost:8080/"
        },
        "id": "TmuiWS0pG7G4",
        "outputId": "65624291-48c8-4a00-fc8f-d235f5569f78"
      },
      "source": [
        "#Naive Bayes Classification\n",
        "from sklearn.naive_bayes import GaussianNB\n",
        "nb =GaussianNB()\n",
        "nb=nb.fit(X_train, y_train)\n",
        "print_score(nb, X_train, X_test, y_train, y_test, train=True)"
      ],
      "execution_count": null,
      "outputs": [
        {
          "output_type": "stream",
          "text": [
            "Train Result:\n",
            "\n",
            "accuracy score: 0.9458\n",
            "\n",
            "Classification Report: \n",
            "               precision    recall  f1-score   support\n",
            "\n",
            "         0.0       0.98      0.96      0.97      6747\n",
            "         1.0       0.65      0.85      0.74       671\n",
            "\n",
            "    accuracy                           0.95      7418\n",
            "   macro avg       0.82      0.90      0.85      7418\n",
            "weighted avg       0.95      0.95      0.95      7418\n",
            "\n",
            "\n",
            "Confusion Matrix: \n",
            " [[6444  303]\n",
            " [  99  572]]\n",
            "\n",
            "ROC AUC: 0.9038\n",
            "\n",
            "Average Accuracy: \t 0.9459\n",
            "Accuracy SD: \t\t 0.0057\n"
          ],
          "name": "stdout"
        }
      ]
    },
    {
      "cell_type": "code",
      "metadata": {
        "id": "b1UkHzbrI-40"
      },
      "source": [
        "#2 SIMPLEIMPUTER (MEDIAN)\n",
        "import os\n",
        "import numpy as np\n",
        "import pandas as pd\n",
        "data = pd.read_csv(\"pulsar_data.csv\")\n"
      ],
      "execution_count": null,
      "outputs": []
    },
    {
      "cell_type": "code",
      "metadata": {
        "colab": {
          "base_uri": "https://localhost:8080/"
        },
        "id": "b6EJcGq9KRwt",
        "outputId": "ea47f68e-ee04-4eb2-fa08-57d4815db085"
      },
      "source": [
        "data.isna().sum()"
      ],
      "execution_count": null,
      "outputs": [
        {
          "output_type": "execute_result",
          "data": {
            "text/plain": [
              " Mean of the integrated profile                     0\n",
              " Standard deviation of the integrated profile       0\n",
              " Excess kurtosis of the integrated profile       1735\n",
              " Skewness of the integrated profile                 0\n",
              " Mean of the DM-SNR curve                           0\n",
              " Standard deviation of the DM-SNR curve          1178\n",
              " Excess kurtosis of the DM-SNR curve                0\n",
              " Skewness of the DM-SNR curve                     625\n",
              "target_class                                        0\n",
              "dtype: int64"
            ]
          },
          "metadata": {
            "tags": []
          },
          "execution_count": 18
        }
      ]
    },
    {
      "cell_type": "code",
      "metadata": {
        "colab": {
          "base_uri": "https://localhost:8080/"
        },
        "id": "IrzDv_3kJrZV",
        "outputId": "07814d7e-f923-4557-eac1-9b8b70259cf1"
      },
      "source": [
        "from sklearn.impute import SimpleImputer\n",
        "imputer = SimpleImputer(fill_value=np.nan, strategy='median')\n",
        "X = imputer.fit_transform(data)\n",
        "data = pd.DataFrame(X, columns=data.columns)\n",
        "data.isna().sum()"
      ],
      "execution_count": null,
      "outputs": [
        {
          "output_type": "execute_result",
          "data": {
            "text/plain": [
              " Mean of the integrated profile                  0\n",
              " Standard deviation of the integrated profile    0\n",
              " Excess kurtosis of the integrated profile       0\n",
              " Skewness of the integrated profile              0\n",
              " Mean of the DM-SNR curve                        0\n",
              " Standard deviation of the DM-SNR curve          0\n",
              " Excess kurtosis of the DM-SNR curve             0\n",
              " Skewness of the DM-SNR curve                    0\n",
              "target_class                                     0\n",
              "dtype: int64"
            ]
          },
          "metadata": {
            "tags": []
          },
          "execution_count": 64
        }
      ]
    },
    {
      "cell_type": "code",
      "metadata": {
        "id": "bVrn_u0lJ71L"
      },
      "source": [
        "# Data splitting \n",
        "from sklearn.model_selection import train_test_split\n",
        "x = data.iloc[:,:-1].values\n",
        "y = data.iloc[:,-1].values\n",
        "x = pd.DataFrame(x)\n",
        "y = pd.Series(y)\n",
        "X_train, X_test, y_train, y_test = train_test_split(x, y,\n",
        "                                                    train_size=0.8,\n",
        "                                                    random_state=101)"
      ],
      "execution_count": null,
      "outputs": []
    },
    {
      "cell_type": "code",
      "metadata": {
        "colab": {
          "base_uri": "https://localhost:8080/"
        },
        "id": "tk3uh49bKCed",
        "outputId": "c2881162-9bdc-4810-b567-74526e05a471"
      },
      "source": [
        "#RANDOM FOREST CLASSIFIER\n",
        "from sklearn.ensemble import RandomForestClassifier\n",
        "rmf = RandomForestClassifier(max_depth=3, random_state=0)\n",
        "rmf=rmf.fit(X_train, y_train)\n",
        "print_score(rmf, X_train, X_test, y_train, y_test, train=True)"
      ],
      "execution_count": null,
      "outputs": [
        {
          "output_type": "stream",
          "text": [
            "Train Result:\n",
            "\n",
            "accuracy score: 0.9772\n",
            "\n",
            "Classification Report: \n",
            "               precision    recall  f1-score   support\n",
            "\n",
            "         0.0       0.98      1.00      0.99      9090\n",
            "         1.0       0.94      0.80      0.87       932\n",
            "\n",
            "    accuracy                           0.98     10022\n",
            "   macro avg       0.96      0.90      0.93     10022\n",
            "weighted avg       0.98      0.98      0.98     10022\n",
            "\n",
            "\n",
            "Confusion Matrix: \n",
            " [[9045   45]\n",
            " [ 184  748]]\n",
            "\n",
            "ROC AUC: 0.8988\n",
            "\n",
            "Average Accuracy: \t 0.9759\n",
            "Accuracy SD: \t\t 0.0052\n"
          ],
          "name": "stdout"
        }
      ]
    },
    {
      "cell_type": "code",
      "metadata": {
        "colab": {
          "base_uri": "https://localhost:8080/"
        },
        "id": "nGWvFIa_x-9s",
        "outputId": "c84ddae4-e3f7-4cc5-8031-51980ec09d14"
      },
      "source": [
        "#KNN\n",
        "from sklearn.neighbors import KNeighborsClassifier \n",
        "knn_clf = KNeighborsClassifier(n_neighbors=5, p=2, metric='minkowski')\n",
        "knn_clf=knn_clf.fit(X_train, y_train) \n",
        "print_score(knn_clf, X_train, X_test, y_train, y_test, train=True)"
      ],
      "execution_count": null,
      "outputs": [
        {
          "output_type": "stream",
          "text": [
            "Train Result:\n",
            "\n",
            "accuracy score: 0.9755\n",
            "\n",
            "Classification Report: \n",
            "               precision    recall  f1-score   support\n",
            "\n",
            "         0.0       0.98      0.99      0.99      9090\n",
            "         1.0       0.93      0.80      0.86       932\n",
            "\n",
            "    accuracy                           0.98     10022\n",
            "   macro avg       0.95      0.90      0.92     10022\n",
            "weighted avg       0.97      0.98      0.97     10022\n",
            "\n",
            "\n",
            "Confusion Matrix: \n",
            " [[9033   57]\n",
            " [ 189  743]]\n",
            "\n",
            "ROC AUC: 0.8955\n",
            "\n",
            "Average Accuracy: \t 0.9707\n",
            "Accuracy SD: \t\t 0.0058\n"
          ],
          "name": "stdout"
        }
      ]
    },
    {
      "cell_type": "code",
      "metadata": {
        "colab": {
          "base_uri": "https://localhost:8080/"
        },
        "id": "ZCBUpygi68wX",
        "outputId": "796f1b20-14f1-4d7c-ffb1-80824c863eb3"
      },
      "source": [
        "#SVM \n",
        "from sklearn import svm\n",
        "sv = svm.SVC()\n",
        "sv=sv.fit(X_train, y_train)\n",
        "print_score(sv, X_train, X_test, y_train, y_test, train=True)"
      ],
      "execution_count": null,
      "outputs": [
        {
          "output_type": "stream",
          "text": [
            "Train Result:\n",
            "\n",
            "accuracy score: 0.9703\n",
            "\n",
            "Classification Report: \n",
            "               precision    recall  f1-score   support\n",
            "\n",
            "         0.0       0.97      1.00      0.98      9090\n",
            "         1.0       0.94      0.73      0.82       932\n",
            "\n",
            "    accuracy                           0.97     10022\n",
            "   macro avg       0.96      0.86      0.90     10022\n",
            "weighted avg       0.97      0.97      0.97     10022\n",
            "\n",
            "\n",
            "Confusion Matrix: \n",
            " [[9046   44]\n",
            " [ 254  678]]\n",
            "\n",
            "ROC AUC: 0.8613\n",
            "\n",
            "Average Accuracy: \t 0.9701\n",
            "Accuracy SD: \t\t 0.0055\n"
          ],
          "name": "stdout"
        }
      ]
    },
    {
      "cell_type": "code",
      "metadata": {
        "colab": {
          "base_uri": "https://localhost:8080/"
        },
        "id": "oBfgFOh5HjMM",
        "outputId": "33099a6d-ae7c-4ae3-9480-1d459f3ad599"
      },
      "source": [
        "#Naive Bayes Classification\n",
        "from sklearn.naive_bayes import GaussianNB\n",
        "nb =GaussianNB()\n",
        "nb=nb.fit(X_train, y_train)\n",
        "print_score(nb, X_train, X_test, y_train, y_test, train=True)"
      ],
      "execution_count": null,
      "outputs": [
        {
          "output_type": "stream",
          "text": [
            "Train Result:\n",
            "\n",
            "accuracy score: 0.9433\n",
            "\n",
            "Classification Report: \n",
            "               precision    recall  f1-score   support\n",
            "\n",
            "         0.0       0.98      0.95      0.97      9090\n",
            "         1.0       0.65      0.85      0.74       932\n",
            "\n",
            "    accuracy                           0.94     10022\n",
            "   macro avg       0.82      0.90      0.85     10022\n",
            "weighted avg       0.95      0.94      0.95     10022\n",
            "\n",
            "\n",
            "Confusion Matrix: \n",
            " [[8665  425]\n",
            " [ 143  789]]\n",
            "\n",
            "ROC AUC: 0.8999\n",
            "\n",
            "Average Accuracy: \t 0.9434\n",
            "Accuracy SD: \t\t 0.0070\n"
          ],
          "name": "stdout"
        }
      ]
    },
    {
      "cell_type": "code",
      "metadata": {
        "id": "LalAJ-4nMSFI"
      },
      "source": [
        "#3 SIMPLEIMPUTER (MODE)\n",
        "import os\n",
        "import numpy as np\n",
        "import pandas as pd\n",
        "data = pd.read_csv(\"pulsar_data.csv\")\n"
      ],
      "execution_count": null,
      "outputs": []
    },
    {
      "cell_type": "code",
      "metadata": {
        "colab": {
          "base_uri": "https://localhost:8080/"
        },
        "id": "isVBBW3xOOXF",
        "outputId": "51a21544-e784-40b8-c429-94090d1101de"
      },
      "source": [
        "from sklearn.impute import SimpleImputer\n",
        "imputer = SimpleImputer(fill_value=np.nan, strategy='most_frequent')\n",
        "X = imputer.fit_transform(data)\n",
        "data = pd.DataFrame(X, columns=data.columns)\n",
        "data.isna().sum()"
      ],
      "execution_count": null,
      "outputs": [
        {
          "output_type": "execute_result",
          "data": {
            "text/plain": [
              " Mean of the integrated profile                  0\n",
              " Standard deviation of the integrated profile    0\n",
              " Excess kurtosis of the integrated profile       0\n",
              " Skewness of the integrated profile              0\n",
              " Mean of the DM-SNR curve                        0\n",
              " Standard deviation of the DM-SNR curve          0\n",
              " Excess kurtosis of the DM-SNR curve             0\n",
              " Skewness of the DM-SNR curve                    0\n",
              "target_class                                     0\n",
              "dtype: int64"
            ]
          },
          "metadata": {
            "tags": []
          },
          "execution_count": 70
        }
      ]
    },
    {
      "cell_type": "code",
      "metadata": {
        "id": "2RRERo4DOWUW"
      },
      "source": [
        "# Data splitting \n",
        "from sklearn.model_selection import train_test_split\n",
        "x = data.iloc[:,:-1].values\n",
        "y = data.iloc[:,-1].values\n",
        "x = pd.DataFrame(x)\n",
        "y = pd.Series(y)\n",
        "X_train, X_test, y_train, y_test = train_test_split(x, y,\n",
        "                                                    train_size=0.8,\n",
        "                                                    random_state=101)"
      ],
      "execution_count": null,
      "outputs": []
    },
    {
      "cell_type": "code",
      "metadata": {
        "colab": {
          "base_uri": "https://localhost:8080/"
        },
        "id": "d71lLs6iOXcI",
        "outputId": "7779e551-e6d1-4aa3-eb3f-886b90b9513d"
      },
      "source": [
        "#Random Forest Classifier\n",
        "from sklearn.ensemble import RandomForestClassifier\n",
        "rmf = RandomForestClassifier(max_depth=3, random_state=0)\n",
        "rmf=rmf.fit(X_train, y_train)\n",
        "print_score(rmf, X_train, X_test, y_train, y_test, train=True)"
      ],
      "execution_count": null,
      "outputs": [
        {
          "output_type": "stream",
          "text": [
            "Train Result:\n",
            "\n",
            "accuracy score: 0.9771\n",
            "\n",
            "Classification Report: \n",
            "               precision    recall  f1-score   support\n",
            "\n",
            "         0.0       0.98      0.99      0.99      9090\n",
            "         1.0       0.94      0.80      0.87       932\n",
            "\n",
            "    accuracy                           0.98     10022\n",
            "   macro avg       0.96      0.90      0.93     10022\n",
            "weighted avg       0.98      0.98      0.98     10022\n",
            "\n",
            "\n",
            "Confusion Matrix: \n",
            " [[9044   46]\n",
            " [ 184  748]]\n",
            "\n",
            "ROC AUC: 0.8988\n",
            "\n",
            "Average Accuracy: \t 0.9759\n",
            "Accuracy SD: \t\t 0.0055\n"
          ],
          "name": "stdout"
        }
      ]
    },
    {
      "cell_type": "code",
      "metadata": {
        "colab": {
          "base_uri": "https://localhost:8080/"
        },
        "id": "vkLFrcMUzIEo",
        "outputId": "7957a562-df79-4be8-99be-dc63ec3b9836"
      },
      "source": [
        "#KNN\n",
        "from sklearn.neighbors import KNeighborsClassifier \n",
        "knn_clf = KNeighborsClassifier(n_neighbors=5, p=2, metric='minkowski')\n",
        "knn_clf=knn_clf.fit(X_train, y_train) \n",
        "print_score(knn_clf, X_train, X_test, y_train, y_test, train=True)"
      ],
      "execution_count": null,
      "outputs": [
        {
          "output_type": "stream",
          "text": [
            "Train Result:\n",
            "\n",
            "accuracy score: 0.9757\n",
            "\n",
            "Classification Report: \n",
            "               precision    recall  f1-score   support\n",
            "\n",
            "         0.0       0.98      0.99      0.99      9090\n",
            "         1.0       0.93      0.80      0.86       932\n",
            "\n",
            "    accuracy                           0.98     10022\n",
            "   macro avg       0.95      0.90      0.92     10022\n",
            "weighted avg       0.97      0.98      0.97     10022\n",
            "\n",
            "\n",
            "Confusion Matrix: \n",
            " [[9033   57]\n",
            " [ 187  745]]\n",
            "\n",
            "ROC AUC: 0.8965\n",
            "\n",
            "Average Accuracy: \t 0.9709\n",
            "Accuracy SD: \t\t 0.0062\n"
          ],
          "name": "stdout"
        }
      ]
    },
    {
      "cell_type": "code",
      "metadata": {
        "colab": {
          "base_uri": "https://localhost:8080/"
        },
        "id": "Wev8vnNb7ihA",
        "outputId": "79994da7-ea24-459c-a285-ec3d98f05d83"
      },
      "source": [
        "#SVM \n",
        "from sklearn import svm\n",
        "sv = svm.SVC()\n",
        "sv=sv.fit(X_train, y_train)\n",
        "print_score(sv, X_train, X_test, y_train, y_test, train=True)"
      ],
      "execution_count": null,
      "outputs": [
        {
          "output_type": "stream",
          "text": [
            "Train Result:\n",
            "\n",
            "accuracy score: 0.9694\n",
            "\n",
            "Classification Report: \n",
            "               precision    recall  f1-score   support\n",
            "\n",
            "         0.0       0.97      1.00      0.98      9090\n",
            "         1.0       0.94      0.72      0.81       932\n",
            "\n",
            "    accuracy                           0.97     10022\n",
            "   macro avg       0.96      0.86      0.90     10022\n",
            "weighted avg       0.97      0.97      0.97     10022\n",
            "\n",
            "\n",
            "Confusion Matrix: \n",
            " [[9046   44]\n",
            " [ 263  669]]\n",
            "\n",
            "ROC AUC: 0.8565\n",
            "\n",
            "Average Accuracy: \t 0.9691\n",
            "Accuracy SD: \t\t 0.0055\n"
          ],
          "name": "stdout"
        }
      ]
    },
    {
      "cell_type": "code",
      "metadata": {
        "colab": {
          "base_uri": "https://localhost:8080/"
        },
        "id": "PAdpwcrTIB6s",
        "outputId": "6d513cfc-94b8-48b6-d9f2-570f2836806e"
      },
      "source": [
        "#Naive Bayes Classification\n",
        "from sklearn.naive_bayes import GaussianNB\n",
        "nb =GaussianNB()\n",
        "nb=nb.fit(X_train, y_train)\n",
        "print_score(nb, X_train, X_test, y_train, y_test, train=True)"
      ],
      "execution_count": null,
      "outputs": [
        {
          "output_type": "stream",
          "text": [
            "Train Result:\n",
            "\n",
            "accuracy score: 0.9434\n",
            "\n",
            "Classification Report: \n",
            "               precision    recall  f1-score   support\n",
            "\n",
            "         0.0       0.98      0.96      0.97      9090\n",
            "         1.0       0.66      0.82      0.73       932\n",
            "\n",
            "    accuracy                           0.94     10022\n",
            "   macro avg       0.82      0.89      0.85     10022\n",
            "weighted avg       0.95      0.94      0.95     10022\n",
            "\n",
            "\n",
            "Confusion Matrix: \n",
            " [[8692  398]\n",
            " [ 169  763]]\n",
            "\n",
            "ROC AUC: 0.8874\n",
            "\n",
            "Average Accuracy: \t 0.9432\n",
            "Accuracy SD: \t\t 0.0080\n"
          ],
          "name": "stdout"
        }
      ]
    },
    {
      "cell_type": "markdown",
      "metadata": {
        "id": "uyvA4Jh6XE9V"
      },
      "source": [
        "STEP :3 HANDLING IMBALANCED DATASET USING RANDOM SAMPLING\n",
        "\n"
      ]
    },
    {
      "cell_type": "code",
      "metadata": {
        "colab": {
          "base_uri": "https://localhost:8080/"
        },
        "id": "0hQfPj2tXe3J",
        "outputId": "5a9cde32-e475-44d0-be61-65c390ea22eb"
      },
      "source": [
        "#RANDOM OVER SAMPLER\n",
        "import os\n",
        "import numpy as np\n",
        "import pandas as pd\n",
        "from collections import Counter\n",
        "from sklearn.datasets import make_classification\n",
        "from imblearn.over_sampling import RandomOverSampler\n",
        "from sklearn.impute import SimpleImputer\n",
        "data = pd.read_csv(\"pulsar_data.csv\")\n",
        "imputer = SimpleImputer(fill_value=np.nan, strategy='mean')\n",
        "X = imputer.fit_transform(data)\n",
        "data = pd.DataFrame(X, columns=data.columns)\n",
        "x = data.iloc[:,:-1].values\n",
        "y = data.iloc[:,-1].values\n",
        "x = pd.DataFrame(x)\n",
        "y = pd.Series(y)\n",
        "print(Counter(y))\n",
        "oversample = RandomOverSampler(sampling_strategy='minority') #OVER SAMPLING\n",
        "x,y = oversample.fit_resample(x, y)\n",
        "print(Counter(y))\n",
        "\n"
      ],
      "execution_count": null,
      "outputs": [
        {
          "output_type": "stream",
          "text": [
            "Counter({0.0: 11375, 1.0: 1153})\n",
            "Counter({0.0: 11375, 1.0: 11375})\n"
          ],
          "name": "stdout"
        },
        {
          "output_type": "stream",
          "text": [
            "/usr/local/lib/python3.6/dist-packages/sklearn/utils/deprecation.py:87: FutureWarning: Function safe_indexing is deprecated; safe_indexing is deprecated in version 0.22 and will be removed in version 0.24.\n",
            "  warnings.warn(msg, category=FutureWarning)\n"
          ],
          "name": "stderr"
        }
      ]
    },
    {
      "cell_type": "code",
      "metadata": {
        "id": "KTUL5k5hbM5n"
      },
      "source": [
        "X_train, X_test, y_train, y_test = train_test_split(x, y,\n",
        "                                                    train_size=0.8,\n",
        "                                                    random_state=101)"
      ],
      "execution_count": null,
      "outputs": []
    },
    {
      "cell_type": "code",
      "metadata": {
        "colab": {
          "base_uri": "https://localhost:8080/"
        },
        "id": "Q7fHbXqMbSiC",
        "outputId": "9363a960-6592-49c1-b263-f38f97b842bb"
      },
      "source": [
        "#RANDOM FOREST CLASSIFIER\n",
        "from sklearn.ensemble import RandomForestClassifier\n",
        "rmf = RandomForestClassifier(max_depth=3, random_state=0)\n",
        "rmf=rmf.fit(X_train, y_train)\n",
        "print_score(rmf, X_train, X_test, y_train, y_test, train=True)"
      ],
      "execution_count": null,
      "outputs": [
        {
          "output_type": "stream",
          "text": [
            "Train Result:\n",
            "\n",
            "accuracy score: 0.9364\n",
            "\n",
            "Classification Report: \n",
            "               precision    recall  f1-score   support\n",
            "\n",
            "         0.0       0.90      0.97      0.94      9060\n",
            "         1.0       0.97      0.90      0.93      9140\n",
            "\n",
            "    accuracy                           0.94     18200\n",
            "   macro avg       0.94      0.94      0.94     18200\n",
            "weighted avg       0.94      0.94      0.94     18200\n",
            "\n",
            "\n",
            "Confusion Matrix: \n",
            " [[8833  227]\n",
            " [ 930 8210]]\n",
            "\n",
            "ROC AUC: 0.9366\n",
            "\n",
            "Average Accuracy: \t 0.9358\n",
            "Accuracy SD: \t\t 0.0071\n"
          ],
          "name": "stdout"
        }
      ]
    },
    {
      "cell_type": "code",
      "metadata": {
        "colab": {
          "base_uri": "https://localhost:8080/"
        },
        "id": "o73oz4NwzpLC",
        "outputId": "4add135d-12c3-4ac1-85cc-f78a49a60084"
      },
      "source": [
        "#KNN\n",
        "from sklearn.neighbors import KNeighborsClassifier \n",
        "knn_clf = KNeighborsClassifier(n_neighbors=5, p=2, metric='minkowski')\n",
        "knn_clf=knn_clf.fit(X_train, y_train) \n",
        "print_score(knn_clf, X_train, X_test, y_train, y_test, train=True)"
      ],
      "execution_count": null,
      "outputs": [
        {
          "output_type": "stream",
          "text": [
            "Train Result:\n",
            "\n",
            "accuracy score: 0.9786\n",
            "\n",
            "Classification Report: \n",
            "               precision    recall  f1-score   support\n",
            "\n",
            "         0.0       1.00      0.96      0.98      9060\n",
            "         1.0       0.96      1.00      0.98      9140\n",
            "\n",
            "    accuracy                           0.98     18200\n",
            "   macro avg       0.98      0.98      0.98     18200\n",
            "weighted avg       0.98      0.98      0.98     18200\n",
            "\n",
            "\n",
            "Confusion Matrix: \n",
            " [[8677  383]\n",
            " [   7 9133]]\n",
            "\n",
            "ROC AUC: 0.9785\n",
            "\n",
            "Average Accuracy: \t 0.9664\n",
            "Accuracy SD: \t\t 0.0031\n"
          ],
          "name": "stdout"
        }
      ]
    },
    {
      "cell_type": "code",
      "metadata": {
        "colab": {
          "base_uri": "https://localhost:8080/"
        },
        "id": "SvD_watr8bpf",
        "outputId": "f452bc79-1a79-4174-861b-408fde5048c0"
      },
      "source": [
        "#SVM \n",
        "from sklearn import svm\n",
        "sv = svm.SVC()\n",
        "sv=sv.fit(X_train, y_train)\n",
        "print_score(sv, X_train, X_test, y_train, y_test, train=True)"
      ],
      "execution_count": null,
      "outputs": [
        {
          "output_type": "stream",
          "text": [
            "Train Result:\n",
            "\n",
            "accuracy score: 0.9219\n",
            "\n",
            "Classification Report: \n",
            "               precision    recall  f1-score   support\n",
            "\n",
            "         0.0       0.89      0.97      0.93      9060\n",
            "         1.0       0.96      0.88      0.92      9140\n",
            "\n",
            "    accuracy                           0.92     18200\n",
            "   macro avg       0.93      0.92      0.92     18200\n",
            "weighted avg       0.93      0.92      0.92     18200\n",
            "\n",
            "\n",
            "Confusion Matrix: \n",
            " [[8767  293]\n",
            " [1128 8012]]\n",
            "\n",
            "ROC AUC: 0.9221\n",
            "\n",
            "Average Accuracy: \t 0.9216\n",
            "Accuracy SD: \t\t 0.0058\n"
          ],
          "name": "stdout"
        }
      ]
    },
    {
      "cell_type": "code",
      "metadata": {
        "colab": {
          "base_uri": "https://localhost:8080/"
        },
        "id": "6jYGi-7dIlcZ",
        "outputId": "82902e0d-7fca-4087-ea14-3b95c652e9b1"
      },
      "source": [
        "#Naive Bayes Classification\n",
        "from sklearn.naive_bayes import GaussianNB\n",
        "nb =GaussianNB()\n",
        "nb=nb.fit(X_train, y_train)\n",
        "print_score(nb, X_train, X_test, y_train, y_test, train=True)"
      ],
      "execution_count": null,
      "outputs": [
        {
          "output_type": "stream",
          "text": [
            "Train Result:\n",
            "\n",
            "accuracy score: 0.8997\n",
            "\n",
            "Classification Report: \n",
            "               precision    recall  f1-score   support\n",
            "\n",
            "         0.0       0.87      0.95      0.90      9060\n",
            "         1.0       0.94      0.85      0.90      9140\n",
            "\n",
            "    accuracy                           0.90     18200\n",
            "   macro avg       0.90      0.90      0.90     18200\n",
            "weighted avg       0.90      0.90      0.90     18200\n",
            "\n",
            "\n",
            "Confusion Matrix: \n",
            " [[8562  498]\n",
            " [1328 7812]]\n",
            "\n",
            "ROC AUC: 0.8999\n",
            "\n",
            "Average Accuracy: \t 0.8996\n",
            "Accuracy SD: \t\t 0.0076\n"
          ],
          "name": "stdout"
        }
      ]
    },
    {
      "cell_type": "code",
      "metadata": {
        "colab": {
          "base_uri": "https://localhost:8080/"
        },
        "id": "GtmEWoU2cY-6",
        "outputId": "be28f8c3-49fd-41ee-f174-a56c73dc9fc3"
      },
      "source": [
        "#RANDOM UNDER SAMPLER\n",
        "import os\n",
        "import numpy as np\n",
        "import pandas as pd\n",
        "from collections import Counter\n",
        "from sklearn.datasets import make_classification\n",
        "from imblearn.under_sampling import RandomUnderSampler\n",
        "from sklearn.impute import SimpleImputer\n",
        "data = pd.read_csv(\"pulsar_data.csv\")\n",
        "imputer = SimpleImputer(fill_value=np.nan, strategy='mean')\n",
        "X = imputer.fit_transform(data)\n",
        "data = pd.DataFrame(X, columns=data.columns)\n",
        "x = data.iloc[:,:-1].values\n",
        "y = data.iloc[:,-1].values\n",
        "x = pd.DataFrame(x)\n",
        "y = pd.Series(y)\n",
        "print(Counter(y))\n",
        "undersample = RandomUnderSampler(sampling_strategy='majority')\n",
        "x,y = undersample.fit_resample(x, y)\n",
        "print(Counter(y))\n"
      ],
      "execution_count": null,
      "outputs": [
        {
          "output_type": "stream",
          "text": [
            "Counter({0.0: 11375, 1.0: 1153})\n",
            "Counter({0.0: 1153, 1.0: 1153})\n"
          ],
          "name": "stdout"
        },
        {
          "output_type": "stream",
          "text": [
            "/usr/local/lib/python3.6/dist-packages/sklearn/utils/deprecation.py:87: FutureWarning: Function safe_indexing is deprecated; safe_indexing is deprecated in version 0.22 and will be removed in version 0.24.\n",
            "  warnings.warn(msg, category=FutureWarning)\n"
          ],
          "name": "stderr"
        }
      ]
    },
    {
      "cell_type": "code",
      "metadata": {
        "id": "jL1MJF7wdKlS"
      },
      "source": [
        "X_train, X_test, y_train, y_test = train_test_split(x, y,\n",
        "                                                    train_size=0.8,\n",
        "                                                    random_state=101)"
      ],
      "execution_count": null,
      "outputs": []
    },
    {
      "cell_type": "code",
      "metadata": {
        "colab": {
          "base_uri": "https://localhost:8080/"
        },
        "id": "v10iAdREdRi1",
        "outputId": "b95cf81a-6bbe-4edb-ef05-9d837ee901f7"
      },
      "source": [
        "#Random Forest Classifier \n",
        "from sklearn.ensemble import RandomForestClassifier\n",
        "rmf = RandomForestClassifier(max_depth=3, random_state=0)\n",
        "rmf=rmf.fit(X_train, y_train)\n",
        "print_score(rmf, X_train, X_test, y_train, y_test, train=True)"
      ],
      "execution_count": null,
      "outputs": [
        {
          "output_type": "stream",
          "text": [
            "Train Result:\n",
            "\n",
            "accuracy score: 0.9393\n",
            "\n",
            "Classification Report: \n",
            "               precision    recall  f1-score   support\n",
            "\n",
            "         0.0       0.91      0.97      0.94       908\n",
            "         1.0       0.97      0.90      0.94       936\n",
            "\n",
            "    accuracy                           0.94      1844\n",
            "   macro avg       0.94      0.94      0.94      1844\n",
            "weighted avg       0.94      0.94      0.94      1844\n",
            "\n",
            "\n",
            "Confusion Matrix: \n",
            " [[885  23]\n",
            " [ 89 847]]\n",
            "\n",
            "ROC AUC: 0.9398\n",
            "\n",
            "Average Accuracy: \t 0.9300\n",
            "Accuracy SD: \t\t 0.0122\n"
          ],
          "name": "stdout"
        }
      ]
    },
    {
      "cell_type": "code",
      "metadata": {
        "colab": {
          "base_uri": "https://localhost:8080/"
        },
        "id": "QXUWunst0eN0",
        "outputId": "c7353a7c-6320-4613-ad02-3e6dc91dfaa0"
      },
      "source": [
        "#KNN\n",
        "from sklearn.neighbors import KNeighborsClassifier \n",
        "knn_clf = KNeighborsClassifier(n_neighbors=5, p=2, metric='minkowski')\n",
        "knn_clf=knn_clf.fit(X_train, y_train) \n",
        "print_score(knn_clf, X_train, X_test, y_train, y_test, train=True)"
      ],
      "execution_count": null,
      "outputs": [
        {
          "output_type": "stream",
          "text": [
            "Train Result:\n",
            "\n",
            "accuracy score: 0.9290\n",
            "\n",
            "Classification Report: \n",
            "               precision    recall  f1-score   support\n",
            "\n",
            "         0.0       0.91      0.95      0.93       908\n",
            "         1.0       0.95      0.91      0.93       936\n",
            "\n",
            "    accuracy                           0.93      1844\n",
            "   macro avg       0.93      0.93      0.93      1844\n",
            "weighted avg       0.93      0.93      0.93      1844\n",
            "\n",
            "\n",
            "Confusion Matrix: \n",
            " [[862  46]\n",
            " [ 85 851]]\n",
            "\n",
            "ROC AUC: 0.9293\n",
            "\n",
            "Average Accuracy: \t 0.9105\n",
            "Accuracy SD: \t\t 0.0197\n"
          ],
          "name": "stdout"
        }
      ]
    },
    {
      "cell_type": "code",
      "metadata": {
        "colab": {
          "base_uri": "https://localhost:8080/"
        },
        "id": "5KK226EiB5MZ",
        "outputId": "09e20f29-3837-4b23-e286-7cd5515c4be5"
      },
      "source": [
        "#SVM \n",
        "from sklearn import svm\n",
        "sv = svm.SVC()\n",
        "sv=sv.fit(X_train, y_train)\n",
        "print_score(sv, X_train, X_test, y_train, y_test, train=True)"
      ],
      "execution_count": null,
      "outputs": [
        {
          "output_type": "stream",
          "text": [
            "Train Result:\n",
            "\n",
            "accuracy score: 0.9203\n",
            "\n",
            "Classification Report: \n",
            "               precision    recall  f1-score   support\n",
            "\n",
            "         0.0       0.89      0.96      0.92       908\n",
            "         1.0       0.96      0.88      0.92       936\n",
            "\n",
            "    accuracy                           0.92      1844\n",
            "   macro avg       0.92      0.92      0.92      1844\n",
            "weighted avg       0.92      0.92      0.92      1844\n",
            "\n",
            "\n",
            "Confusion Matrix: \n",
            " [[874  34]\n",
            " [113 823]]\n",
            "\n",
            "ROC AUC: 0.9209\n",
            "\n",
            "Average Accuracy: \t 0.9176\n",
            "Accuracy SD: \t\t 0.0202\n"
          ],
          "name": "stdout"
        }
      ]
    },
    {
      "cell_type": "code",
      "metadata": {
        "colab": {
          "base_uri": "https://localhost:8080/"
        },
        "id": "-Tb9O8wOJXGP",
        "outputId": "b1bb77ac-9bf9-4d50-e712-28df6101a7cb"
      },
      "source": [
        "#Naive Bayes Classification\n",
        "from sklearn.naive_bayes import GaussianNB\n",
        "nb =GaussianNB()\n",
        "nb=nb.fit(X_train, y_train)\n",
        "print_score(nb, X_train, X_test, y_train, y_test, train=True)"
      ],
      "execution_count": null,
      "outputs": [
        {
          "output_type": "stream",
          "text": [
            "Train Result:\n",
            "\n",
            "accuracy score: 0.8948\n",
            "\n",
            "Classification Report: \n",
            "               precision    recall  f1-score   support\n",
            "\n",
            "         0.0       0.86      0.94      0.90       908\n",
            "         1.0       0.93      0.85      0.89       936\n",
            "\n",
            "    accuracy                           0.89      1844\n",
            "   macro avg       0.90      0.90      0.89      1844\n",
            "weighted avg       0.90      0.89      0.89      1844\n",
            "\n",
            "\n",
            "Confusion Matrix: \n",
            " [[851  57]\n",
            " [137 799]]\n",
            "\n",
            "ROC AUC: 0.8954\n",
            "\n",
            "Average Accuracy: \t 0.8942\n",
            "Accuracy SD: \t\t 0.0212\n"
          ],
          "name": "stdout"
        }
      ]
    },
    {
      "cell_type": "markdown",
      "metadata": {
        "id": "ziqYScdhnlaG"
      },
      "source": [
        "STEP :4 HANDLING NOISY DATA BY NORMALIZTION "
      ]
    },
    {
      "cell_type": "code",
      "metadata": {
        "id": "4JWJi480niwY",
        "colab": {
          "base_uri": "https://localhost:8080/"
        },
        "outputId": "1418d84c-c177-44e5-e44a-33e6ecf0f6dd"
      },
      "source": [
        "#NORMALIZATION\n",
        "#MIN MAX SCALER\n",
        "import os\n",
        "import numpy as np\n",
        "import pandas as pd\n",
        "from sklearn.datasets import make_classification\n",
        "from sklearn.impute import SimpleImputer\n",
        "from sklearn.preprocessing import MinMaxScaler\n",
        "data = pd.read_csv(\"pulsar_data.csv\")\n",
        "imputer = SimpleImputer(fill_value=np.nan, strategy='mean')\n",
        "X = imputer.fit_transform(data)\n",
        "data = pd.DataFrame(X, columns=data.columns)\n",
        "x = data.iloc[:,:-1].values\n",
        "y = data.iloc[:,-1].values\n",
        "x = pd.DataFrame(x)\n",
        "y = pd.Series(y)\n",
        "X_train, X_test, y_train, y_test = train_test_split(x, y,\n",
        "                                                    train_size=0.8,\n",
        "                                              random_state=101)\n",
        "norm=MinMaxScaler().fit(X_train)\n",
        "X_train=norm.transform(X_train)\n",
        "X_test=norm.transform(X_test)\n",
        " \n",
        "print(X_train)\n",
        "\n",
        "\n"
      ],
      "execution_count": null,
      "outputs": [
        {
          "output_type": "stream",
          "text": [
            "[[0.64217144 0.40259083 0.18862545 ... 0.18379548 0.32306238 0.09011295]\n",
            " [0.46453148 0.24450447 0.22600651 ... 0.08077717 0.30704202 0.07676862]\n",
            " [0.5013168  0.29945691 0.24341853 ... 0.12131752 0.27118817 0.05032739]\n",
            " ...\n",
            " [0.52476425 0.27105388 0.20674425 ... 0.0472555  0.44866096 0.18349069]\n",
            " [0.07187155 0.12802119 0.73344116 ... 0.49995615 0.11465779 0.00276305]\n",
            " [0.63006542 0.32770201 0.19298879 ... 0.10813738 0.31908926 0.07712337]]\n"
          ],
          "name": "stdout"
        }
      ]
    },
    {
      "cell_type": "code",
      "metadata": {
        "colab": {
          "base_uri": "https://localhost:8080/"
        },
        "id": "nNd89JEntBQs",
        "outputId": "f8dd3553-7c97-40e3-f00c-1885fb9ac35e"
      },
      "source": [
        "#RandomForestClassifier\n",
        "from sklearn.ensemble import RandomForestClassifier\n",
        "rmf = RandomForestClassifier(max_depth=3, random_state=0)\n",
        "rmf=rmf.fit(X_train, y_train)\n",
        "print_score(rmf, X_train, X_test, y_train, y_test, train=True)"
      ],
      "execution_count": null,
      "outputs": [
        {
          "output_type": "stream",
          "text": [
            "Train Result:\n",
            "\n",
            "accuracy score: 0.9772\n",
            "\n",
            "Classification Report: \n",
            "               precision    recall  f1-score   support\n",
            "\n",
            "         0.0       0.98      1.00      0.99      9090\n",
            "         1.0       0.94      0.80      0.87       932\n",
            "\n",
            "    accuracy                           0.98     10022\n",
            "   macro avg       0.96      0.90      0.93     10022\n",
            "weighted avg       0.98      0.98      0.98     10022\n",
            "\n",
            "\n",
            "Confusion Matrix: \n",
            " [[9045   45]\n",
            " [ 184  748]]\n",
            "\n",
            "ROC AUC: 0.8988\n",
            "\n",
            "Average Accuracy: \t 0.9757\n",
            "Accuracy SD: \t\t 0.0053\n"
          ],
          "name": "stdout"
        }
      ]
    },
    {
      "cell_type": "code",
      "metadata": {
        "colab": {
          "base_uri": "https://localhost:8080/"
        },
        "id": "_ZIG2dXZ1K1y",
        "outputId": "9de04cbd-12ce-4259-a4a5-cdd5ac436f6e"
      },
      "source": [
        "#KNN\n",
        "from sklearn.neighbors import KNeighborsClassifier \n",
        "knn_clf = KNeighborsClassifier(n_neighbors=5, p=2, metric='minkowski')\n",
        "knn_clf=knn_clf.fit(X_train, y_train) \n",
        "print_score(knn_clf, X_train, X_test, y_train, y_test, train=True)"
      ],
      "execution_count": null,
      "outputs": [
        {
          "output_type": "stream",
          "text": [
            "Train Result:\n",
            "\n",
            "accuracy score: 0.9782\n",
            "\n",
            "Classification Report: \n",
            "               precision    recall  f1-score   support\n",
            "\n",
            "         0.0       0.98      0.99      0.99      9090\n",
            "         1.0       0.94      0.82      0.88       932\n",
            "\n",
            "    accuracy                           0.98     10022\n",
            "   macro avg       0.96      0.91      0.93     10022\n",
            "weighted avg       0.98      0.98      0.98     10022\n",
            "\n",
            "\n",
            "Confusion Matrix: \n",
            " [[9037   53]\n",
            " [ 165  767]]\n",
            "\n",
            "ROC AUC: 0.9086\n",
            "\n",
            "Average Accuracy: \t 0.9753\n",
            "Accuracy SD: \t\t 0.0040\n"
          ],
          "name": "stdout"
        }
      ]
    },
    {
      "cell_type": "code",
      "metadata": {
        "colab": {
          "base_uri": "https://localhost:8080/"
        },
        "id": "OuEnuKWFCuDg",
        "outputId": "0cbd4ab9-f7da-4bfa-d354-19d9e5e13dbe"
      },
      "source": [
        "#SVM \n",
        "from sklearn import svm\n",
        "sv = svm.SVC()\n",
        "sv=sv.fit(X_train, y_train)\n",
        "print_score(sv, X_train, X_test, y_train, y_test, train=True)"
      ],
      "execution_count": null,
      "outputs": [
        {
          "output_type": "stream",
          "text": [
            "Train Result:\n",
            "\n",
            "accuracy score: 0.9764\n",
            "\n",
            "Classification Report: \n",
            "               precision    recall  f1-score   support\n",
            "\n",
            "         0.0       0.98      1.00      0.99      9090\n",
            "         1.0       0.95      0.79      0.86       932\n",
            "\n",
            "    accuracy                           0.98     10022\n",
            "   macro avg       0.96      0.89      0.92     10022\n",
            "weighted avg       0.98      0.98      0.98     10022\n",
            "\n",
            "\n",
            "Confusion Matrix: \n",
            " [[9050   40]\n",
            " [ 197  735]]\n",
            "\n",
            "ROC AUC: 0.8921\n",
            "\n",
            "Average Accuracy: \t 0.9756\n",
            "Accuracy SD: \t\t 0.0053\n"
          ],
          "name": "stdout"
        }
      ]
    },
    {
      "cell_type": "code",
      "metadata": {
        "colab": {
          "base_uri": "https://localhost:8080/"
        },
        "id": "PdfupBUOKB7d",
        "outputId": "e5be1c27-947e-4919-985f-aa08da5d8a4a"
      },
      "source": [
        "#Naive Bayes Classification\n",
        "from sklearn.naive_bayes import GaussianNB\n",
        "nb =GaussianNB()\n",
        "nb=nb.fit(X_train, y_train)\n",
        "print_score(nb, X_train, X_test, y_train, y_test, train=True)"
      ],
      "execution_count": null,
      "outputs": [
        {
          "output_type": "stream",
          "text": [
            "Train Result:\n",
            "\n",
            "accuracy score: 0.9436\n",
            "\n",
            "Classification Report: \n",
            "               precision    recall  f1-score   support\n",
            "\n",
            "         0.0       0.98      0.95      0.97      9090\n",
            "         1.0       0.65      0.84      0.74       932\n",
            "\n",
            "    accuracy                           0.94     10022\n",
            "   macro avg       0.82      0.90      0.85     10022\n",
            "weighted avg       0.95      0.94      0.95     10022\n",
            "\n",
            "\n",
            "Confusion Matrix: \n",
            " [[8672  418]\n",
            " [ 147  785]]\n",
            "\n",
            "ROC AUC: 0.8981\n",
            "\n",
            "Average Accuracy: \t 0.9435\n",
            "Accuracy SD: \t\t 0.0064\n"
          ],
          "name": "stdout"
        }
      ]
    },
    {
      "cell_type": "code",
      "metadata": {
        "id": "PeLV75ifuK-c",
        "colab": {
          "base_uri": "https://localhost:8080/"
        },
        "outputId": "d8e634ed-6ddd-41de-cff8-f58629f5e181"
      },
      "source": [
        "#STANDARDIZATION\n",
        "\n",
        "import os\n",
        "import numpy as np\n",
        "import pandas as pd\n",
        "from sklearn.datasets import make_classification\n",
        "from sklearn.impute import SimpleImputer\n",
        "from sklearn.preprocessing import StandardScaler\n",
        "data = pd.read_csv(\"pulsar_data.csv\")\n",
        "imputer = SimpleImputer(fill_value=np.nan, strategy='mean')\n",
        "X = imputer.fit_transform(data)\n",
        "data = pd.DataFrame(X, columns=data.columns)\n",
        "x = data.iloc[:,:-1].values\n",
        "y = data.iloc[:,-1].values\n",
        "x = pd.DataFrame(x)\n",
        "y = pd.Series(y)\n",
        "X_train, X_test, y_train, y_test = train_test_split(x, y,\n",
        "                                                    train_size=0.8,\n",
        "                                              random_state=101)\n",
        "print(X_train)\n",
        "\n",
        "\n"
      ],
      "execution_count": null,
      "outputs": [
        {
          "output_type": "stream",
          "text": [
            "                0          1         2  ...          5          6           7\n",
            "4331   123.921875  51.760357  0.111931  ...  26.351318   9.033435  105.525779\n",
            "10688   91.250000  41.162787  0.478548  ...  15.712434   8.429801   89.606289\n",
            "12183   98.015625  44.846611  0.649317  ...  19.899108   7.078860   58.062486\n",
            "8398   143.257812  52.446885 -0.071339  ...  46.690946   3.367872    9.980539\n",
            "6015    84.773438  40.689797  0.763434  ...  36.351589   3.975499   15.625425\n",
            "...           ...        ...       ...  ...        ...        ...         ...\n",
            "599    110.812500  51.641455  0.346589  ...  19.983003   6.547905   50.614000\n",
            "5695   107.398438  42.822917  0.478548  ...  21.874631   7.710425   63.850019\n",
            "8006   102.328125  42.942569  0.289632  ...  12.250591  13.765878  216.923344\n",
            "1361    19.031250  33.354146  5.455235  ...  59.001793   1.180934    1.319287\n",
            "1547   121.695312  46.740066  0.154725  ...  18.537972   8.883731   90.029494\n",
            "\n",
            "[10022 rows x 8 columns]\n"
          ],
          "name": "stdout"
        }
      ]
    },
    {
      "cell_type": "code",
      "metadata": {
        "colab": {
          "base_uri": "https://localhost:8080/"
        },
        "id": "E-grpJGHdp28",
        "outputId": "d3a813ba-db16-4db6-8b55-d400d150a6c4"
      },
      "source": [
        "for i in range(8):\n",
        "    \n",
        "    # fit on training data column\n",
        "    scale = StandardScaler().fit(X_train[[i]])\n",
        "    \n",
        "    # transform the training data column\n",
        "    X_train[i] = scale.transform(X_train[[i]])\n",
        "    \n",
        "    # transform the testing data column\n",
        "    X_test[i] = scale.transform(X_test[[i]])\n",
        "\n",
        "print(X_train)"
      ],
      "execution_count": null,
      "outputs": [
        {
          "output_type": "stream",
          "text": [
            "              0         1         2  ...         5         6         7\n",
            "4331   0.502247  0.773050 -0.372960  ... -0.003053  0.160980  0.006487\n",
            "10688 -0.761821 -0.784411 -0.002802  ... -0.574069  0.027270 -0.148678\n",
            "12183 -0.500060 -0.243022  0.169617  ... -0.349360 -0.271977 -0.456132\n",
            "8398   1.250350  0.873944 -0.558002  ...  1.088627 -1.093999 -0.924780\n",
            "6015  -1.012397 -0.853923  0.284836  ...  0.533687 -0.959403 -0.869760\n",
            "...         ...       ...       ...  ...       ...       ...       ...\n",
            "599   -0.004952  0.755575 -0.136036  ... -0.344857 -0.389589 -0.528731\n",
            "5695  -0.137041 -0.540432 -0.002802  ... -0.243328 -0.132080 -0.399721\n",
            "8006  -0.333210 -0.522847 -0.193543  ... -0.759875  1.209264  1.092265\n",
            "1361  -3.555948 -1.931999  5.021966  ...  1.749381 -1.578427 -1.009201\n",
            "1547   0.416102  0.035248 -0.329753  ... -0.422415  0.127820 -0.144553\n",
            "\n",
            "[10022 rows x 8 columns]\n"
          ],
          "name": "stdout"
        },
        {
          "output_type": "stream",
          "text": [
            "/usr/local/lib/python3.6/dist-packages/ipykernel_launcher.py:7: SettingWithCopyWarning: \n",
            "A value is trying to be set on a copy of a slice from a DataFrame.\n",
            "Try using .loc[row_indexer,col_indexer] = value instead\n",
            "\n",
            "See the caveats in the documentation: https://pandas.pydata.org/pandas-docs/stable/user_guide/indexing.html#returning-a-view-versus-a-copy\n",
            "  import sys\n",
            "/usr/local/lib/python3.6/dist-packages/ipykernel_launcher.py:10: SettingWithCopyWarning: \n",
            "A value is trying to be set on a copy of a slice from a DataFrame.\n",
            "Try using .loc[row_indexer,col_indexer] = value instead\n",
            "\n",
            "See the caveats in the documentation: https://pandas.pydata.org/pandas-docs/stable/user_guide/indexing.html#returning-a-view-versus-a-copy\n",
            "  # Remove the CWD from sys.path while we load stuff.\n",
            "/usr/local/lib/python3.6/dist-packages/ipykernel_launcher.py:7: SettingWithCopyWarning: \n",
            "A value is trying to be set on a copy of a slice from a DataFrame.\n",
            "Try using .loc[row_indexer,col_indexer] = value instead\n",
            "\n",
            "See the caveats in the documentation: https://pandas.pydata.org/pandas-docs/stable/user_guide/indexing.html#returning-a-view-versus-a-copy\n",
            "  import sys\n",
            "/usr/local/lib/python3.6/dist-packages/ipykernel_launcher.py:10: SettingWithCopyWarning: \n",
            "A value is trying to be set on a copy of a slice from a DataFrame.\n",
            "Try using .loc[row_indexer,col_indexer] = value instead\n",
            "\n",
            "See the caveats in the documentation: https://pandas.pydata.org/pandas-docs/stable/user_guide/indexing.html#returning-a-view-versus-a-copy\n",
            "  # Remove the CWD from sys.path while we load stuff.\n",
            "/usr/local/lib/python3.6/dist-packages/ipykernel_launcher.py:7: SettingWithCopyWarning: \n",
            "A value is trying to be set on a copy of a slice from a DataFrame.\n",
            "Try using .loc[row_indexer,col_indexer] = value instead\n",
            "\n",
            "See the caveats in the documentation: https://pandas.pydata.org/pandas-docs/stable/user_guide/indexing.html#returning-a-view-versus-a-copy\n",
            "  import sys\n",
            "/usr/local/lib/python3.6/dist-packages/ipykernel_launcher.py:10: SettingWithCopyWarning: \n",
            "A value is trying to be set on a copy of a slice from a DataFrame.\n",
            "Try using .loc[row_indexer,col_indexer] = value instead\n",
            "\n",
            "See the caveats in the documentation: https://pandas.pydata.org/pandas-docs/stable/user_guide/indexing.html#returning-a-view-versus-a-copy\n",
            "  # Remove the CWD from sys.path while we load stuff.\n",
            "/usr/local/lib/python3.6/dist-packages/ipykernel_launcher.py:7: SettingWithCopyWarning: \n",
            "A value is trying to be set on a copy of a slice from a DataFrame.\n",
            "Try using .loc[row_indexer,col_indexer] = value instead\n",
            "\n",
            "See the caveats in the documentation: https://pandas.pydata.org/pandas-docs/stable/user_guide/indexing.html#returning-a-view-versus-a-copy\n",
            "  import sys\n",
            "/usr/local/lib/python3.6/dist-packages/ipykernel_launcher.py:10: SettingWithCopyWarning: \n",
            "A value is trying to be set on a copy of a slice from a DataFrame.\n",
            "Try using .loc[row_indexer,col_indexer] = value instead\n",
            "\n",
            "See the caveats in the documentation: https://pandas.pydata.org/pandas-docs/stable/user_guide/indexing.html#returning-a-view-versus-a-copy\n",
            "  # Remove the CWD from sys.path while we load stuff.\n",
            "/usr/local/lib/python3.6/dist-packages/ipykernel_launcher.py:7: SettingWithCopyWarning: \n",
            "A value is trying to be set on a copy of a slice from a DataFrame.\n",
            "Try using .loc[row_indexer,col_indexer] = value instead\n",
            "\n",
            "See the caveats in the documentation: https://pandas.pydata.org/pandas-docs/stable/user_guide/indexing.html#returning-a-view-versus-a-copy\n",
            "  import sys\n",
            "/usr/local/lib/python3.6/dist-packages/ipykernel_launcher.py:10: SettingWithCopyWarning: \n",
            "A value is trying to be set on a copy of a slice from a DataFrame.\n",
            "Try using .loc[row_indexer,col_indexer] = value instead\n",
            "\n",
            "See the caveats in the documentation: https://pandas.pydata.org/pandas-docs/stable/user_guide/indexing.html#returning-a-view-versus-a-copy\n",
            "  # Remove the CWD from sys.path while we load stuff.\n",
            "/usr/local/lib/python3.6/dist-packages/ipykernel_launcher.py:7: SettingWithCopyWarning: \n",
            "A value is trying to be set on a copy of a slice from a DataFrame.\n",
            "Try using .loc[row_indexer,col_indexer] = value instead\n",
            "\n",
            "See the caveats in the documentation: https://pandas.pydata.org/pandas-docs/stable/user_guide/indexing.html#returning-a-view-versus-a-copy\n",
            "  import sys\n",
            "/usr/local/lib/python3.6/dist-packages/ipykernel_launcher.py:10: SettingWithCopyWarning: \n",
            "A value is trying to be set on a copy of a slice from a DataFrame.\n",
            "Try using .loc[row_indexer,col_indexer] = value instead\n",
            "\n",
            "See the caveats in the documentation: https://pandas.pydata.org/pandas-docs/stable/user_guide/indexing.html#returning-a-view-versus-a-copy\n",
            "  # Remove the CWD from sys.path while we load stuff.\n",
            "/usr/local/lib/python3.6/dist-packages/ipykernel_launcher.py:7: SettingWithCopyWarning: \n",
            "A value is trying to be set on a copy of a slice from a DataFrame.\n",
            "Try using .loc[row_indexer,col_indexer] = value instead\n",
            "\n",
            "See the caveats in the documentation: https://pandas.pydata.org/pandas-docs/stable/user_guide/indexing.html#returning-a-view-versus-a-copy\n",
            "  import sys\n",
            "/usr/local/lib/python3.6/dist-packages/ipykernel_launcher.py:10: SettingWithCopyWarning: \n",
            "A value is trying to be set on a copy of a slice from a DataFrame.\n",
            "Try using .loc[row_indexer,col_indexer] = value instead\n",
            "\n",
            "See the caveats in the documentation: https://pandas.pydata.org/pandas-docs/stable/user_guide/indexing.html#returning-a-view-versus-a-copy\n",
            "  # Remove the CWD from sys.path while we load stuff.\n",
            "/usr/local/lib/python3.6/dist-packages/ipykernel_launcher.py:7: SettingWithCopyWarning: \n",
            "A value is trying to be set on a copy of a slice from a DataFrame.\n",
            "Try using .loc[row_indexer,col_indexer] = value instead\n",
            "\n",
            "See the caveats in the documentation: https://pandas.pydata.org/pandas-docs/stable/user_guide/indexing.html#returning-a-view-versus-a-copy\n",
            "  import sys\n",
            "/usr/local/lib/python3.6/dist-packages/ipykernel_launcher.py:10: SettingWithCopyWarning: \n",
            "A value is trying to be set on a copy of a slice from a DataFrame.\n",
            "Try using .loc[row_indexer,col_indexer] = value instead\n",
            "\n",
            "See the caveats in the documentation: https://pandas.pydata.org/pandas-docs/stable/user_guide/indexing.html#returning-a-view-versus-a-copy\n",
            "  # Remove the CWD from sys.path while we load stuff.\n"
          ],
          "name": "stderr"
        }
      ]
    },
    {
      "cell_type": "code",
      "metadata": {
        "colab": {
          "base_uri": "https://localhost:8080/"
        },
        "id": "2Mda2FcxSiXa",
        "outputId": "17b8137b-ac3c-4426-e37a-43ea6c2b50fc"
      },
      "source": [
        "#RANDOM FOREST CLASSIFIER\n",
        "from sklearn.ensemble import RandomForestClassifier\n",
        "rmf = RandomForestClassifier(max_depth=3, random_state=0)\n",
        "rmf=rmf.fit(X_train, y_train)\n",
        "print_score(rmf, X_train, X_test, y_train, y_test, train=True)"
      ],
      "execution_count": null,
      "outputs": [
        {
          "output_type": "stream",
          "text": [
            "Train Result:\n",
            "\n",
            "accuracy score: 0.9772\n",
            "\n",
            "Classification Report: \n",
            "               precision    recall  f1-score   support\n",
            "\n",
            "         0.0       0.98      1.00      0.99      9090\n",
            "         1.0       0.94      0.80      0.87       932\n",
            "\n",
            "    accuracy                           0.98     10022\n",
            "   macro avg       0.96      0.90      0.93     10022\n",
            "weighted avg       0.98      0.98      0.98     10022\n",
            "\n",
            "\n",
            "Confusion Matrix: \n",
            " [[9045   45]\n",
            " [ 184  748]]\n",
            "\n",
            "ROC AUC: 0.8988\n",
            "\n",
            "Average Accuracy: \t 0.9757\n",
            "Accuracy SD: \t\t 0.0053\n"
          ],
          "name": "stdout"
        }
      ]
    },
    {
      "cell_type": "code",
      "metadata": {
        "colab": {
          "base_uri": "https://localhost:8080/"
        },
        "id": "sMwEHrE01_4L",
        "outputId": "d309288d-fe49-4c38-b4a4-f2426515117e"
      },
      "source": [
        "#KNN\n",
        "from sklearn.neighbors import KNeighborsClassifier \n",
        "knn_clf = KNeighborsClassifier(n_neighbors=5, p=2, metric='minkowski')\n",
        "knn_clf=knn_clf.fit(X_train, y_train) \n",
        "print_score(knn_clf, X_train, X_test, y_train, y_test, train=True)"
      ],
      "execution_count": null,
      "outputs": [
        {
          "output_type": "stream",
          "text": [
            "Train Result:\n",
            "\n",
            "accuracy score: 0.9790\n",
            "\n",
            "Classification Report: \n",
            "               precision    recall  f1-score   support\n",
            "\n",
            "         0.0       0.98      0.99      0.99      9090\n",
            "         1.0       0.94      0.83      0.88       932\n",
            "\n",
            "    accuracy                           0.98     10022\n",
            "   macro avg       0.96      0.91      0.93     10022\n",
            "weighted avg       0.98      0.98      0.98     10022\n",
            "\n",
            "\n",
            "Confusion Matrix: \n",
            " [[9040   50]\n",
            " [ 160  772]]\n",
            "\n",
            "ROC AUC: 0.9114\n",
            "\n",
            "Average Accuracy: \t 0.9758\n",
            "Accuracy SD: \t\t 0.0045\n"
          ],
          "name": "stdout"
        }
      ]
    },
    {
      "cell_type": "code",
      "metadata": {
        "colab": {
          "base_uri": "https://localhost:8080/"
        },
        "id": "ERue_jxpDIWt",
        "outputId": "fe3bed2a-51d4-41ee-8910-fa80b3157b4f"
      },
      "source": [
        "#SVM \n",
        "from sklearn import svm\n",
        "sv = svm.SVC()\n",
        "sv=sv.fit(X_train, y_train)\n",
        "print_score(sv, X_train, X_test, y_train, y_test, train=True)"
      ],
      "execution_count": null,
      "outputs": [
        {
          "output_type": "stream",
          "text": [
            "Train Result:\n",
            "\n",
            "accuracy score: 0.9787\n",
            "\n",
            "Classification Report: \n",
            "               precision    recall  f1-score   support\n",
            "\n",
            "         0.0       0.98      1.00      0.99      9090\n",
            "         1.0       0.95      0.81      0.88       932\n",
            "\n",
            "    accuracy                           0.98     10022\n",
            "   macro avg       0.97      0.90      0.93     10022\n",
            "weighted avg       0.98      0.98      0.98     10022\n",
            "\n",
            "\n",
            "Confusion Matrix: \n",
            " [[9050   40]\n",
            " [ 173  759]]\n",
            "\n",
            "ROC AUC: 0.9050\n",
            "\n",
            "Average Accuracy: \t 0.9776\n",
            "Accuracy SD: \t\t 0.0047\n"
          ],
          "name": "stdout"
        }
      ]
    },
    {
      "cell_type": "code",
      "metadata": {
        "colab": {
          "base_uri": "https://localhost:8080/"
        },
        "id": "pmkpqk9NKcEW",
        "outputId": "5017650b-3334-4971-e4f7-15c81c861c04"
      },
      "source": [
        "#Naive Bayes Classification\n",
        "from sklearn.naive_bayes import GaussianNB\n",
        "nb =GaussianNB()\n",
        "nb=nb.fit(X_train, y_train)\n",
        "print_score(nb, X_train, X_test, y_train, y_test, train=True)"
      ],
      "execution_count": null,
      "outputs": [
        {
          "output_type": "stream",
          "text": [
            "Train Result:\n",
            "\n",
            "accuracy score: 0.9436\n",
            "\n",
            "Classification Report: \n",
            "               precision    recall  f1-score   support\n",
            "\n",
            "         0.0       0.98      0.95      0.97      9090\n",
            "         1.0       0.65      0.84      0.74       932\n",
            "\n",
            "    accuracy                           0.94     10022\n",
            "   macro avg       0.82      0.90      0.85     10022\n",
            "weighted avg       0.95      0.94      0.95     10022\n",
            "\n",
            "\n",
            "Confusion Matrix: \n",
            " [[8672  418]\n",
            " [ 147  785]]\n",
            "\n",
            "ROC AUC: 0.8981\n",
            "\n",
            "Average Accuracy: \t 0.9435\n",
            "Accuracy SD: \t\t 0.0064\n"
          ],
          "name": "stdout"
        }
      ]
    },
    {
      "cell_type": "markdown",
      "metadata": {
        "id": "Ti6wHnI-ifWo"
      },
      "source": [
        "PERFORMING RANDOM FOREST CLASSIFIER WITH BEST PREPOCESSING TECHNIQUES"
      ]
    },
    {
      "cell_type": "code",
      "metadata": {
        "colab": {
          "base_uri": "https://localhost:8080/"
        },
        "id": "t97Y8HylitNe",
        "outputId": "0c2595bd-7ff5-45e3-c500-1b5d9b2397cb"
      },
      "source": [
        "import os\n",
        "import numpy as np\n",
        "import pandas as pd\n",
        "from imblearn.under_sampling import RandomUnderSampler\n",
        "data = pd.read_csv(\"pulsar_data.csv\")\n",
        "data.dropna(inplace = True)\n",
        "x = data.iloc[:,:-1].values\n",
        "y = data.iloc[:,-1].values\n",
        "x = pd.DataFrame(x)\n",
        "y = pd.Series(y)\n",
        "undersample = RandomUnderSampler(sampling_strategy='majority')\n",
        "x,y = undersample.fit_resample(x, y)\n",
        "X_train, X_test, y_train, y_test = train_test_split(x, y,\n",
        "                                                    train_size=0.8,\n",
        "                                              random_state=101)\n",
        "norm=MinMaxScaler().fit(X_train)\n",
        "X_train=norm.transform(X_train)\n",
        "X_test=norm.transform(X_test)\n",
        "\n",
        "from sklearn.ensemble import RandomForestClassifier\n",
        "rmf = RandomForestClassifier(max_depth=3, random_state=0)\n",
        "rmf=rmf.fit(X_train, y_train)\n",
        "print_score(rmf, X_train, X_test, y_train, y_test, train=True)"
      ],
      "execution_count": null,
      "outputs": [
        {
          "output_type": "stream",
          "text": [
            "/usr/local/lib/python3.6/dist-packages/sklearn/externals/six.py:31: FutureWarning: The module is deprecated in version 0.21 and will be removed in version 0.23 since we've dropped support for Python 2.7. Please rely on the official version of six (https://pypi.org/project/six/).\n",
            "  \"(https://pypi.org/project/six/).\", FutureWarning)\n",
            "/usr/local/lib/python3.6/dist-packages/sklearn/utils/deprecation.py:144: FutureWarning: The sklearn.neighbors.base module is  deprecated in version 0.22 and will be removed in version 0.24. The corresponding classes / functions should instead be imported from sklearn.neighbors. Anything that cannot be imported from sklearn.neighbors is now part of the private API.\n",
            "  warnings.warn(message, FutureWarning)\n",
            "/usr/local/lib/python3.6/dist-packages/sklearn/utils/deprecation.py:87: FutureWarning: Function safe_indexing is deprecated; safe_indexing is deprecated in version 0.22 and will be removed in version 0.24.\n",
            "  warnings.warn(msg, category=FutureWarning)\n"
          ],
          "name": "stderr"
        },
        {
          "output_type": "stream",
          "text": [
            "Train Result:\n",
            "\n",
            "accuracy score: 0.9382\n",
            "\n",
            "Classification Report: \n",
            "               precision    recall  f1-score   support\n",
            "\n",
            "         0.0       0.90      0.98      0.94       678\n",
            "         1.0       0.98      0.90      0.94       682\n",
            "\n",
            "    accuracy                           0.94      1360\n",
            "   macro avg       0.94      0.94      0.94      1360\n",
            "weighted avg       0.94      0.94      0.94      1360\n",
            "\n",
            "\n",
            "Confusion Matrix: \n",
            " [[665  13]\n",
            " [ 71 611]]\n",
            "\n",
            "ROC AUC: 0.9384\n",
            "\n",
            "Average Accuracy: \t 0.9316\n",
            "Accuracy SD: \t\t 0.0195\n"
          ],
          "name": "stdout"
        }
      ]
    },
    {
      "cell_type": "markdown",
      "metadata": {
        "id": "2OnUNUFL2vUq"
      },
      "source": [
        "PERFORMING KNN ALGORITHM WITH BEST PREPOCESSING TECHNIQUES"
      ]
    },
    {
      "cell_type": "code",
      "metadata": {
        "colab": {
          "base_uri": "https://localhost:8080/"
        },
        "id": "1hdBngP420kM",
        "outputId": "f531e017-ee86-4fa4-a04e-c4ae8002b0ca"
      },
      "source": [
        "import os\n",
        "import numpy as np\n",
        "import pandas as pd\n",
        "from imblearn.over_sampling import RandomOverSampler\n",
        "data = pd.read_csv(\"pulsar_data.csv\")\n",
        "data.dropna(inplace = True)\n",
        "x = data.iloc[:,:-1].values\n",
        "y = data.iloc[:,-1].values\n",
        "x = pd.DataFrame(x)\n",
        "y = pd.Series(y)\n",
        "oversample = RandomOverSampler(sampling_strategy='minority') #OVER SAMPLING\n",
        "x,y = oversample.fit_resample(x, y)\n",
        "\n",
        "X_train, X_test, y_train, y_test = train_test_split(x, y,\n",
        "                                                    train_size=0.8,\n",
        "                                              random_state=101)\n",
        "for i in range(8):\n",
        "    \n",
        "    # fit on training data column\n",
        "    scale = StandardScaler().fit(X_train[[i]])\n",
        "    \n",
        "    # transform the training data column\n",
        "    X_train[i] = scale.transform(X_train[[i]])\n",
        "    \n",
        "    # transform the testing data column\n",
        "    X_test[i] = scale.transform(X_test[[i]])\n",
        "\n",
        "\n",
        "#KNN\n",
        "from sklearn.neighbors import KNeighborsClassifier \n",
        "knn_clf = KNeighborsClassifier(n_neighbors=5, p=2, metric='minkowski')\n",
        "knn_clf=knn_clf.fit(X_train, y_train) \n",
        "print_score(knn_clf, X_train, X_test, y_train, y_test, train=True)"
      ],
      "execution_count": null,
      "outputs": [
        {
          "output_type": "stream",
          "text": [
            "/usr/local/lib/python3.6/dist-packages/sklearn/utils/deprecation.py:87: FutureWarning: Function safe_indexing is deprecated; safe_indexing is deprecated in version 0.22 and will be removed in version 0.24.\n",
            "  warnings.warn(msg, category=FutureWarning)\n"
          ],
          "name": "stderr"
        },
        {
          "output_type": "stream",
          "text": [
            "Train Result:\n",
            "\n",
            "accuracy score: 0.9782\n",
            "\n",
            "Classification Report: \n",
            "               precision    recall  f1-score   support\n",
            "\n",
            "         0.0       1.00      0.96      0.98      6733\n",
            "         1.0       0.96      1.00      0.98      6743\n",
            "\n",
            "    accuracy                           0.98     13476\n",
            "   macro avg       0.98      0.98      0.98     13476\n",
            "weighted avg       0.98      0.98      0.98     13476\n",
            "\n",
            "\n",
            "Confusion Matrix: \n",
            " [[6445  288]\n",
            " [   6 6737]]\n",
            "\n",
            "ROC AUC: 0.9782\n",
            "\n",
            "Average Accuracy: \t 0.9656\n",
            "Accuracy SD: \t\t 0.0042\n"
          ],
          "name": "stdout"
        }
      ]
    },
    {
      "cell_type": "markdown",
      "metadata": {
        "id": "Q9cXO-ywEX35"
      },
      "source": [
        "PERFORMING SVM ALGORITHM WITH BEST PREPOCESSING TECHNIQUES"
      ]
    },
    {
      "cell_type": "code",
      "metadata": {
        "colab": {
          "base_uri": "https://localhost:8080/"
        },
        "id": "O7qA3R_mEEWE",
        "outputId": "1c572e50-ee71-4dde-adfa-4eabed8204db"
      },
      "source": [
        "import os\n",
        "import numpy as np\n",
        "import pandas as pd\n",
        "from imblearn.under_sampling import RandomUnderSampler\n",
        "data = pd.read_csv(\"pulsar_data.csv\")\n",
        "data.dropna(inplace = True)\n",
        "x = data.iloc[:,:-1].values\n",
        "y = data.iloc[:,-1].values\n",
        "x = pd.DataFrame(x)\n",
        "y = pd.Series(y)\n",
        "undersample = RandomUnderSampler(sampling_strategy='majority')\n",
        "x,y = undersample.fit_resample(x, y)\n",
        "X_train, X_test, y_train, y_test = train_test_split(x, y,\n",
        "                                                    train_size=0.8,\n",
        "                                              random_state=101)\n",
        "for i in range(8):\n",
        "    \n",
        "    # fit on training data column\n",
        "    scale = StandardScaler().fit(X_train[[i]])\n",
        "    \n",
        "    # transform the training data column\n",
        "    X_train[i] = scale.transform(X_train[[i]])\n",
        "    \n",
        "    # transform the testing data column\n",
        "    X_test[i] = scale.transform(X_test[[i]])\n",
        "\n",
        "#SVM \n",
        "from sklearn import svm\n",
        "sv = svm.SVC()\n",
        "sv=sv.fit(X_train, y_train)\n",
        "print_score(sv, X_train, X_test, y_train, y_test, train=True)"
      ],
      "execution_count": null,
      "outputs": [
        {
          "output_type": "stream",
          "text": [
            "/usr/local/lib/python3.6/dist-packages/sklearn/utils/deprecation.py:87: FutureWarning: Function safe_indexing is deprecated; safe_indexing is deprecated in version 0.22 and will be removed in version 0.24.\n",
            "  warnings.warn(msg, category=FutureWarning)\n"
          ],
          "name": "stderr"
        },
        {
          "output_type": "stream",
          "text": [
            "Train Result:\n",
            "\n",
            "accuracy score: 0.9176\n",
            "\n",
            "Classification Report: \n",
            "               precision    recall  f1-score   support\n",
            "\n",
            "         0.0       0.89      0.96      0.92       678\n",
            "         1.0       0.95      0.88      0.91       682\n",
            "\n",
            "    accuracy                           0.92      1360\n",
            "   macro avg       0.92      0.92      0.92      1360\n",
            "weighted avg       0.92      0.92      0.92      1360\n",
            "\n",
            "\n",
            "Confusion Matrix: \n",
            " [[648  30]\n",
            " [ 82 600]]\n",
            "\n",
            "ROC AUC: 0.9178\n",
            "\n",
            "Average Accuracy: \t 0.9125\n",
            "Accuracy SD: \t\t 0.0149\n"
          ],
          "name": "stdout"
        }
      ]
    },
    {
      "cell_type": "markdown",
      "metadata": {
        "id": "ihgENkopLnFT"
      },
      "source": [
        "PERFORMING NAIVE BAYES CLASSIFICATION ALGORITHM WITH BEST PREPOCESSING TECHNIQUES"
      ]
    },
    {
      "cell_type": "code",
      "metadata": {
        "colab": {
          "base_uri": "https://localhost:8080/"
        },
        "id": "EITtpsfZLZtn",
        "outputId": "23cbe412-8a96-4100-97e4-f6a39bdd7346"
      },
      "source": [
        "import os\n",
        "import numpy as np\n",
        "import pandas as pd\n",
        "from imblearn.over_sampling import RandomOverSampler\n",
        "data = pd.read_csv(\"pulsar_data.csv\")\n",
        "data.dropna(inplace = True)\n",
        "x = data.iloc[:,:-1].values\n",
        "y = data.iloc[:,-1].values\n",
        "x = pd.DataFrame(x)\n",
        "y = pd.Series(y)\n",
        "oversample = RandomOverSampler(sampling_strategy='minority') #OVER SAMPLING\n",
        "x,y = oversample.fit_resample(x, y)\n",
        "\n",
        "X_train, X_test, y_train, y_test = train_test_split(x, y,\n",
        "                                                    train_size=0.8,\n",
        "                                              random_state=101)\n",
        "for i in range(8):\n",
        "    \n",
        "    # fit on training data column\n",
        "    scale = StandardScaler().fit(X_train[[i]])\n",
        "    \n",
        "    # transform the training data column\n",
        "    X_train[i] = scale.transform(X_train[[i]])\n",
        "    \n",
        "    # transform the testing data column\n",
        "    X_test[i] = scale.transform(X_test[[i]])\n",
        "\n",
        "#Naive Bayes Classification\n",
        "from sklearn.naive_bayes import GaussianNB\n",
        "nb =GaussianNB()\n",
        "nb=nb.fit(X_train, y_train)\n",
        "print_score(nb, X_train, X_test, y_train, y_test, train=True)"
      ],
      "execution_count": null,
      "outputs": [
        {
          "output_type": "stream",
          "text": [
            "Train Result:\n",
            "\n",
            "accuracy score: 0.9043\n",
            "\n",
            "Classification Report: \n",
            "               precision    recall  f1-score   support\n",
            "\n",
            "         0.0       0.87      0.95      0.91      6733\n",
            "         1.0       0.94      0.86      0.90      6743\n",
            "\n",
            "    accuracy                           0.90     13476\n",
            "   macro avg       0.91      0.90      0.90     13476\n",
            "weighted avg       0.91      0.90      0.90     13476\n",
            "\n",
            "\n",
            "Confusion Matrix: \n",
            " [[6367  366]\n",
            " [ 923 5820]]\n",
            "\n",
            "ROC AUC: 0.9044\n",
            "\n",
            "Average Accuracy: \t 0.9038\n",
            "Accuracy SD: \t\t 0.0067\n"
          ],
          "name": "stdout"
        },
        {
          "output_type": "stream",
          "text": [
            "/usr/local/lib/python3.6/dist-packages/sklearn/utils/deprecation.py:87: FutureWarning: Function safe_indexing is deprecated; safe_indexing is deprecated in version 0.22 and will be removed in version 0.24.\n",
            "  warnings.warn(msg, category=FutureWarning)\n"
          ],
          "name": "stderr"
        }
      ]
    }
  ]
}