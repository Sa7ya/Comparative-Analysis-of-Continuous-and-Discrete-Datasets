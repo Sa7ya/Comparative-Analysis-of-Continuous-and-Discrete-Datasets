{
  "nbformat": 4,
  "nbformat_minor": 0,
  "metadata": {
    "colab": {
      "name": "PRODWDM.ipynb",
      "provenance": [],
      "collapsed_sections": []
    },
    "kernelspec": {
      "name": "python3",
      "display_name": "Python 3"
    }
  },
  "cells": [
    {
      "cell_type": "code",
      "metadata": {
        "id": "rkTlJK43To9L"
      },
      "source": [
        "import numpy as np\n",
        "import pandas as pd\n",
        "import sklearn\n",
        "import seaborn as sn\n",
        "import matplotlib.pyplot as plt\n",
        "import seaborn as sns\n",
        "from scipy import stats\n",
        "from scipy.stats import norm, skew \n",
        "%matplotlib inline\n",
        "\n",
        "import warnings\n",
        "def ignore_warn(*args, **kwargs):\n",
        "    pass\n",
        "warnings.warn = ignore_warn #ignore annoying warning (from sklearn and seaborn)"
      ],
      "execution_count": null,
      "outputs": []
    },
    {
      "cell_type": "code",
      "metadata": {
        "colab": {
          "base_uri": "https://localhost:8080/",
          "height": 221
        },
        "id": "ylzgBbtlUgdm",
        "outputId": "7e236947-f0ca-40c7-fd48-6153e89805e8"
      },
      "source": [
        "data = pd.read_csv(\"/content/Video_Games_Sales_as_at_22_Dec_2016.csv\")\n",
        "\n",
        "# Examine the data types of every variable\n",
        "\n",
        "data.head()"
      ],
      "execution_count": null,
      "outputs": [
        {
          "output_type": "execute_result",
          "data": {
            "text/html": [
              "<div>\n",
              "<style scoped>\n",
              "    .dataframe tbody tr th:only-of-type {\n",
              "        vertical-align: middle;\n",
              "    }\n",
              "\n",
              "    .dataframe tbody tr th {\n",
              "        vertical-align: top;\n",
              "    }\n",
              "\n",
              "    .dataframe thead th {\n",
              "        text-align: right;\n",
              "    }\n",
              "</style>\n",
              "<table border=\"1\" class=\"dataframe\">\n",
              "  <thead>\n",
              "    <tr style=\"text-align: right;\">\n",
              "      <th></th>\n",
              "      <th>Name</th>\n",
              "      <th>Platform</th>\n",
              "      <th>Year_of_Release</th>\n",
              "      <th>Genre</th>\n",
              "      <th>Publisher</th>\n",
              "      <th>NA_Sales</th>\n",
              "      <th>EU_Sales</th>\n",
              "      <th>JP_Sales</th>\n",
              "      <th>Other_Sales</th>\n",
              "      <th>Global_Sales</th>\n",
              "      <th>Critic_Score</th>\n",
              "      <th>Critic_Count</th>\n",
              "      <th>User_Score</th>\n",
              "      <th>User_Count</th>\n",
              "      <th>Developer</th>\n",
              "      <th>Rating</th>\n",
              "    </tr>\n",
              "  </thead>\n",
              "  <tbody>\n",
              "    <tr>\n",
              "      <th>0</th>\n",
              "      <td>Wii Sports</td>\n",
              "      <td>Wii</td>\n",
              "      <td>2006.0</td>\n",
              "      <td>Sports</td>\n",
              "      <td>Nintendo</td>\n",
              "      <td>41.36</td>\n",
              "      <td>28.96</td>\n",
              "      <td>3.77</td>\n",
              "      <td>8.45</td>\n",
              "      <td>82.53</td>\n",
              "      <td>76.0</td>\n",
              "      <td>51.0</td>\n",
              "      <td>8</td>\n",
              "      <td>322.0</td>\n",
              "      <td>Nintendo</td>\n",
              "      <td>E</td>\n",
              "    </tr>\n",
              "    <tr>\n",
              "      <th>1</th>\n",
              "      <td>Super Mario Bros.</td>\n",
              "      <td>NES</td>\n",
              "      <td>1985.0</td>\n",
              "      <td>Platform</td>\n",
              "      <td>Nintendo</td>\n",
              "      <td>29.08</td>\n",
              "      <td>3.58</td>\n",
              "      <td>6.81</td>\n",
              "      <td>0.77</td>\n",
              "      <td>40.24</td>\n",
              "      <td>NaN</td>\n",
              "      <td>NaN</td>\n",
              "      <td>NaN</td>\n",
              "      <td>NaN</td>\n",
              "      <td>NaN</td>\n",
              "      <td>NaN</td>\n",
              "    </tr>\n",
              "    <tr>\n",
              "      <th>2</th>\n",
              "      <td>Mario Kart Wii</td>\n",
              "      <td>Wii</td>\n",
              "      <td>2008.0</td>\n",
              "      <td>Racing</td>\n",
              "      <td>Nintendo</td>\n",
              "      <td>15.68</td>\n",
              "      <td>12.76</td>\n",
              "      <td>3.79</td>\n",
              "      <td>3.29</td>\n",
              "      <td>35.52</td>\n",
              "      <td>82.0</td>\n",
              "      <td>73.0</td>\n",
              "      <td>8.3</td>\n",
              "      <td>709.0</td>\n",
              "      <td>Nintendo</td>\n",
              "      <td>E</td>\n",
              "    </tr>\n",
              "    <tr>\n",
              "      <th>3</th>\n",
              "      <td>Wii Sports Resort</td>\n",
              "      <td>Wii</td>\n",
              "      <td>2009.0</td>\n",
              "      <td>Sports</td>\n",
              "      <td>Nintendo</td>\n",
              "      <td>15.61</td>\n",
              "      <td>10.93</td>\n",
              "      <td>3.28</td>\n",
              "      <td>2.95</td>\n",
              "      <td>32.77</td>\n",
              "      <td>80.0</td>\n",
              "      <td>73.0</td>\n",
              "      <td>8</td>\n",
              "      <td>192.0</td>\n",
              "      <td>Nintendo</td>\n",
              "      <td>E</td>\n",
              "    </tr>\n",
              "    <tr>\n",
              "      <th>4</th>\n",
              "      <td>Pokemon Red/Pokemon Blue</td>\n",
              "      <td>GB</td>\n",
              "      <td>1996.0</td>\n",
              "      <td>Role-Playing</td>\n",
              "      <td>Nintendo</td>\n",
              "      <td>11.27</td>\n",
              "      <td>8.89</td>\n",
              "      <td>10.22</td>\n",
              "      <td>1.00</td>\n",
              "      <td>31.37</td>\n",
              "      <td>NaN</td>\n",
              "      <td>NaN</td>\n",
              "      <td>NaN</td>\n",
              "      <td>NaN</td>\n",
              "      <td>NaN</td>\n",
              "      <td>NaN</td>\n",
              "    </tr>\n",
              "  </tbody>\n",
              "</table>\n",
              "</div>"
            ],
            "text/plain": [
              "                       Name Platform  ...  Developer Rating\n",
              "0                Wii Sports      Wii  ...   Nintendo      E\n",
              "1         Super Mario Bros.      NES  ...        NaN    NaN\n",
              "2            Mario Kart Wii      Wii  ...   Nintendo      E\n",
              "3         Wii Sports Resort      Wii  ...   Nintendo      E\n",
              "4  Pokemon Red/Pokemon Blue       GB  ...        NaN    NaN\n",
              "\n",
              "[5 rows x 16 columns]"
            ]
          },
          "metadata": {
            "tags": []
          },
          "execution_count": 11
        }
      ]
    },
    {
      "cell_type": "code",
      "metadata": {
        "colab": {
          "base_uri": "https://localhost:8080/"
        },
        "id": "nVEvgB1hUvF9",
        "outputId": "5054bd2d-2250-46c1-977d-c4690556f08e"
      },
      "source": [
        "data.dtypes"
      ],
      "execution_count": null,
      "outputs": [
        {
          "output_type": "execute_result",
          "data": {
            "text/plain": [
              "Name                object\n",
              "Platform            object\n",
              "Year_of_Release    float64\n",
              "Genre               object\n",
              "Publisher           object\n",
              "NA_Sales           float64\n",
              "EU_Sales           float64\n",
              "JP_Sales           float64\n",
              "Other_Sales        float64\n",
              "Global_Sales       float64\n",
              "Critic_Score       float64\n",
              "Critic_Count       float64\n",
              "User_Score          object\n",
              "User_Count         float64\n",
              "Developer           object\n",
              "Rating              object\n",
              "dtype: object"
            ]
          },
          "metadata": {
            "tags": []
          },
          "execution_count": 12
        }
      ]
    },
    {
      "cell_type": "code",
      "metadata": {
        "colab": {
          "base_uri": "https://localhost:8080/"
        },
        "id": "HMR-NptEUwu8",
        "outputId": "89ebcccb-13ba-4313-a938-424528a71dce"
      },
      "source": [
        "print(data.shape)"
      ],
      "execution_count": null,
      "outputs": [
        {
          "output_type": "stream",
          "text": [
            "(16719, 16)\n"
          ],
          "name": "stdout"
        }
      ]
    },
    {
      "cell_type": "code",
      "metadata": {
        "colab": {
          "base_uri": "https://localhost:8080/",
          "height": 748
        },
        "id": "8lRgqVyVU53o",
        "outputId": "7f8fff9d-d470-4f71-f9e3-161472d3a50d"
      },
      "source": [
        "str_list = [] # empty list to contain columns with strings (words)\n",
        "for colname, colvalue in data.iteritems():\n",
        "    if type(colvalue[2]) == str:\n",
        "         str_list.append(colname)\n",
        "# Get to the numeric columns by inversion            \n",
        "num_list = data.columns.difference(str_list) \n",
        "# Create Dataframe containing only numerical features\n",
        "data_num = data[num_list]\n",
        "f, ax = plt.subplots(figsize=(14, 11))\n",
        "plt.title('Pearson Correlation of Video Game Numerical Features')\n",
        "# Draw the heatmap using seaborn\n",
        "sns.heatmap(data_num.astype(float).corr(),linewidths=0.25,vmax=1.0, \n",
        "            square=True, cmap=\"cubehelix_r\", linecolor='k', annot=True)"
      ],
      "execution_count": null,
      "outputs": [
        {
          "output_type": "execute_result",
          "data": {
            "text/plain": [
              "<matplotlib.axes._subplots.AxesSubplot at 0x7f08f5f130b8>"
            ]
          },
          "metadata": {
            "tags": []
          },
          "execution_count": 14
        },
        {
          "output_type": "display_data",
          "data": {
            "image/png": "[encoded data removed]",
            "text/plain": [
              "<Figure size 1008x792 with 2 Axes>"
            ]
          },
          "metadata": {
            "tags": [],
            "needs_background": "light"
          }
        }
      ]
    },
    {
      "cell_type": "code",
      "metadata": {
        "colab": {
          "base_uri": "https://localhost:8080/",
          "height": 359
        },
        "id": "A_A7-_n4VcZd",
        "outputId": "3b744bcb-48be-4994-bfad-743a5093e710"
      },
      "source": [
        "data_na = (data.isnull().sum() / len(data)) * 100\n",
        "data_na = data_na.drop(data_na[data_na == 0].index).sort_values(ascending=False)[:30]\n",
        "missing_data = pd.DataFrame({'Missing Ratio' :data_na})\n",
        "missing_data.head(16)"
      ],
      "execution_count": null,
      "outputs": [
        {
          "output_type": "execute_result",
          "data": {
            "text/html": [
              "<div>\n",
              "<style scoped>\n",
              "    .dataframe tbody tr th:only-of-type {\n",
              "        vertical-align: middle;\n",
              "    }\n",
              "\n",
              "    .dataframe tbody tr th {\n",
              "        vertical-align: top;\n",
              "    }\n",
              "\n",
              "    .dataframe thead th {\n",
              "        text-align: right;\n",
              "    }\n",
              "</style>\n",
              "<table border=\"1\" class=\"dataframe\">\n",
              "  <thead>\n",
              "    <tr style=\"text-align: right;\">\n",
              "      <th></th>\n",
              "      <th>Missing Ratio</th>\n",
              "    </tr>\n",
              "  </thead>\n",
              "  <tbody>\n",
              "    <tr>\n",
              "      <th>User_Count</th>\n",
              "      <td>54.602548</td>\n",
              "    </tr>\n",
              "    <tr>\n",
              "      <th>Critic_Count</th>\n",
              "      <td>51.330821</td>\n",
              "    </tr>\n",
              "    <tr>\n",
              "      <th>Critic_Score</th>\n",
              "      <td>51.330821</td>\n",
              "    </tr>\n",
              "    <tr>\n",
              "      <th>Rating</th>\n",
              "      <td>40.486871</td>\n",
              "    </tr>\n",
              "    <tr>\n",
              "      <th>User_Score</th>\n",
              "      <td>40.098092</td>\n",
              "    </tr>\n",
              "    <tr>\n",
              "      <th>Developer</th>\n",
              "      <td>39.613613</td>\n",
              "    </tr>\n",
              "    <tr>\n",
              "      <th>Year_of_Release</th>\n",
              "      <td>1.608948</td>\n",
              "    </tr>\n",
              "    <tr>\n",
              "      <th>Publisher</th>\n",
              "      <td>0.322986</td>\n",
              "    </tr>\n",
              "    <tr>\n",
              "      <th>Genre</th>\n",
              "      <td>0.011962</td>\n",
              "    </tr>\n",
              "    <tr>\n",
              "      <th>Name</th>\n",
              "      <td>0.011962</td>\n",
              "    </tr>\n",
              "  </tbody>\n",
              "</table>\n",
              "</div>"
            ],
            "text/plain": [
              "                 Missing Ratio\n",
              "User_Count           54.602548\n",
              "Critic_Count         51.330821\n",
              "Critic_Score         51.330821\n",
              "Rating               40.486871\n",
              "User_Score           40.098092\n",
              "Developer            39.613613\n",
              "Year_of_Release       1.608948\n",
              "Publisher             0.322986\n",
              "Genre                 0.011962\n",
              "Name                  0.011962"
            ]
          },
          "metadata": {
            "tags": []
          },
          "execution_count": 15
        }
      ]
    },
    {
      "cell_type": "markdown",
      "metadata": {
        "id": "5DTl4ZLdb2j3"
      },
      "source": [
        "BASIC PREPROCESSING"
      ]
    },
    {
      "cell_type": "code",
      "metadata": {
        "colab": {
          "base_uri": "https://localhost:8080/",
          "height": 450
        },
        "id": "Qzf35wzQVjH1",
        "outputId": "b7606f71-4be1-490f-888a-0c142bab6c0e"
      },
      "source": [
        "data = data[(data['Platform'] == 'PS3') | (data['Platform'] == 'PS4') | (data['Platform'] == 'X360') | (data['Platform'] == 'XOne') | (data['Platform'] == 'Wii') | (data['Platform'] == 'WiiU') | (data['Platform'] == 'PC')]\n",
        "\n",
        "#Let's double check the value counts to be sure\n",
        "print(pd.value_counts(data[\"Platform\"]))\n",
        "\n",
        "#Let's see the shape of the data again\n",
        "print(data.shape)\n",
        "\n",
        "#Lets see the missing ratios again\n",
        "data_na = (data.isnull().sum() / len(data)) * 100\n",
        "data_na = data_na.drop(data_na[data_na == 0].index).sort_values(ascending=False)[:30]\n",
        "missing_data = pd.DataFrame({'Missing Ratio' :data_na})\n",
        "missing_data.head(16)"
      ],
      "execution_count": null,
      "outputs": [
        {
          "output_type": "stream",
          "text": [
            "PS3     1331\n",
            "Wii     1320\n",
            "X360    1262\n",
            "PC       974\n",
            "PS4      393\n",
            "XOne     247\n",
            "WiiU     147\n",
            "Name: Platform, dtype: int64\n",
            "(5674, 16)\n"
          ],
          "name": "stdout"
        },
        {
          "output_type": "execute_result",
          "data": {
            "text/html": [
              "<div>\n",
              "<style scoped>\n",
              "    .dataframe tbody tr th:only-of-type {\n",
              "        vertical-align: middle;\n",
              "    }\n",
              "\n",
              "    .dataframe tbody tr th {\n",
              "        vertical-align: top;\n",
              "    }\n",
              "\n",
              "    .dataframe thead th {\n",
              "        text-align: right;\n",
              "    }\n",
              "</style>\n",
              "<table border=\"1\" class=\"dataframe\">\n",
              "  <thead>\n",
              "    <tr style=\"text-align: right;\">\n",
              "      <th></th>\n",
              "      <th>Missing Ratio</th>\n",
              "    </tr>\n",
              "  </thead>\n",
              "  <tbody>\n",
              "    <tr>\n",
              "      <th>Critic_Count</th>\n",
              "      <td>37.486782</td>\n",
              "    </tr>\n",
              "    <tr>\n",
              "      <th>Critic_Score</th>\n",
              "      <td>37.486782</td>\n",
              "    </tr>\n",
              "    <tr>\n",
              "      <th>User_Count</th>\n",
              "      <td>34.578780</td>\n",
              "    </tr>\n",
              "    <tr>\n",
              "      <th>Rating</th>\n",
              "      <td>23.757490</td>\n",
              "    </tr>\n",
              "    <tr>\n",
              "      <th>User_Score</th>\n",
              "      <td>22.559041</td>\n",
              "    </tr>\n",
              "    <tr>\n",
              "      <th>Developer</th>\n",
              "      <td>21.713077</td>\n",
              "    </tr>\n",
              "    <tr>\n",
              "      <th>Year_of_Release</th>\n",
              "      <td>1.868171</td>\n",
              "    </tr>\n",
              "    <tr>\n",
              "      <th>Publisher</th>\n",
              "      <td>0.229115</td>\n",
              "    </tr>\n",
              "  </tbody>\n",
              "</table>\n",
              "</div>"
            ],
            "text/plain": [
              "                 Missing Ratio\n",
              "Critic_Count         37.486782\n",
              "Critic_Score         37.486782\n",
              "User_Count           34.578780\n",
              "Rating               23.757490\n",
              "User_Score           22.559041\n",
              "Developer            21.713077\n",
              "Year_of_Release       1.868171\n",
              "Publisher             0.229115"
            ]
          },
          "metadata": {
            "tags": []
          },
          "execution_count": 16
        }
      ]
    },
    {
      "cell_type": "code",
      "metadata": {
        "id": "f-DWTCBHV8Pe"
      },
      "source": [
        "\n",
        "#filling all Nas with mean\n",
        "\n",
        "data['Year_of_Release'] = data['Year_of_Release'].fillna(data['Year_of_Release'].mean())\n",
        "data['Year_of_Release'] = data['Year_of_Release'].astype(int)\n",
        "data['Critic_Count'] = data['Critic_Count'].fillna(data['Critic_Count'].mean())\n",
        "data['Critic_Score'] = data['Critic_Score'].fillna(data['Critic_Score'].mean())\n",
        "\n",
        "\n",
        "\n",
        "data['User_Score'] = data['User_Score'].replace('tbd', None)\n",
        "data['User_Score'] = data['User_Score'].astype(float)\n",
        "data['User_Score'] = data['User_Score'].fillna(data['User_Score'].mean())\n",
        "data['User_Score'] = data['User_Score'].astype(int)\n",
        "data['User_Count'] = data['User_Count'].fillna(data['User_Count'].mean())\n",
        "\n",
        "data = data.dropna(subset=['Publisher','Developer','Rating'])\n"
      ],
      "execution_count": null,
      "outputs": []
    },
    {
      "cell_type": "code",
      "metadata": {
        "colab": {
          "base_uri": "https://localhost:8080/"
        },
        "id": "lCVk36gpXEQO",
        "outputId": "fa5568c7-5e12-48e8-b8da-3db8de157d4d"
      },
      "source": [
        "print(data.shape) #pre-dummies shape\n",
        "data = pd.get_dummies(data=data, columns=['Platform', 'Genre', 'Rating'])\n",
        "print(data.shape) #post-dummies shape\n",
        "data.head #Check to verify that dummies are ok"
      ],
      "execution_count": null,
      "outputs": [
        {
          "output_type": "stream",
          "text": [
            "(4321, 16)\n",
            "(4321, 39)\n"
          ],
          "name": "stdout"
        },
        {
          "output_type": "execute_result",
          "data": {
            "text/plain": [
              "<bound method NDFrame.head of                                     Name  Year_of_Release  ... Rating_RP  Rating_T\n",
              "0                             Wii Sports             2006  ...         0         0\n",
              "2                         Mario Kart Wii             2008  ...         0         0\n",
              "3                      Wii Sports Resort             2009  ...         0         0\n",
              "7                               Wii Play             2006  ...         0         0\n",
              "8              New Super Mario Bros. Wii             2009  ...         0         0\n",
              "...                                  ...              ...  ...       ...       ...\n",
              "16682                     End of Nations             2012  ...         0         1\n",
              "16685                            Worms 2             1997  ...         0         0\n",
              "16696  Metal Gear Solid V: Ground Zeroes             2014  ...         0         0\n",
              "16700                             Breach             2011  ...         0         1\n",
              "16706            STORM: Frontline Nation             2011  ...         0         0\n",
              "\n",
              "[4321 rows x 39 columns]>"
            ]
          },
          "metadata": {
            "tags": []
          },
          "execution_count": 18
        }
      ]
    },
    {
      "cell_type": "code",
      "metadata": {
        "id": "FU6mdwx5XO8Z"
      },
      "source": [
        "data = data.drop(['Name', 'Publisher', 'Developer', 'NA_Sales', 'EU_Sales', 'JP_Sales', 'Other_Sales'], axis=1)\n"
      ],
      "execution_count": null,
      "outputs": []
    },
    {
      "cell_type": "code",
      "metadata": {
        "colab": {
          "base_uri": "https://localhost:8080/"
        },
        "id": "ZHbob1RsXVOf",
        "outputId": "8a1f341d-5a89-452d-da6b-944ccfd79348"
      },
      "source": [
        "X = data[['Year_of_Release', 'Critic_Score', 'Critic_Count',\n",
        "       'User_Score', 'User_Count', 'Platform_PC', 'Platform_PS3',\n",
        "       'Platform_PS4', 'Platform_Wii', 'Platform_WiiU', 'Platform_X360',\n",
        "       'Platform_XOne', 'Genre_Action', 'Genre_Adventure', 'Genre_Fighting',\n",
        "       'Genre_Misc', 'Genre_Platform', 'Genre_Puzzle', 'Genre_Racing',\n",
        "       'Genre_Role-Playing', 'Genre_Shooter', 'Genre_Simulation',\n",
        "       'Genre_Sports', 'Genre_Strategy', 'Rating_E', 'Rating_E10+', 'Rating_M',\n",
        "       'Rating_RP', 'Rating_T']]\n",
        "\n",
        "Y = data[['Global_Sales']]\n",
        "\n",
        "#Double checking the shape\n",
        "print(X.shape)\n",
        "print(Y.shape)"
      ],
      "execution_count": null,
      "outputs": [
        {
          "output_type": "stream",
          "text": [
            "(4321, 29)\n",
            "(4321, 1)\n"
          ],
          "name": "stdout"
        }
      ]
    },
    {
      "cell_type": "code",
      "metadata": {
        "colab": {
          "base_uri": "https://localhost:8080/",
          "height": 49
        },
        "id": "D0zzJdjUisxN",
        "outputId": "bde41e5f-8d18-4ca3-fcb4-1b4aafb2e7a1"
      },
      "source": [
        "data_na = (data.isnull().sum() / len(data)) * 100\n",
        "data_na = data_na.drop(data_na[data_na == 0].index).sort_values(ascending=False)[:30]\n",
        "missing_data = pd.DataFrame({'Missing Ratio' :data_na})\n",
        "missing_data.head(16)"
      ],
      "execution_count": null,
      "outputs": [
        {
          "output_type": "execute_result",
          "data": {
            "text/html": [
              "<div>\n",
              "<style scoped>\n",
              "    .dataframe tbody tr th:only-of-type {\n",
              "        vertical-align: middle;\n",
              "    }\n",
              "\n",
              "    .dataframe tbody tr th {\n",
              "        vertical-align: top;\n",
              "    }\n",
              "\n",
              "    .dataframe thead th {\n",
              "        text-align: right;\n",
              "    }\n",
              "</style>\n",
              "<table border=\"1\" class=\"dataframe\">\n",
              "  <thead>\n",
              "    <tr style=\"text-align: right;\">\n",
              "      <th></th>\n",
              "      <th>Missing Ratio</th>\n",
              "    </tr>\n",
              "  </thead>\n",
              "  <tbody>\n",
              "  </tbody>\n",
              "</table>\n",
              "</div>"
            ],
            "text/plain": [
              "Empty DataFrame\n",
              "Columns: [Missing Ratio]\n",
              "Index: []"
            ]
          },
          "metadata": {
            "tags": []
          },
          "execution_count": 21
        }
      ]
    },
    {
      "cell_type": "code",
      "metadata": {
        "colab": {
          "base_uri": "https://localhost:8080/"
        },
        "id": "M8UiIRUWXdg3",
        "outputId": "64ce0f67-77f6-4daf-c63b-5acfa934a26d"
      },
      "source": [
        "from sklearn.model_selection import train_test_split\n",
        "\n",
        "X_train, X_test, Y_train, Y_test = train_test_split(X, Y, random_state=42)\n",
        "\n",
        "#Let's check the shape of the split data as a precaution\n",
        "print(\"X_train shape: {}\".format(X_train.shape))\n",
        "print(\"Y_train shape: {}\".format(Y_train.shape))\n",
        "\n",
        "print(\"X_test shape: {}\".format(X_test.shape))\n",
        "print(\"Y_test shape: {}\".format(Y_test.shape))"
      ],
      "execution_count": null,
      "outputs": [
        {
          "output_type": "stream",
          "text": [
            "X_train shape: (3240, 29)\n",
            "Y_train shape: (3240, 1)\n",
            "X_test shape: (1081, 29)\n",
            "Y_test shape: (1081, 1)\n"
          ],
          "name": "stdout"
        }
      ]
    },
    {
      "cell_type": "markdown",
      "metadata": {
        "id": "uMyggGzMTEyZ"
      },
      "source": [
        "ABNORMAL DISTRIBUTION OF TARGET VALUE"
      ]
    },
    {
      "cell_type": "code",
      "metadata": {
        "colab": {
          "base_uri": "https://localhost:8080/",
          "height": 364
        },
        "id": "UmbOO3N6S3yP",
        "outputId": "f33010f0-4841-4c6e-aba6-3ca356fb111d"
      },
      "source": [
        "sns.distplot(data['Global_Sales'] , fit=norm);\n",
        "\n",
        "# Get the fitted parameters used by the function\n",
        "(mu, sigma) = norm.fit(data['Global_Sales'])\n",
        "print( '\\n mu = {:.2f} and sigma = {:.2f}\\n'.format(mu, sigma))\n",
        "\n",
        "#Now plot the distribution\n",
        "plt.legend(['Normal dist. ($\\mu=$ {:.2f} and $\\sigma=$ {:.2f} )'.format(mu, sigma)],\n",
        "            loc='best')\n",
        "plt.ylabel('Frequency')\n",
        "plt.title('Global_Sales distribution')\n"
      ],
      "execution_count": null,
      "outputs": [
        {
          "output_type": "stream",
          "text": [
            "\n",
            " mu = 0.75 and sigma = 2.14\n",
            "\n"
          ],
          "name": "stdout"
        },
        {
          "output_type": "execute_result",
          "data": {
            "text/plain": [
              "Text(0.5, 1.0, 'Global_Sales distribution')"
            ]
          },
          "metadata": {
            "tags": []
          },
          "execution_count": 23
        },
        {
          "output_type": "display_data",
          "data": {
            "image/png": "[encoded data removed]",
            "text/plain": [
              "<Figure size 432x288 with 1 Axes>"
            ]
          },
          "metadata": {
            "tags": [],
            "needs_background": "light"
          }
        }
      ]
    },
    {
      "cell_type": "code",
      "metadata": {
        "id": "IzUnuoN9TTjR"
      },
      "source": [
        "#We use the numpy fuction log1p which  applies log(1+x) to all elements of the column\n",
        "Y_train = np.log1p(Y_train)\n",
        "Y_test = np.log1p(Y_test)"
      ],
      "execution_count": null,
      "outputs": []
    },
    {
      "cell_type": "code",
      "metadata": {
        "colab": {
          "base_uri": "https://localhost:8080/"
        },
        "id": "STn56FbAXrgw",
        "outputId": "e3bdb79e-bdcc-4e79-a328-57a95bfe0f6e"
      },
      "source": [
        "##LINEAR REGRESSION\n",
        "\n",
        "from sklearn.linear_model import LinearRegression\n",
        "from sklearn.model_selection import cross_val_score\n",
        "from sklearn.metrics import mean_squared_error, r2_score\n",
        "\n",
        "#R2-SCORE\n",
        "regr = LinearRegression()\n",
        "regr.fit(X_train, Y_train)\n",
        "y_pred_test = regr.predict(X_test)\n",
        "print('R-squared = %.4f' % r2_score(Y_test, y_pred_test))\n",
        "#RMSE\n",
        "print(\"Root mean squared error = %.4f\" % np.sqrt(mean_squared_error(Y_test, y_pred_test)))"
      ],
      "execution_count": null,
      "outputs": [
        {
          "output_type": "stream",
          "text": [
            "R-squared = 0.3670\n",
            "Root mean squared error = 0.3770\n"
          ],
          "name": "stdout"
        }
      ]
    },
    {
      "cell_type": "code",
      "metadata": {
        "colab": {
          "base_uri": "https://localhost:8080/"
        },
        "id": "nMbr0b22Xys1",
        "outputId": "755f2be0-2010-4bff-bfd7-d59a87d7b683"
      },
      "source": [
        "##DecissionTreeRegressor\n",
        "from sklearn.tree import DecisionTreeRegressor\n",
        "\n",
        "#R2-SCORE\n",
        "regr = DecisionTreeRegressor()\n",
        "regr.fit(X_train, Y_train)\n",
        "y_pred_test = regr.predict(X_test)\n",
        "print('R-squared = %.4f' % r2_score(Y_test, y_pred_test))\n",
        "#RMSE\n",
        "print(\"Root mean squared error = %.4f\" % np.sqrt(mean_squared_error(Y_test, y_pred_test)))\n",
        "\n"
      ],
      "execution_count": null,
      "outputs": [
        {
          "output_type": "stream",
          "text": [
            "R-squared = 0.1886\n",
            "Root mean squared error = 0.4268\n"
          ],
          "name": "stdout"
        }
      ]
    },
    {
      "cell_type": "code",
      "metadata": {
        "colab": {
          "base_uri": "https://localhost:8080/"
        },
        "id": "nmHWnUbgX4u9",
        "outputId": "7aeafdcd-4b0c-47d5-c14a-b640275642da"
      },
      "source": [
        "##RIDGE\n",
        "from sklearn.linear_model import Ridge\n",
        "\n",
        "\n",
        "#R2-SCORE\n",
        "regr = Ridge()\n",
        "regr.fit(X_train, Y_train)\n",
        "y_pred_test = regr.predict(X_test)\n",
        "print('R-squared = %.4f' % r2_score(Y_test, y_pred_test))\n",
        "#RMSE\n",
        "print(\"Root mean squared error = %.4f\" % np.sqrt(mean_squared_error(Y_test, y_pred_test)))"
      ],
      "execution_count": null,
      "outputs": [
        {
          "output_type": "stream",
          "text": [
            "R-squared = 0.3671\n",
            "Root mean squared error = 0.3770\n"
          ],
          "name": "stdout"
        }
      ]
    },
    {
      "cell_type": "code",
      "metadata": {
        "colab": {
          "base_uri": "https://localhost:8080/"
        },
        "id": "a-2g8SULX8kZ",
        "outputId": "0e900527-d463-40f5-d099-8b722e9321a5"
      },
      "source": [
        "##SVR\n",
        "\n",
        "from sklearn.svm import SVR\n",
        "\n",
        "\n",
        "#R2-SCORE\n",
        "regr = SVR()\n",
        "regr.fit(X_train, Y_train)\n",
        "y_pred_test = regr.predict(X_test)\n",
        "print('R-squared = %.4f' % r2_score(Y_test, y_pred_test))\n",
        "#RMSE\n",
        "print(\"Root mean squared error = %.4f\" % np.sqrt(mean_squared_error(Y_test, y_pred_test)))"
      ],
      "execution_count": null,
      "outputs": [
        {
          "output_type": "stream",
          "text": [
            "R-squared = 0.1563\n",
            "Root mean squared error = 0.4353\n"
          ],
          "name": "stdout"
        }
      ]
    },
    {
      "cell_type": "code",
      "metadata": {
        "colab": {
          "base_uri": "https://localhost:8080/"
        },
        "id": "XCZAQ_-j43Rw",
        "outputId": "820c3793-d878-4875-d389-845b2915927e"
      },
      "source": [
        "##KNeighbors\n",
        "from sklearn.neighbors import KNeighborsRegressor\n",
        "\n",
        "#R2-SCORE\n",
        "regr = KNeighborsRegressor()\n",
        "regr.fit(X_train, Y_train)\n",
        "y_pred_test = regr.predict(X_test)\n",
        "print('R-squared = %.4f' % r2_score(Y_test, y_pred_test))\n",
        "#RMSE\n",
        "print(\"Root mean squared error = %.4f\" % np.sqrt(mean_squared_error(Y_test, y_pred_test)))"
      ],
      "execution_count": null,
      "outputs": [
        {
          "output_type": "stream",
          "text": [
            "R-squared = 0.2532\n",
            "Root mean squared error = 0.4095\n"
          ],
          "name": "stdout"
        }
      ]
    },
    {
      "cell_type": "code",
      "metadata": {
        "colab": {
          "base_uri": "https://localhost:8080/"
        },
        "id": "BO-TSt3T426a",
        "outputId": "7266df32-0593-4d28-88e6-a0372fb8e524"
      },
      "source": [
        "##ADABoost\n",
        "from sklearn.ensemble import AdaBoostRegressor\n",
        "\n",
        "#R2-SCORE\n",
        "regr = AdaBoostRegressor()\n",
        "regr.fit(X_train, Y_train)\n",
        "y_pred_test = regr.predict(X_test)\n",
        "print('R-squared = %.4f' % r2_score(Y_test, y_pred_test))\n",
        "#RMSE\n",
        "print(\"Root mean squared error = %.4f\" % np.sqrt(mean_squared_error(Y_test, y_pred_test)))\n"
      ],
      "execution_count": null,
      "outputs": [
        {
          "output_type": "stream",
          "text": [
            "R-squared = 0.2180\n",
            "Root mean squared error = 0.4190\n"
          ],
          "name": "stdout"
        }
      ]
    },
    {
      "cell_type": "code",
      "metadata": {
        "colab": {
          "base_uri": "https://localhost:8080/"
        },
        "id": "rRyhCYRcYMxi",
        "outputId": "853cac34-4507-4199-dea7-d3d594ce1822"
      },
      "source": [
        "##GradientBoostingRegressor\n",
        "\n",
        "from sklearn.ensemble import GradientBoostingRegressor\n",
        "\n",
        "\n",
        "#R2-SCORE\n",
        "regr = GradientBoostingRegressor()\n",
        "regr.fit(X_train, Y_train)\n",
        "y_pred_test = regr.predict(X_test)\n",
        "print('R-squared = %.4f' % r2_score(Y_test, y_pred_test))\n",
        "#RMSE\n",
        "print(\"Root mean squared error = %.4f\" % np.sqrt(mean_squared_error(Y_test, y_pred_test)))"
      ],
      "execution_count": null,
      "outputs": [
        {
          "output_type": "stream",
          "text": [
            "R-squared = 0.5466\n",
            "Root mean squared error = 0.3191\n"
          ],
          "name": "stdout"
        }
      ]
    },
    {
      "cell_type": "code",
      "metadata": {
        "colab": {
          "base_uri": "https://localhost:8080/"
        },
        "id": "SLHVoKtQGdVO",
        "outputId": "ee5e9903-2659-493c-cf80-b374b5a8d41c"
      },
      "source": [
        "\n",
        "##RandomForestRegressor\n",
        "from sklearn.ensemble import RandomForestRegressor\n",
        "\n",
        "#R2-SCORE\n",
        "regr = RandomForestRegressor()\n",
        "regr.fit(X_train, Y_train)\n",
        "y_pred_test = regr.predict(X_test)\n",
        "print('R-squared = %.4f' % r2_score(Y_test, y_pred_test))\n",
        "#RMSE\n",
        "print(\"Root mean squared error = %.4f\" % np.sqrt(mean_squared_error(Y_test, y_pred_test)))\n",
        "\n",
        "\n"
      ],
      "execution_count": null,
      "outputs": [
        {
          "output_type": "stream",
          "text": [
            "R-squared = 0.5761\n",
            "Root mean squared error = 0.3085\n"
          ],
          "name": "stdout"
        }
      ]
    },
    {
      "cell_type": "markdown",
      "metadata": {
        "id": "QT3Kxd06c_wi"
      },
      "source": [
        "USING DIFFERENT WAYS TO HANDLE MISSING VALUES AND ITS OBSERVATIONS A) Dropping Rows\n",
        "B) Median, C) Mode"
      ]
    },
    {
      "cell_type": "markdown",
      "metadata": {
        "id": "bblUlfq83UB5"
      },
      "source": [
        "A"
      ]
    },
    {
      "cell_type": "code",
      "metadata": {
        "id": "mumatFs5c_OY"
      },
      "source": [
        "data = pd.read_csv(\"/content/Video_Games_Sales_as_at_22_Dec_2016.csv\")"
      ],
      "execution_count": null,
      "outputs": []
    },
    {
      "cell_type": "code",
      "metadata": {
        "colab": {
          "base_uri": "https://localhost:8080/",
          "height": 450
        },
        "id": "6PR8LK8ydY5k",
        "outputId": "5b50c9c2-2d49-41aa-d359-e164ec57e366"
      },
      "source": [
        "data = data[(data['Platform'] == 'PS3') | (data['Platform'] == 'PS4') | (data['Platform'] == 'X360') | (data['Platform'] == 'XOne') | (data['Platform'] == 'Wii') | (data['Platform'] == 'WiiU') | (data['Platform'] == 'PC')]\n",
        "\n",
        "#Let's double check the value counts to be sure\n",
        "print(pd.value_counts(data[\"Platform\"]))\n",
        "\n",
        "#Let's see the shape of the data again\n",
        "print(data.shape)\n",
        "\n",
        "\n",
        "#Lets see the missing ratios again\n",
        "data_na = (data.isnull().sum() / len(data)) * 100\n",
        "data_na = data_na.drop(data_na[data_na == 0].index).sort_values(ascending=False)[:30]\n",
        "missing_data = pd.DataFrame({'Missing Ratio' :data_na})\n",
        "missing_data.head(16)"
      ],
      "execution_count": null,
      "outputs": [
        {
          "output_type": "stream",
          "text": [
            "PS3     1331\n",
            "Wii     1320\n",
            "X360    1262\n",
            "PC       974\n",
            "PS4      393\n",
            "XOne     247\n",
            "WiiU     147\n",
            "Name: Platform, dtype: int64\n",
            "(5674, 16)\n"
          ],
          "name": "stdout"
        },
        {
          "output_type": "execute_result",
          "data": {
            "text/html": [
              "<div>\n",
              "<style scoped>\n",
              "    .dataframe tbody tr th:only-of-type {\n",
              "        vertical-align: middle;\n",
              "    }\n",
              "\n",
              "    .dataframe tbody tr th {\n",
              "        vertical-align: top;\n",
              "    }\n",
              "\n",
              "    .dataframe thead th {\n",
              "        text-align: right;\n",
              "    }\n",
              "</style>\n",
              "<table border=\"1\" class=\"dataframe\">\n",
              "  <thead>\n",
              "    <tr style=\"text-align: right;\">\n",
              "      <th></th>\n",
              "      <th>Missing Ratio</th>\n",
              "    </tr>\n",
              "  </thead>\n",
              "  <tbody>\n",
              "    <tr>\n",
              "      <th>Critic_Count</th>\n",
              "      <td>37.486782</td>\n",
              "    </tr>\n",
              "    <tr>\n",
              "      <th>Critic_Score</th>\n",
              "      <td>37.486782</td>\n",
              "    </tr>\n",
              "    <tr>\n",
              "      <th>User_Count</th>\n",
              "      <td>34.578780</td>\n",
              "    </tr>\n",
              "    <tr>\n",
              "      <th>Rating</th>\n",
              "      <td>23.757490</td>\n",
              "    </tr>\n",
              "    <tr>\n",
              "      <th>User_Score</th>\n",
              "      <td>22.559041</td>\n",
              "    </tr>\n",
              "    <tr>\n",
              "      <th>Developer</th>\n",
              "      <td>21.713077</td>\n",
              "    </tr>\n",
              "    <tr>\n",
              "      <th>Year_of_Release</th>\n",
              "      <td>1.868171</td>\n",
              "    </tr>\n",
              "    <tr>\n",
              "      <th>Publisher</th>\n",
              "      <td>0.229115</td>\n",
              "    </tr>\n",
              "  </tbody>\n",
              "</table>\n",
              "</div>"
            ],
            "text/plain": [
              "                 Missing Ratio\n",
              "Critic_Count         37.486782\n",
              "Critic_Score         37.486782\n",
              "User_Count           34.578780\n",
              "Rating               23.757490\n",
              "User_Score           22.559041\n",
              "Developer            21.713077\n",
              "Year_of_Release       1.868171\n",
              "Publisher             0.229115"
            ]
          },
          "metadata": {
            "tags": []
          },
          "execution_count": 34
        }
      ]
    },
    {
      "cell_type": "code",
      "metadata": {
        "id": "NZ9urlr0eDaL"
      },
      "source": [
        "data = data.dropna(axis=0)"
      ],
      "execution_count": null,
      "outputs": []
    },
    {
      "cell_type": "code",
      "metadata": {
        "colab": {
          "base_uri": "https://localhost:8080/"
        },
        "id": "SMQdgjl6giPL",
        "outputId": "057e0638-7c4c-4144-b2ec-c7c2e7f8143f"
      },
      "source": [
        "print(data.shape) #pre-dummies shape\n",
        "data = pd.get_dummies(data=data, columns=['Platform', 'Genre', 'Rating'])\n",
        "print(data.shape) #post-dummies shape\n",
        "data.head #Check to verify that dummies are ok"
      ],
      "execution_count": null,
      "outputs": [
        {
          "output_type": "stream",
          "text": [
            "(3244, 16)\n",
            "(3244, 37)\n"
          ],
          "name": "stdout"
        },
        {
          "output_type": "execute_result",
          "data": {
            "text/plain": [
              "<bound method NDFrame.head of                                     Name  Year_of_Release  ... Rating_RP  Rating_T\n",
              "0                             Wii Sports           2006.0  ...         0         0\n",
              "2                         Mario Kart Wii           2008.0  ...         0         0\n",
              "3                      Wii Sports Resort           2009.0  ...         0         0\n",
              "7                               Wii Play           2006.0  ...         0         0\n",
              "8              New Super Mario Bros. Wii           2009.0  ...         0         0\n",
              "...                                  ...              ...  ...       ...       ...\n",
              "16644                    Hospital Tycoon           2007.0  ...         0         0\n",
              "16656                   Fast Racing Neo            2016.0  ...         0         0\n",
              "16696  Metal Gear Solid V: Ground Zeroes           2014.0  ...         0         0\n",
              "16700                             Breach           2011.0  ...         0         1\n",
              "16706            STORM: Frontline Nation           2011.0  ...         0         0\n",
              "\n",
              "[3244 rows x 37 columns]>"
            ]
          },
          "metadata": {
            "tags": []
          },
          "execution_count": 36
        }
      ]
    },
    {
      "cell_type": "code",
      "metadata": {
        "id": "Le89ZQsYgn8H"
      },
      "source": [
        "data = data.drop(['Name', 'Publisher', 'Developer', 'NA_Sales', 'EU_Sales', 'JP_Sales', 'Other_Sales'], axis=1)\n"
      ],
      "execution_count": null,
      "outputs": []
    },
    {
      "cell_type": "code",
      "metadata": {
        "colab": {
          "base_uri": "https://localhost:8080/"
        },
        "id": "9EnZMBKTgt4A",
        "outputId": "1e79d95f-2df2-4394-a995-e66adcc4f936"
      },
      "source": [
        "X = data[['Year_of_Release', 'Critic_Score', 'Critic_Count',\n",
        "       'User_Score', 'User_Count', 'Platform_PC', 'Platform_PS3',\n",
        "       'Platform_PS4', 'Platform_Wii', 'Platform_WiiU', 'Platform_X360',\n",
        "       'Platform_XOne', 'Genre_Action', 'Genre_Adventure', 'Genre_Fighting',\n",
        "       'Genre_Misc', 'Genre_Platform', 'Genre_Puzzle', 'Genre_Racing',\n",
        "       'Genre_Role-Playing', 'Genre_Shooter', 'Genre_Simulation',\n",
        "       'Genre_Sports', 'Genre_Strategy', 'Rating_E', 'Rating_E10+', 'Rating_M',\n",
        "       'Rating_RP', 'Rating_T']]\n",
        "\n",
        "Y = data[['Global_Sales']]\n",
        "\n",
        "#Double checking the shape\n",
        "print(X.shape)\n",
        "print(Y.shape)"
      ],
      "execution_count": null,
      "outputs": [
        {
          "output_type": "stream",
          "text": [
            "(3244, 29)\n",
            "(3244, 1)\n"
          ],
          "name": "stdout"
        }
      ]
    },
    {
      "cell_type": "code",
      "metadata": {
        "colab": {
          "base_uri": "https://localhost:8080/",
          "height": 49
        },
        "id": "k1lU-CDTiiB-",
        "outputId": "d90bf87c-9348-4243-ad9c-9056f10817b9"
      },
      "source": [
        "data_na = (data.isnull().sum() / len(data)) * 100\n",
        "data_na = data_na.drop(data_na[data_na == 0].index).sort_values(ascending=False)[:30]\n",
        "missing_data = pd.DataFrame({'Missing Ratio' :data_na})\n",
        "missing_data.head(16)"
      ],
      "execution_count": null,
      "outputs": [
        {
          "output_type": "execute_result",
          "data": {
            "text/html": [
              "<div>\n",
              "<style scoped>\n",
              "    .dataframe tbody tr th:only-of-type {\n",
              "        vertical-align: middle;\n",
              "    }\n",
              "\n",
              "    .dataframe tbody tr th {\n",
              "        vertical-align: top;\n",
              "    }\n",
              "\n",
              "    .dataframe thead th {\n",
              "        text-align: right;\n",
              "    }\n",
              "</style>\n",
              "<table border=\"1\" class=\"dataframe\">\n",
              "  <thead>\n",
              "    <tr style=\"text-align: right;\">\n",
              "      <th></th>\n",
              "      <th>Missing Ratio</th>\n",
              "    </tr>\n",
              "  </thead>\n",
              "  <tbody>\n",
              "  </tbody>\n",
              "</table>\n",
              "</div>"
            ],
            "text/plain": [
              "Empty DataFrame\n",
              "Columns: [Missing Ratio]\n",
              "Index: []"
            ]
          },
          "metadata": {
            "tags": []
          },
          "execution_count": 39
        }
      ]
    },
    {
      "cell_type": "code",
      "metadata": {
        "colab": {
          "base_uri": "https://localhost:8080/"
        },
        "id": "TNdo0PeKg1jL",
        "outputId": "b135d02b-7f0e-481e-e02c-cbbae1201c0a"
      },
      "source": [
        "from sklearn.model_selection import train_test_split\n",
        "\n",
        "X_train, X_test, Y_train, Y_test = train_test_split(X, Y, random_state=42)\n",
        "\n",
        "#Let's check the shape of the split data as a precaution\n",
        "print(\"X_train shape: {}\".format(X_train.shape))\n",
        "print(\"Y_train shape: {}\".format(Y_train.shape))\n",
        "\n",
        "print(\"X_test shape: {}\".format(X_test.shape))\n",
        "print(\"Y_test shape: {}\".format(Y_test.shape))"
      ],
      "execution_count": null,
      "outputs": [
        {
          "output_type": "stream",
          "text": [
            "X_train shape: (2433, 29)\n",
            "Y_train shape: (2433, 1)\n",
            "X_test shape: (811, 29)\n",
            "Y_test shape: (811, 1)\n"
          ],
          "name": "stdout"
        }
      ]
    },
    {
      "cell_type": "code",
      "metadata": {
        "id": "jiZYdmGsTowA"
      },
      "source": [
        "#We use the numpy fuction log1p which  applies log(1+x) to all elements of the column\n",
        "Y_train = np.log1p(Y_train)\n",
        "Y_test = np.log1p(Y_test)"
      ],
      "execution_count": null,
      "outputs": []
    },
    {
      "cell_type": "code",
      "metadata": {
        "colab": {
          "base_uri": "https://localhost:8080/"
        },
        "id": "FsTUoggdhPuJ",
        "outputId": "b2dca3b7-911b-443c-bd6c-9a1eaa50c7e4"
      },
      "source": [
        "##LINEAR REGRESSION\n",
        "\n",
        "from sklearn.linear_model import LinearRegression\n",
        "#R2-SCORE\n",
        "regr = LinearRegression()\n",
        "regr.fit(X_train, Y_train)\n",
        "y_pred_test = regr.predict(X_test)\n",
        "print('R-squared = %.4f' % r2_score(Y_test, y_pred_test))\n",
        "#RMSE\n",
        "print(\"Root mean squared error = %.4f\" % np.sqrt(mean_squared_error(Y_test, y_pred_test)))"
      ],
      "execution_count": null,
      "outputs": [
        {
          "output_type": "stream",
          "text": [
            "R-squared = 0.4397\n",
            "Root mean squared error = 0.3919\n"
          ],
          "name": "stdout"
        }
      ]
    },
    {
      "cell_type": "code",
      "metadata": {
        "colab": {
          "base_uri": "https://localhost:8080/"
        },
        "id": "xkxN30PFksTy",
        "outputId": "30c30e25-6341-40d2-ba48-7d4fda9d85d5"
      },
      "source": [
        "##DecisionTreeRegressor\n",
        "from sklearn.tree import DecisionTreeRegressor\n",
        "\n",
        "#R2-SCORE\n",
        "regr = DecisionTreeRegressor()\n",
        "regr.fit(X_train, Y_train)\n",
        "y_pred_test = regr.predict(X_test)\n",
        "print('R-squared = %.4f' % r2_score(Y_test, y_pred_test))\n",
        "#RMSE\n",
        "print(\"Root mean squared error = %.4f\" % np.sqrt(mean_squared_error(Y_test, y_pred_test)))\n"
      ],
      "execution_count": null,
      "outputs": [
        {
          "output_type": "stream",
          "text": [
            "R-squared = 0.2764\n",
            "Root mean squared error = 0.4454\n"
          ],
          "name": "stdout"
        }
      ]
    },
    {
      "cell_type": "code",
      "metadata": {
        "colab": {
          "base_uri": "https://localhost:8080/"
        },
        "id": "1fCmKb3Fku3p",
        "outputId": "b7703aa8-5afc-4095-8cc4-6f0dfe10e3d3"
      },
      "source": [
        "##RIDGE\n",
        "\n",
        "from sklearn.linear_model import Ridge\n",
        "\n",
        "\n",
        "#R2-SCORE\n",
        "regr = Ridge()\n",
        "regr.fit(X_train, Y_train)\n",
        "y_pred_test = regr.predict(X_test)\n",
        "print('R-squared = %.4f' % r2_score(Y_test, y_pred_test))\n",
        "#RMSE\n",
        "print(\"Root mean squared error = %.4f\" % np.sqrt(mean_squared_error(Y_test, y_pred_test)))"
      ],
      "execution_count": null,
      "outputs": [
        {
          "output_type": "stream",
          "text": [
            "R-squared = 0.4396\n",
            "Root mean squared error = 0.3919\n"
          ],
          "name": "stdout"
        }
      ]
    },
    {
      "cell_type": "code",
      "metadata": {
        "colab": {
          "base_uri": "https://localhost:8080/"
        },
        "id": "Rj4-_Tp-k2hm",
        "outputId": "0d808e0c-3b72-467b-a854-56489d78de56"
      },
      "source": [
        "##SVR\n",
        "\n",
        "from sklearn.svm import SVR\n",
        "\n",
        "\n",
        "#R2-SCORE\n",
        "regr = SVR()\n",
        "regr.fit(X_train, Y_train)\n",
        "y_pred_test = regr.predict(X_test)\n",
        "print('R-squared = %.4f' % r2_score(Y_test, y_pred_test))\n",
        "#RMSE\n",
        "print(\"Root mean squared error = %.4f\" % np.sqrt(mean_squared_error(Y_test, y_pred_test)))"
      ],
      "execution_count": null,
      "outputs": [
        {
          "output_type": "stream",
          "text": [
            "R-squared = 0.1724\n",
            "Root mean squared error = 0.4763\n"
          ],
          "name": "stdout"
        }
      ]
    },
    {
      "cell_type": "code",
      "metadata": {
        "colab": {
          "base_uri": "https://localhost:8080/"
        },
        "id": "4lSlRYK97MSL",
        "outputId": "ff25a4a2-70a0-4956-8d13-26aeb4f61fbd"
      },
      "source": [
        "##KNeighbors\n",
        "from sklearn.neighbors import KNeighborsRegressor\n",
        "\n",
        "#R2-SCORE\n",
        "regr = KNeighborsRegressor()\n",
        "regr.fit(X_train, Y_train)\n",
        "y_pred_test = regr.predict(X_test)\n",
        "print('R-squared = %.4f' % r2_score(Y_test, y_pred_test))\n",
        "#RMSE\n",
        "print(\"Root mean squared error = %.4f\" % np.sqrt(mean_squared_error(Y_test, y_pred_test)))\n",
        "\n"
      ],
      "execution_count": null,
      "outputs": [
        {
          "output_type": "stream",
          "text": [
            "R-squared = 0.2154\n",
            "Root mean squared error = 0.4638\n"
          ],
          "name": "stdout"
        }
      ]
    },
    {
      "cell_type": "code",
      "metadata": {
        "colab": {
          "base_uri": "https://localhost:8080/"
        },
        "id": "-1XeO7WO7Mt1",
        "outputId": "c890e9dc-90c7-4d64-cec7-8c9d443872f5"
      },
      "source": [
        "##ADABoost\n",
        "from sklearn.ensemble import AdaBoostRegressor\n",
        "\n",
        "#R2-SCORE\n",
        "regr = AdaBoostRegressor()\n",
        "regr.fit(X_train, Y_train)\n",
        "y_pred_test = regr.predict(X_test)\n",
        "print('R-squared = %.4f' % r2_score(Y_test, y_pred_test))\n",
        "#RMSE\n",
        "print(\"Root mean squared error = %.4f\" % np.sqrt(mean_squared_error(Y_test, y_pred_test)))\n"
      ],
      "execution_count": null,
      "outputs": [
        {
          "output_type": "stream",
          "text": [
            "R-squared = 0.4059\n",
            "Root mean squared error = 0.4036\n"
          ],
          "name": "stdout"
        }
      ]
    },
    {
      "cell_type": "code",
      "metadata": {
        "colab": {
          "base_uri": "https://localhost:8080/"
        },
        "id": "VoDWKhNPlaYX",
        "outputId": "73e59a94-f996-4c98-d150-aed7d500b82e"
      },
      "source": [
        "##GradientBoostingRegressor\n",
        "\n",
        "from sklearn.ensemble import GradientBoostingRegressor\n",
        "\n",
        "\n",
        "#R2-SCORE\n",
        "regr = GradientBoostingRegressor()\n",
        "regr.fit(X_train, Y_train)\n",
        "y_pred_test = regr.predict(X_test)\n",
        "print('R-squared = %.4f' % r2_score(Y_test, y_pred_test))\n",
        "#RMSE\n",
        "print(\"Root mean squared error = %.4f\" % np.sqrt(mean_squared_error(Y_test, y_pred_test)))"
      ],
      "execution_count": null,
      "outputs": [
        {
          "output_type": "stream",
          "text": [
            "R-squared = 0.5845\n",
            "Root mean squared error = 0.3375\n"
          ],
          "name": "stdout"
        }
      ]
    },
    {
      "cell_type": "code",
      "metadata": {
        "colab": {
          "base_uri": "https://localhost:8080/"
        },
        "id": "lUPHTP0zGkun",
        "outputId": "ec47e976-17e0-401f-f9b1-ce0a4a3ed8a0"
      },
      "source": [
        "\n",
        "##RandomForestRegressor\n",
        "from sklearn.ensemble import RandomForestRegressor\n",
        "\n",
        "#R2-SCORE\n",
        "regr = RandomForestRegressor()\n",
        "regr.fit(X_train, Y_train)\n",
        "y_pred_test = regr.predict(X_test)\n",
        "print('R-squared = %.4f' % r2_score(Y_test, y_pred_test))\n",
        "#RMSE\n",
        "print(\"Root mean squared error = %.4f\" % np.sqrt(mean_squared_error(Y_test, y_pred_test)))\n"
      ],
      "execution_count": null,
      "outputs": [
        {
          "output_type": "stream",
          "text": [
            "R-squared = 0.5878\n",
            "Root mean squared error = 0.3361\n"
          ],
          "name": "stdout"
        }
      ]
    },
    {
      "cell_type": "markdown",
      "metadata": {
        "id": "ZXchGzNc3Y-f"
      },
      "source": [
        "B"
      ]
    },
    {
      "cell_type": "code",
      "metadata": {
        "colab": {
          "base_uri": "https://localhost:8080/",
          "height": 357
        },
        "id": "KKXt1REc3ZyJ",
        "outputId": "e396e046-1ee2-4fe0-a37d-2a994357c591"
      },
      "source": [
        "data = pd.read_csv(\"/content/Video_Games_Sales_as_at_22_Dec_2016.csv\")\n",
        "data = data[(data['Platform'] == 'PS3') | (data['Platform'] == 'PS4') | (data['Platform'] == 'X360') | (data['Platform'] == 'XOne') | (data['Platform'] == 'Wii') | (data['Platform'] == 'WiiU') | (data['Platform'] == 'PC')]\n",
        "\n",
        "#Let's double check the value counts to be sure\n",
        "print(pd.value_counts(data[\"Platform\"]))\n",
        "\n",
        "#Let's see the shape of the data again\n",
        "print(data.shape)\n",
        "data = data.dropna(subset=['Publisher','Developer','Rating'])\n",
        "\n",
        "#Lets see the missing ratios again\n",
        "data_na = (data.isnull().sum() / len(data)) * 100\n",
        "data_na = data_na.drop(data_na[data_na == 0].index).sort_values(ascending=False)[:30]\n",
        "missing_data = pd.DataFrame({'Missing Ratio' :data_na})\n",
        "missing_data.head(16)"
      ],
      "execution_count": null,
      "outputs": [
        {
          "output_type": "stream",
          "text": [
            "PS3     1331\n",
            "Wii     1320\n",
            "X360    1262\n",
            "PC       974\n",
            "PS4      393\n",
            "XOne     247\n",
            "WiiU     147\n",
            "Name: Platform, dtype: int64\n",
            "(5674, 16)\n"
          ],
          "name": "stdout"
        },
        {
          "output_type": "execute_result",
          "data": {
            "text/html": [
              "<div>\n",
              "<style scoped>\n",
              "    .dataframe tbody tr th:only-of-type {\n",
              "        vertical-align: middle;\n",
              "    }\n",
              "\n",
              "    .dataframe tbody tr th {\n",
              "        vertical-align: top;\n",
              "    }\n",
              "\n",
              "    .dataframe thead th {\n",
              "        text-align: right;\n",
              "    }\n",
              "</style>\n",
              "<table border=\"1\" class=\"dataframe\">\n",
              "  <thead>\n",
              "    <tr style=\"text-align: right;\">\n",
              "      <th></th>\n",
              "      <th>Missing Ratio</th>\n",
              "    </tr>\n",
              "  </thead>\n",
              "  <tbody>\n",
              "    <tr>\n",
              "      <th>Critic_Count</th>\n",
              "      <td>19.625087</td>\n",
              "    </tr>\n",
              "    <tr>\n",
              "      <th>Critic_Score</th>\n",
              "      <td>19.625087</td>\n",
              "    </tr>\n",
              "    <tr>\n",
              "      <th>User_Count</th>\n",
              "      <td>16.014811</td>\n",
              "    </tr>\n",
              "    <tr>\n",
              "      <th>Year_of_Release</th>\n",
              "      <td>1.805138</td>\n",
              "    </tr>\n",
              "    <tr>\n",
              "      <th>User_Score</th>\n",
              "      <td>0.763712</td>\n",
              "    </tr>\n",
              "  </tbody>\n",
              "</table>\n",
              "</div>"
            ],
            "text/plain": [
              "                 Missing Ratio\n",
              "Critic_Count         19.625087\n",
              "Critic_Score         19.625087\n",
              "User_Count           16.014811\n",
              "Year_of_Release       1.805138\n",
              "User_Score            0.763712"
            ]
          },
          "metadata": {
            "tags": []
          },
          "execution_count": 50
        }
      ]
    },
    {
      "cell_type": "code",
      "metadata": {
        "id": "rJKd6c293YlH"
      },
      "source": [
        "\n",
        "\n",
        "\n",
        "data['Year_of_Release'] = data['Year_of_Release'].fillna(data['Year_of_Release'].median())\n",
        "data['Critic_Count'] = data['Critic_Count'].fillna(data['Critic_Count'].median())\n",
        "data['Critic_Score'] = data['Critic_Score'].fillna(data['Critic_Score'].median())\n",
        "\n",
        "\n",
        "\n",
        "data['User_Score'] = data['User_Score'].replace('tbd', None)\n",
        "data['User_Score'] = data['User_Score'].astype(float)\n",
        "data['User_Score'] = data['User_Score'].fillna(data['User_Score'].median())\n",
        "data['User_Score'] = data['User_Score'].astype(int)\n",
        "data['User_Count'] = data['User_Count'].fillna(data['User_Count'].median())\n"
      ],
      "execution_count": null,
      "outputs": []
    },
    {
      "cell_type": "code",
      "metadata": {
        "colab": {
          "base_uri": "https://localhost:8080/"
        },
        "id": "kzppo_Yi25b5",
        "outputId": "bee4651f-8805-4abd-da2a-893433c9b602"
      },
      "source": [
        "print(data.shape) #pre-dummies shape\n",
        "data = pd.get_dummies(data=data, columns=['Platform', 'Genre', 'Rating'])\n",
        "print(data.shape) #post-dummies shape\n",
        "data.head #Check to verify that dummies are ok"
      ],
      "execution_count": null,
      "outputs": [
        {
          "output_type": "stream",
          "text": [
            "(4321, 16)\n",
            "(4321, 39)\n"
          ],
          "name": "stdout"
        },
        {
          "output_type": "execute_result",
          "data": {
            "text/plain": [
              "<bound method NDFrame.head of                                     Name  Year_of_Release  ... Rating_RP  Rating_T\n",
              "0                             Wii Sports           2006.0  ...         0         0\n",
              "2                         Mario Kart Wii           2008.0  ...         0         0\n",
              "3                      Wii Sports Resort           2009.0  ...         0         0\n",
              "7                               Wii Play           2006.0  ...         0         0\n",
              "8              New Super Mario Bros. Wii           2009.0  ...         0         0\n",
              "...                                  ...              ...  ...       ...       ...\n",
              "16682                     End of Nations           2012.0  ...         0         1\n",
              "16685                            Worms 2           1997.0  ...         0         0\n",
              "16696  Metal Gear Solid V: Ground Zeroes           2014.0  ...         0         0\n",
              "16700                             Breach           2011.0  ...         0         1\n",
              "16706            STORM: Frontline Nation           2011.0  ...         0         0\n",
              "\n",
              "[4321 rows x 39 columns]>"
            ]
          },
          "metadata": {
            "tags": []
          },
          "execution_count": 52
        }
      ]
    },
    {
      "cell_type": "code",
      "metadata": {
        "id": "LRgbGJvr4cPY"
      },
      "source": [
        "data = data.drop(['Name', 'Publisher', 'Developer', 'NA_Sales', 'EU_Sales', 'JP_Sales', 'Other_Sales'], axis=1)\n"
      ],
      "execution_count": null,
      "outputs": []
    },
    {
      "cell_type": "code",
      "metadata": {
        "colab": {
          "base_uri": "https://localhost:8080/",
          "height": 83
        },
        "id": "38T9yckS4saU",
        "outputId": "98df5dfd-1008-44eb-ef09-4be0f51c8312"
      },
      "source": [
        "X = data[['Year_of_Release', 'Critic_Score', 'Critic_Count',\n",
        "       'User_Score', 'User_Count', 'Platform_PC', 'Platform_PS3',\n",
        "       'Platform_PS4', 'Platform_Wii', 'Platform_WiiU', 'Platform_X360',\n",
        "       'Platform_XOne', 'Genre_Action', 'Genre_Adventure', 'Genre_Fighting',\n",
        "       'Genre_Misc', 'Genre_Platform', 'Genre_Puzzle', 'Genre_Racing',\n",
        "       'Genre_Role-Playing', 'Genre_Shooter', 'Genre_Simulation',\n",
        "       'Genre_Sports', 'Genre_Strategy', 'Rating_E', 'Rating_E10+', 'Rating_M',\n",
        "       'Rating_RP', 'Rating_T']]\n",
        "\n",
        "Y = data[['Global_Sales']]\n",
        "\n",
        "#Double checking the shape\n",
        "print(X.shape)\n",
        "print(Y.shape)\n",
        "data_na = (data.isnull().sum() / len(data)) * 100\n",
        "data_na = data_na.drop(data_na[data_na == 0].index).sort_values(ascending=False)[:30]\n",
        "missing_data = pd.DataFrame({'Missing Ratio' :data_na})\n",
        "missing_data.head(16)"
      ],
      "execution_count": null,
      "outputs": [
        {
          "output_type": "stream",
          "text": [
            "(4321, 29)\n",
            "(4321, 1)\n"
          ],
          "name": "stdout"
        },
        {
          "output_type": "execute_result",
          "data": {
            "text/html": [
              "<div>\n",
              "<style scoped>\n",
              "    .dataframe tbody tr th:only-of-type {\n",
              "        vertical-align: middle;\n",
              "    }\n",
              "\n",
              "    .dataframe tbody tr th {\n",
              "        vertical-align: top;\n",
              "    }\n",
              "\n",
              "    .dataframe thead th {\n",
              "        text-align: right;\n",
              "    }\n",
              "</style>\n",
              "<table border=\"1\" class=\"dataframe\">\n",
              "  <thead>\n",
              "    <tr style=\"text-align: right;\">\n",
              "      <th></th>\n",
              "      <th>Missing Ratio</th>\n",
              "    </tr>\n",
              "  </thead>\n",
              "  <tbody>\n",
              "  </tbody>\n",
              "</table>\n",
              "</div>"
            ],
            "text/plain": [
              "Empty DataFrame\n",
              "Columns: [Missing Ratio]\n",
              "Index: []"
            ]
          },
          "metadata": {
            "tags": []
          },
          "execution_count": 54
        }
      ]
    },
    {
      "cell_type": "code",
      "metadata": {
        "colab": {
          "base_uri": "https://localhost:8080/"
        },
        "id": "QT5KrGMN40fA",
        "outputId": "d866fd6d-0586-493f-9149-e17a9b7f7f4c"
      },
      "source": [
        "from sklearn.model_selection import train_test_split\n",
        "\n",
        "X_train, X_test, Y_train, Y_test = train_test_split(X, Y, random_state=42)\n",
        "\n",
        "#Let's check the shape of the split data as a precaution\n",
        "print(\"X_train shape: {}\".format(X_train.shape))\n",
        "print(\"Y_train shape: {}\".format(Y_train.shape))\n",
        "\n",
        "print(\"X_test shape: {}\".format(X_test.shape))\n",
        "print(\"Y_test shape: {}\".format(Y_test.shape))"
      ],
      "execution_count": null,
      "outputs": [
        {
          "output_type": "stream",
          "text": [
            "X_train shape: (3240, 29)\n",
            "Y_train shape: (3240, 1)\n",
            "X_test shape: (1081, 29)\n",
            "Y_test shape: (1081, 1)\n"
          ],
          "name": "stdout"
        }
      ]
    },
    {
      "cell_type": "code",
      "metadata": {
        "id": "WPLkFPV1T2VY"
      },
      "source": [
        "#We use the numpy function log1p which  applies log(1+x) to all elements of the column\n",
        "Y_train = np.log1p(Y_train)\n",
        "Y_test = np.log1p(Y_test)"
      ],
      "execution_count": null,
      "outputs": []
    },
    {
      "cell_type": "code",
      "metadata": {
        "colab": {
          "base_uri": "https://localhost:8080/"
        },
        "id": "J3OrSQgw41N7",
        "outputId": "631269ee-523f-4554-cf72-49d738318a07"
      },
      "source": [
        "##LINEAR REGRESSION\n",
        "\n",
        "from sklearn.linear_model import LinearRegression\n",
        "\n",
        "#R2-SCORE\n",
        "regr = LinearRegression()\n",
        "regr.fit(X_train, Y_train)\n",
        "y_pred_test = regr.predict(X_test)\n",
        "print('R-squared = %.4f' % r2_score(Y_test, y_pred_test))\n",
        "#RMSE\n",
        "print(\"Root mean squared error = %.4f\" % np.sqrt(mean_squared_error(Y_test, y_pred_test)))"
      ],
      "execution_count": null,
      "outputs": [
        {
          "output_type": "stream",
          "text": [
            "R-squared = 0.3780\n",
            "Root mean squared error = 0.3737\n"
          ],
          "name": "stdout"
        }
      ]
    },
    {
      "cell_type": "code",
      "metadata": {
        "colab": {
          "base_uri": "https://localhost:8080/"
        },
        "id": "biJ0Mahq41Aw",
        "outputId": "c03140c3-92ae-4158-bfb0-9a7bf2ac1ee3"
      },
      "source": [
        "##DecisionTreeRegressor\n",
        "from sklearn.tree import DecisionTreeRegressor\n",
        "\n",
        "#R2-SCORE\n",
        "regr = DecisionTreeRegressor()\n",
        "regr.fit(X_train, Y_train)\n",
        "y_pred_test = regr.predict(X_test)\n",
        "print('R-squared = %.4f' % r2_score(Y_test, y_pred_test))\n",
        "#RMSE\n",
        "print(\"Root mean squared error = %.4f\" % np.sqrt(mean_squared_error(Y_test, y_pred_test)))\n"
      ],
      "execution_count": null,
      "outputs": [
        {
          "output_type": "stream",
          "text": [
            "R-squared = 0.2306\n",
            "Root mean squared error = 0.4156\n"
          ],
          "name": "stdout"
        }
      ]
    },
    {
      "cell_type": "code",
      "metadata": {
        "colab": {
          "base_uri": "https://localhost:8080/"
        },
        "id": "a-RRtAWz5VUT",
        "outputId": "d49ee5c6-0399-40de-e74c-8ec4c08c2919"
      },
      "source": [
        "##RIDGE\n",
        "\n",
        "from sklearn.linear_model import Ridge\n",
        "\n",
        "\n",
        "#R2-SCORE\n",
        "regr = Ridge()\n",
        "regr.fit(X_train, Y_train)\n",
        "y_pred_test = regr.predict(X_test)\n",
        "print('R-squared = %.4f' % r2_score(Y_test, y_pred_test))\n",
        "#RMSE\n",
        "print(\"Root mean squared error = %.4f\" % np.sqrt(mean_squared_error(Y_test, y_pred_test)))"
      ],
      "execution_count": null,
      "outputs": [
        {
          "output_type": "stream",
          "text": [
            "R-squared = 0.3780\n",
            "Root mean squared error = 0.3737\n"
          ],
          "name": "stdout"
        }
      ]
    },
    {
      "cell_type": "code",
      "metadata": {
        "colab": {
          "base_uri": "https://localhost:8080/"
        },
        "id": "ZPkeTZ545Z6d",
        "outputId": "901f997b-f3c4-4f1f-f669-2553bf54bbaa"
      },
      "source": [
        "##SVR\n",
        "\n",
        "from sklearn.svm import SVR\n",
        "\n",
        "#R2-SCORE\n",
        "regr = SVR()\n",
        "regr.fit(X_train, Y_train)\n",
        "y_pred_test = regr.predict(X_test)\n",
        "print('R-squared = %.4f' % r2_score(Y_test, y_pred_test))\n",
        "#RMSE\n",
        "print(\"Root mean squared error = %.4f\" % np.sqrt(mean_squared_error(Y_test, y_pred_test)))"
      ],
      "execution_count": null,
      "outputs": [
        {
          "output_type": "stream",
          "text": [
            "R-squared = 0.2137\n",
            "Root mean squared error = 0.4202\n"
          ],
          "name": "stdout"
        }
      ]
    },
    {
      "cell_type": "code",
      "metadata": {
        "colab": {
          "base_uri": "https://localhost:8080/"
        },
        "id": "6ZGFPFcX7TeI",
        "outputId": "073f587d-c3a5-475c-a447-2acb7fd7dd2d"
      },
      "source": [
        "##KNeighbors\n",
        "from sklearn.neighbors import KNeighborsRegressor\n",
        "\n",
        "#R2-SCORE\n",
        "regr = KNeighborsRegressor()\n",
        "regr.fit(X_train, Y_train)\n",
        "y_pred_test = regr.predict(X_test)\n",
        "print('R-squared = %.4f' % r2_score(Y_test, y_pred_test))\n",
        "#RMSE\n",
        "print(\"Root mean squared error = %.4f\" % np.sqrt(mean_squared_error(Y_test, y_pred_test)))\n",
        "\n"
      ],
      "execution_count": null,
      "outputs": [
        {
          "output_type": "stream",
          "text": [
            "R-squared = 0.2453\n",
            "Root mean squared error = 0.4117\n"
          ],
          "name": "stdout"
        }
      ]
    },
    {
      "cell_type": "code",
      "metadata": {
        "colab": {
          "base_uri": "https://localhost:8080/"
        },
        "id": "yJo8TCiV7TOg",
        "outputId": "b55af448-7445-42be-89d7-6f3c906b75f3"
      },
      "source": [
        "##ADABoost\n",
        "from sklearn.ensemble import AdaBoostRegressor\n",
        "\n",
        "#R2-SCORE\n",
        "regr = AdaBoostRegressor()\n",
        "regr.fit(X_train, Y_train)\n",
        "y_pred_test = regr.predict(X_test)\n",
        "print('R-squared = %.4f' % r2_score(Y_test, y_pred_test))\n",
        "#RMSE\n",
        "print(\"Root mean squared error = %.4f\" % np.sqrt(mean_squared_error(Y_test, y_pred_test)))\n"
      ],
      "execution_count": null,
      "outputs": [
        {
          "output_type": "stream",
          "text": [
            "R-squared = 0.2589\n",
            "Root mean squared error = 0.4079\n"
          ],
          "name": "stdout"
        }
      ]
    },
    {
      "cell_type": "code",
      "metadata": {
        "colab": {
          "base_uri": "https://localhost:8080/"
        },
        "id": "IxdzPg1D5gA7",
        "outputId": "eaae9db3-0905-44ca-814f-b82d768558ee"
      },
      "source": [
        "##GradientBoostingRegressor\n",
        "from sklearn.ensemble import GradientBoostingRegressor\n",
        "\n",
        "#R2-SCORE\n",
        "regr = GradientBoostingRegressor()\n",
        "regr.fit(X_train, Y_train)\n",
        "y_pred_test = regr.predict(X_test)\n",
        "print('R-squared = %.4f' % r2_score(Y_test, y_pred_test))\n",
        "#RMSE\n",
        "print(\"Root mean squared error = %.4f\" % np.sqrt(mean_squared_error(Y_test, y_pred_test)))"
      ],
      "execution_count": null,
      "outputs": [
        {
          "output_type": "stream",
          "text": [
            "R-squared = 0.5624\n",
            "Root mean squared error = 0.3135\n"
          ],
          "name": "stdout"
        }
      ]
    },
    {
      "cell_type": "code",
      "metadata": {
        "colab": {
          "base_uri": "https://localhost:8080/"
        },
        "id": "SFsW1hrIG2E-",
        "outputId": "67f34cba-aff6-4507-a5f3-e9ffece96cb4"
      },
      "source": [
        "##RandomForestRegressor\n",
        "from sklearn.ensemble import RandomForestRegressor\n",
        "\n",
        "#R2-SCORE\n",
        "regr = RandomForestRegressor()\n",
        "regr.fit(X_train, Y_train)\n",
        "y_pred_test = regr.predict(X_test)\n",
        "print('R-squared = %.4f' % r2_score(Y_test, y_pred_test))\n",
        "#RMSE\n",
        "print(\"Root mean squared error = %.4f\" % np.sqrt(mean_squared_error(Y_test, y_pred_test)))\n"
      ],
      "execution_count": null,
      "outputs": [
        {
          "output_type": "stream",
          "text": [
            "R-squared = 0.5753\n",
            "Root mean squared error = 0.3088\n"
          ],
          "name": "stdout"
        }
      ]
    },
    {
      "cell_type": "code",
      "metadata": {
        "colab": {
          "base_uri": "https://localhost:8080/"
        },
        "id": "0egefjZfG1zl",
        "outputId": "7ca90522-2867-49f6-8b08-703cb3a26c67"
      },
      "source": [
        "##XGB\n",
        "import xgboost as xgb\n",
        "\n",
        "#R2-SCORE\n",
        "regr = xgb.XGBRegressor()\n",
        "regr.fit(X_train, Y_train)\n",
        "y_pred_test = regr.predict(X_test)\n",
        "print('R-squared = %.4f' % r2_score(Y_test, y_pred_test))\n",
        "#RMSE\n",
        "print(\"Root mean squared error = %.4f\" % np.sqrt(mean_squared_error(Y_test, y_pred_test)))\n"
      ],
      "execution_count": null,
      "outputs": [
        {
          "output_type": "stream",
          "text": [
            "[07:13:59] WARNING: /workspace/src/objective/regression_obj.cu:152: reg:linear is now deprecated in favor of reg:squarederror.\n",
            "R-squared = 0.5649\n",
            "Root mean squared error = 0.3126\n"
          ],
          "name": "stdout"
        }
      ]
    },
    {
      "cell_type": "markdown",
      "metadata": {
        "id": "0ebvGYpP5hwK"
      },
      "source": [
        "C"
      ]
    },
    {
      "cell_type": "code",
      "metadata": {
        "colab": {
          "base_uri": "https://localhost:8080/",
          "height": 450
        },
        "id": "3uQ0m9xH6XgD",
        "outputId": "0e76e0f1-02d6-4abf-97d9-6d30c33d974f"
      },
      "source": [
        "data = pd.read_csv(\"/content/Video_Games_Sales_as_at_22_Dec_2016.csv\")\n",
        "data = data[(data['Platform'] == 'PS3') | (data['Platform'] == 'PS4') | (data['Platform'] == 'X360') | (data['Platform'] == 'XOne') | (data['Platform'] == 'Wii') | (data['Platform'] == 'WiiU') | (data['Platform'] == 'PC')]\n",
        "\n",
        "#Let's double check the value counts to be sure\n",
        "print(pd.value_counts(data[\"Platform\"]))\n",
        "\n",
        "#Let's see the shape of the data again\n",
        "print(data.shape)\n",
        "\n",
        "\n",
        "#Lets see the missing ratios again\n",
        "data_na = (data.isnull().sum() / len(data)) * 100\n",
        "data_na = data_na.drop(data_na[data_na == 0].index).sort_values(ascending=False)[:30]\n",
        "missing_data = pd.DataFrame({'Missing Ratio' :data_na})\n",
        "missing_data.head(16)"
      ],
      "execution_count": null,
      "outputs": [
        {
          "output_type": "stream",
          "text": [
            "PS3     1331\n",
            "Wii     1320\n",
            "X360    1262\n",
            "PC       974\n",
            "PS4      393\n",
            "XOne     247\n",
            "WiiU     147\n",
            "Name: Platform, dtype: int64\n",
            "(5674, 16)\n"
          ],
          "name": "stdout"
        },
        {
          "output_type": "execute_result",
          "data": {
            "text/html": [
              "<div>\n",
              "<style scoped>\n",
              "    .dataframe tbody tr th:only-of-type {\n",
              "        vertical-align: middle;\n",
              "    }\n",
              "\n",
              "    .dataframe tbody tr th {\n",
              "        vertical-align: top;\n",
              "    }\n",
              "\n",
              "    .dataframe thead th {\n",
              "        text-align: right;\n",
              "    }\n",
              "</style>\n",
              "<table border=\"1\" class=\"dataframe\">\n",
              "  <thead>\n",
              "    <tr style=\"text-align: right;\">\n",
              "      <th></th>\n",
              "      <th>Missing Ratio</th>\n",
              "    </tr>\n",
              "  </thead>\n",
              "  <tbody>\n",
              "    <tr>\n",
              "      <th>Critic_Count</th>\n",
              "      <td>37.486782</td>\n",
              "    </tr>\n",
              "    <tr>\n",
              "      <th>Critic_Score</th>\n",
              "      <td>37.486782</td>\n",
              "    </tr>\n",
              "    <tr>\n",
              "      <th>User_Count</th>\n",
              "      <td>34.578780</td>\n",
              "    </tr>\n",
              "    <tr>\n",
              "      <th>Rating</th>\n",
              "      <td>23.757490</td>\n",
              "    </tr>\n",
              "    <tr>\n",
              "      <th>User_Score</th>\n",
              "      <td>22.559041</td>\n",
              "    </tr>\n",
              "    <tr>\n",
              "      <th>Developer</th>\n",
              "      <td>21.713077</td>\n",
              "    </tr>\n",
              "    <tr>\n",
              "      <th>Year_of_Release</th>\n",
              "      <td>1.868171</td>\n",
              "    </tr>\n",
              "    <tr>\n",
              "      <th>Publisher</th>\n",
              "      <td>0.229115</td>\n",
              "    </tr>\n",
              "  </tbody>\n",
              "</table>\n",
              "</div>"
            ],
            "text/plain": [
              "                 Missing Ratio\n",
              "Critic_Count         37.486782\n",
              "Critic_Score         37.486782\n",
              "User_Count           34.578780\n",
              "Rating               23.757490\n",
              "User_Score           22.559041\n",
              "Developer            21.713077\n",
              "Year_of_Release       1.868171\n",
              "Publisher             0.229115"
            ]
          },
          "metadata": {
            "tags": []
          },
          "execution_count": 66
        }
      ]
    },
    {
      "cell_type": "code",
      "metadata": {
        "id": "W0Uvc43S6XQv"
      },
      "source": [
        "\n",
        "data['Publisher'] = data['Publisher'].fillna(data['Publisher'].mode()[0])\n",
        "data['Developer'] = data['Developer'].fillna(data['Developer'].mode()[0])\n",
        "data['Rating'] = data['Rating'].fillna(data['Rating'].mode()[0])\n",
        "\n",
        "data['Year_of_Release'] = data['Year_of_Release'].fillna(data['Year_of_Release'].mode()[0])\n",
        "data['Critic_Count'] = data['Critic_Count'].fillna(data['Critic_Count'].mode()[0])\n",
        "data['Critic_Score'] = data['Critic_Score'].fillna(data['Critic_Score'].mode()[0])\n",
        "\n",
        "\n",
        "\n",
        "data['User_Score'] = data['User_Score'].replace('tbd', None)\n",
        "data['User_Score'] = data['User_Score'].astype(float)\n",
        "data['User_Score'] = data['User_Score'].fillna(data['User_Score'].mode()[0])\n",
        "#data['User_Score'] = data['User_Score'].astype(int)\n",
        "data['User_Count'] = data['User_Count'].fillna(data['User_Count'].mode()[0])\n"
      ],
      "execution_count": null,
      "outputs": []
    },
    {
      "cell_type": "code",
      "metadata": {
        "colab": {
          "base_uri": "https://localhost:8080/"
        },
        "id": "QiqKmSGK6XMR",
        "outputId": "f80821eb-4d6b-4fa0-d2fa-786b653236e1"
      },
      "source": [
        "print(data.shape) #pre-dummies shape\n",
        "data = pd.get_dummies(data=data, columns=['Platform', 'Genre', 'Rating'])\n",
        "print(data.shape) #post-dummies shape\n",
        "data.head #Check to verify that dummies are ok"
      ],
      "execution_count": null,
      "outputs": [
        {
          "output_type": "stream",
          "text": [
            "(5674, 16)\n",
            "(5674, 39)\n"
          ],
          "name": "stdout"
        },
        {
          "output_type": "execute_result",
          "data": {
            "text/plain": [
              "<bound method NDFrame.head of                                 Name  Year_of_Release  ... Rating_RP  Rating_T\n",
              "0                         Wii Sports           2006.0  ...         0         0\n",
              "2                     Mario Kart Wii           2008.0  ...         0         0\n",
              "3                  Wii Sports Resort           2009.0  ...         0         0\n",
              "7                           Wii Play           2006.0  ...         0         0\n",
              "8          New Super Mario Bros. Wii           2009.0  ...         0         0\n",
              "...                              ...              ...  ...       ...       ...\n",
              "16700                         Breach           2011.0  ...         0         1\n",
              "16706        STORM: Frontline Nation           2011.0  ...         0         0\n",
              "16709                        15 Days           2009.0  ...         0         1\n",
              "16714  Samurai Warriors: Sanada Maru           2016.0  ...         0         1\n",
              "16715               LMA Manager 2007           2006.0  ...         0         1\n",
              "\n",
              "[5674 rows x 39 columns]>"
            ]
          },
          "metadata": {
            "tags": []
          },
          "execution_count": 68
        }
      ]
    },
    {
      "cell_type": "code",
      "metadata": {
        "id": "GPfPNAEf6XDB"
      },
      "source": [
        "data = data.drop(['Name','Publisher', 'Developer', 'NA_Sales', 'EU_Sales', 'JP_Sales', 'Other_Sales'], axis=1)\n"
      ],
      "execution_count": null,
      "outputs": []
    },
    {
      "cell_type": "code",
      "metadata": {
        "colab": {
          "base_uri": "https://localhost:8080/",
          "height": 83
        },
        "id": "Ujm419906W8K",
        "outputId": "e42b2bed-a264-40b6-c3bc-27ef00f865d2"
      },
      "source": [
        "X = data[['Year_of_Release', 'Critic_Score', 'Critic_Count',\n",
        "       'User_Score', 'User_Count', 'Platform_PC', 'Platform_PS3',\n",
        "       'Platform_PS4', 'Platform_Wii', 'Platform_WiiU', 'Platform_X360',\n",
        "       'Platform_XOne', 'Genre_Action', 'Genre_Adventure', 'Genre_Fighting',\n",
        "       'Genre_Misc', 'Genre_Platform', 'Genre_Puzzle', 'Genre_Racing',\n",
        "       'Genre_Role-Playing', 'Genre_Shooter', 'Genre_Simulation',\n",
        "       'Genre_Sports', 'Genre_Strategy', 'Rating_E', 'Rating_E10+', 'Rating_M',\n",
        "       'Rating_RP', 'Rating_T']]\n",
        "\n",
        "Y = data[['Global_Sales']]\n",
        "\n",
        "#Double checking the shape\n",
        "print(X.shape)\n",
        "print(Y.shape)\n",
        "data_na = (data.isnull().sum() / len(data)) * 100\n",
        "data_na = data_na.drop(data_na[data_na == 0].index).sort_values(ascending=False)[:30]\n",
        "missing_data = pd.DataFrame({'Missing Ratio' :data_na})\n",
        "missing_data.head(16)"
      ],
      "execution_count": null,
      "outputs": [
        {
          "output_type": "stream",
          "text": [
            "(5674, 29)\n",
            "(5674, 1)\n"
          ],
          "name": "stdout"
        },
        {
          "output_type": "execute_result",
          "data": {
            "text/html": [
              "<div>\n",
              "<style scoped>\n",
              "    .dataframe tbody tr th:only-of-type {\n",
              "        vertical-align: middle;\n",
              "    }\n",
              "\n",
              "    .dataframe tbody tr th {\n",
              "        vertical-align: top;\n",
              "    }\n",
              "\n",
              "    .dataframe thead th {\n",
              "        text-align: right;\n",
              "    }\n",
              "</style>\n",
              "<table border=\"1\" class=\"dataframe\">\n",
              "  <thead>\n",
              "    <tr style=\"text-align: right;\">\n",
              "      <th></th>\n",
              "      <th>Missing Ratio</th>\n",
              "    </tr>\n",
              "  </thead>\n",
              "  <tbody>\n",
              "  </tbody>\n",
              "</table>\n",
              "</div>"
            ],
            "text/plain": [
              "Empty DataFrame\n",
              "Columns: [Missing Ratio]\n",
              "Index: []"
            ]
          },
          "metadata": {
            "tags": []
          },
          "execution_count": 70
        }
      ]
    },
    {
      "cell_type": "code",
      "metadata": {
        "colab": {
          "base_uri": "https://localhost:8080/"
        },
        "id": "S8GFx4of6W0t",
        "outputId": "214ba031-158e-4243-d7fd-946e685fe555"
      },
      "source": [
        "from sklearn.model_selection import train_test_split\n",
        "\n",
        "X_train, X_test, Y_train, Y_test = train_test_split(X, Y, random_state=42)\n",
        "\n",
        "#Let's check the shape of the split data as a precaution\n",
        "print(\"X_train shape: {}\".format(X_train.shape))\n",
        "print(\"Y_train shape: {}\".format(Y_train.shape))\n",
        "\n",
        "print(\"X_test shape: {}\".format(X_test.shape))\n",
        "print(\"Y_test shape: {}\".format(Y_test.shape))"
      ],
      "execution_count": null,
      "outputs": [
        {
          "output_type": "stream",
          "text": [
            "X_train shape: (4255, 29)\n",
            "Y_train shape: (4255, 1)\n",
            "X_test shape: (1419, 29)\n",
            "Y_test shape: (1419, 1)\n"
          ],
          "name": "stdout"
        }
      ]
    },
    {
      "cell_type": "code",
      "metadata": {
        "id": "F7NPSx2GUP2a"
      },
      "source": [
        "#We use the numpy fuction log1p which  applies log(1+x) to all elements of the column\n",
        "Y_train = np.log1p(Y_train)\n",
        "Y_test = np.log1p(Y_test)"
      ],
      "execution_count": null,
      "outputs": []
    },
    {
      "cell_type": "code",
      "metadata": {
        "colab": {
          "base_uri": "https://localhost:8080/"
        },
        "id": "6FOG5Tgn6Wv2",
        "outputId": "fd08aa59-6c8f-45a9-e7b2-69bf37fb9ba3"
      },
      "source": [
        "##LINEAR REGRESSION\n",
        "\n",
        "from sklearn.linear_model import LinearRegression\n",
        "\n",
        "#R2-SCORE\n",
        "regr = LinearRegression()\n",
        "regr.fit(X_train, Y_train)\n",
        "y_pred_test = regr.predict(X_test)\n",
        "print('R-squared = %.4f' % r2_score(Y_test, y_pred_test))\n",
        "#RMSE\n",
        "print(\"Root mean squared error = %.4f\" % np.sqrt(mean_squared_error(Y_test, y_pred_test)))"
      ],
      "execution_count": null,
      "outputs": [
        {
          "output_type": "stream",
          "text": [
            "R-squared = 0.4163\n",
            "Root mean squared error = 0.3450\n"
          ],
          "name": "stdout"
        }
      ]
    },
    {
      "cell_type": "code",
      "metadata": {
        "colab": {
          "base_uri": "https://localhost:8080/"
        },
        "id": "a2eX4kxk81ZR",
        "outputId": "e70b6f91-bac7-437a-e385-92618d86ba99"
      },
      "source": [
        "##DecisionTreeRegressor\n",
        "from sklearn.tree import DecisionTreeRegressor\n",
        "\n",
        "#R2-SCORE\n",
        "regr = DecisionTreeRegressor()\n",
        "regr.fit(X_train, Y_train)\n",
        "y_pred_test = regr.predict(X_test)\n",
        "print('R-squared = %.4f' % r2_score(Y_test, y_pred_test))\n",
        "#RMSE\n",
        "print(\"Root mean squared error = %.4f\" % np.sqrt(mean_squared_error(Y_test, y_pred_test)))\n"
      ],
      "execution_count": null,
      "outputs": [
        {
          "output_type": "stream",
          "text": [
            "R-squared = 0.1586\n",
            "Root mean squared error = 0.4142\n"
          ],
          "name": "stdout"
        }
      ]
    },
    {
      "cell_type": "code",
      "metadata": {
        "colab": {
          "base_uri": "https://localhost:8080/"
        },
        "id": "iLDuF1Zw81OU",
        "outputId": "c2396a7c-0136-4710-cf62-73a4d6e7a40f"
      },
      "source": [
        "##RIDGE\n",
        "\n",
        "from sklearn.linear_model import Ridge\n",
        "\n",
        "\n",
        "#R2-SCORE\n",
        "regr = Ridge()\n",
        "regr.fit(X_train, Y_train)\n",
        "y_pred_test = regr.predict(X_test)\n",
        "print('R-squared = %.4f' % r2_score(Y_test, y_pred_test))\n",
        "#RMSE\n",
        "print(\"Root mean squared error = %.4f\" % np.sqrt(mean_squared_error(Y_test, y_pred_test)))"
      ],
      "execution_count": null,
      "outputs": [
        {
          "output_type": "stream",
          "text": [
            "R-squared = 0.4166\n",
            "Root mean squared error = 0.3449\n"
          ],
          "name": "stdout"
        }
      ]
    },
    {
      "cell_type": "code",
      "metadata": {
        "colab": {
          "base_uri": "https://localhost:8080/"
        },
        "id": "ohkvQSQd81FH",
        "outputId": "bf606719-0c3d-45c1-fa46-a09ed728f685"
      },
      "source": [
        "##SVR\n",
        "#RMSE\n",
        "from sklearn.svm import SVR\n",
        "\n",
        "#R2-SCORE\n",
        "regr = SVR()\n",
        "regr.fit(X_train, Y_train)\n",
        "y_pred_test = regr.predict(X_test)\n",
        "print('R-squared = %.4f' % r2_score(Y_test, y_pred_test))\n",
        "#RMSE\n",
        "print(\"Root mean squared error = %.4f\" % np.sqrt(mean_squared_error(Y_test, y_pred_test)))"
      ],
      "execution_count": null,
      "outputs": [
        {
          "output_type": "stream",
          "text": [
            "R-squared = 0.2672\n",
            "Root mean squared error = 0.3866\n"
          ],
          "name": "stdout"
        }
      ]
    },
    {
      "cell_type": "code",
      "metadata": {
        "colab": {
          "base_uri": "https://localhost:8080/"
        },
        "id": "XROcEKM17ZwQ",
        "outputId": "3b7059a1-b4fe-400d-86a0-16dc19b669ae"
      },
      "source": [
        "##KNeighbors\n",
        "from sklearn.neighbors import KNeighborsRegressor\n",
        "\n",
        "#R2-SCORE\n",
        "regr = KNeighborsRegressor()\n",
        "regr.fit(X_train, Y_train)\n",
        "y_pred_test = regr.predict(X_test)\n",
        "print('R-squared = %.4f' % r2_score(Y_test, y_pred_test))\n",
        "#RMSE\n",
        "print(\"Root mean squared error = %.4f\" % np.sqrt(mean_squared_error(Y_test, y_pred_test)))\n",
        "\n"
      ],
      "execution_count": null,
      "outputs": [
        {
          "output_type": "stream",
          "text": [
            "R-squared = 0.2401\n",
            "Root mean squared error = 0.3937\n"
          ],
          "name": "stdout"
        }
      ]
    },
    {
      "cell_type": "code",
      "metadata": {
        "colab": {
          "base_uri": "https://localhost:8080/"
        },
        "id": "kIXVsG7M7ZnR",
        "outputId": "b8b383e4-cc4d-4225-d214-b1a17e792f59"
      },
      "source": [
        "##ADABoost\n",
        "from sklearn.ensemble import AdaBoostRegressor\n",
        "\n",
        "#R2-SCORE\n",
        "regr = AdaBoostRegressor()\n",
        "regr.fit(X_train, Y_train)\n",
        "y_pred_test = regr.predict(X_test)\n",
        "print('R-squared = %.4f' % r2_score(Y_test, y_pred_test))\n",
        "#RMSE\n",
        "print(\"Root mean squared error = %.4f\" % np.sqrt(mean_squared_error(Y_test, y_pred_test)))\n"
      ],
      "execution_count": null,
      "outputs": [
        {
          "output_type": "stream",
          "text": [
            "R-squared = -0.4386\n",
            "Root mean squared error = 0.5417\n"
          ],
          "name": "stdout"
        }
      ]
    },
    {
      "cell_type": "code",
      "metadata": {
        "colab": {
          "base_uri": "https://localhost:8080/"
        },
        "id": "CVAEkF9q80v3",
        "outputId": "1ac78e35-9533-454b-f120-d72e98ae35f3"
      },
      "source": [
        "##GradientBoostingRegressor\n",
        "\n",
        "from sklearn.ensemble import GradientBoostingRegressor\n",
        "\n",
        "\n",
        "#R2-SCORE\n",
        "regr = GradientBoostingRegressor()\n",
        "regr.fit(X_train, Y_train)\n",
        "y_pred_test = regr.predict(X_test)\n",
        "print('R-squared = %.4f' % r2_score(Y_test, y_pred_test))\n",
        "#RMSE\n",
        "print(\"Root mean squared error = %.4f\" % np.sqrt(mean_squared_error(Y_test, y_pred_test)))"
      ],
      "execution_count": null,
      "outputs": [
        {
          "output_type": "stream",
          "text": [
            "R-squared = 0.5722\n",
            "Root mean squared error = 0.2954\n"
          ],
          "name": "stdout"
        }
      ]
    },
    {
      "cell_type": "code",
      "metadata": {
        "colab": {
          "base_uri": "https://localhost:8080/"
        },
        "id": "ExEQE327HMLj",
        "outputId": "d3114d67-65d1-42d2-e1cc-3bc3abe248f9"
      },
      "source": [
        "##RandomForestRegressor\n",
        "from sklearn.ensemble import RandomForestRegressor\n",
        "\n",
        "#R2-SCORE\n",
        "regr = RandomForestRegressor()\n",
        "regr.fit(X_train, Y_train)\n",
        "y_pred_test = regr.predict(X_test)\n",
        "print('R-squared = %.4f' % r2_score(Y_test, y_pred_test))\n",
        "#RMSE\n",
        "print(\"Root mean squared error = %.4f\" % np.sqrt(mean_squared_error(Y_test, y_pred_test)))\n"
      ],
      "execution_count": null,
      "outputs": [
        {
          "output_type": "stream",
          "text": [
            "R-squared = 0.5844\n",
            "Root mean squared error = 0.2911\n"
          ],
          "name": "stdout"
        }
      ]
    },
    {
      "cell_type": "code",
      "metadata": {
        "colab": {
          "base_uri": "https://localhost:8080/"
        },
        "id": "uDtxgRE5HL8d",
        "outputId": "844151d7-be27-46ca-ac43-11ff1b9c20ba"
      },
      "source": [
        "\n",
        "##XGB\n",
        "import xgboost as xgb\n",
        "\n",
        "#R2-SCORE\n",
        "regr = xgb.XGBRegressor()\n",
        "regr.fit(X_train, Y_train)\n",
        "y_pred_test = regr.predict(X_test)\n",
        "print('R-squared = %.4f' % r2_score(Y_test, y_pred_test))\n",
        "#RMSE\n",
        "print(\"Root mean squared error = %.4f\" % np.sqrt(mean_squared_error(Y_test, y_pred_test)))\n"
      ],
      "execution_count": null,
      "outputs": [
        {
          "output_type": "stream",
          "text": [
            "[07:14:05] WARNING: /workspace/src/objective/regression_obj.cu:152: reg:linear is now deprecated in favor of reg:squarederror.\n",
            "R-squared = 0.5704\n",
            "Root mean squared error = 0.2960\n"
          ],
          "name": "stdout"
        }
      ]
    },
    {
      "cell_type": "markdown",
      "metadata": {
        "id": "Emav76dRAzSa"
      },
      "source": [
        "HANDLING OUTLIERS"
      ]
    },
    {
      "cell_type": "code",
      "metadata": {
        "colab": {
          "base_uri": "https://localhost:8080/",
          "height": 221
        },
        "id": "mHn8JB2l4To0",
        "outputId": "5942faf0-534c-495c-8adc-9dd2ce41ed60"
      },
      "source": [
        "data = pd.read_csv(\"/content/Video_Games_Sales_as_at_22_Dec_2016.csv\")\n",
        "\n",
        "# Examine the data types of every variable\n",
        "\n",
        "data.head()"
      ],
      "execution_count": null,
      "outputs": [
        {
          "output_type": "execute_result",
          "data": {
            "text/html": [
              "<div>\n",
              "<style scoped>\n",
              "    .dataframe tbody tr th:only-of-type {\n",
              "        vertical-align: middle;\n",
              "    }\n",
              "\n",
              "    .dataframe tbody tr th {\n",
              "        vertical-align: top;\n",
              "    }\n",
              "\n",
              "    .dataframe thead th {\n",
              "        text-align: right;\n",
              "    }\n",
              "</style>\n",
              "<table border=\"1\" class=\"dataframe\">\n",
              "  <thead>\n",
              "    <tr style=\"text-align: right;\">\n",
              "      <th></th>\n",
              "      <th>Name</th>\n",
              "      <th>Platform</th>\n",
              "      <th>Year_of_Release</th>\n",
              "      <th>Genre</th>\n",
              "      <th>Publisher</th>\n",
              "      <th>NA_Sales</th>\n",
              "      <th>EU_Sales</th>\n",
              "      <th>JP_Sales</th>\n",
              "      <th>Other_Sales</th>\n",
              "      <th>Global_Sales</th>\n",
              "      <th>Critic_Score</th>\n",
              "      <th>Critic_Count</th>\n",
              "      <th>User_Score</th>\n",
              "      <th>User_Count</th>\n",
              "      <th>Developer</th>\n",
              "      <th>Rating</th>\n",
              "    </tr>\n",
              "  </thead>\n",
              "  <tbody>\n",
              "    <tr>\n",
              "      <th>0</th>\n",
              "      <td>Wii Sports</td>\n",
              "      <td>Wii</td>\n",
              "      <td>2006.0</td>\n",
              "      <td>Sports</td>\n",
              "      <td>Nintendo</td>\n",
              "      <td>41.36</td>\n",
              "      <td>28.96</td>\n",
              "      <td>3.77</td>\n",
              "      <td>8.45</td>\n",
              "      <td>82.53</td>\n",
              "      <td>76.0</td>\n",
              "      <td>51.0</td>\n",
              "      <td>8</td>\n",
              "      <td>322.0</td>\n",
              "      <td>Nintendo</td>\n",
              "      <td>E</td>\n",
              "    </tr>\n",
              "    <tr>\n",
              "      <th>1</th>\n",
              "      <td>Super Mario Bros.</td>\n",
              "      <td>NES</td>\n",
              "      <td>1985.0</td>\n",
              "      <td>Platform</td>\n",
              "      <td>Nintendo</td>\n",
              "      <td>29.08</td>\n",
              "      <td>3.58</td>\n",
              "      <td>6.81</td>\n",
              "      <td>0.77</td>\n",
              "      <td>40.24</td>\n",
              "      <td>NaN</td>\n",
              "      <td>NaN</td>\n",
              "      <td>NaN</td>\n",
              "      <td>NaN</td>\n",
              "      <td>NaN</td>\n",
              "      <td>NaN</td>\n",
              "    </tr>\n",
              "    <tr>\n",
              "      <th>2</th>\n",
              "      <td>Mario Kart Wii</td>\n",
              "      <td>Wii</td>\n",
              "      <td>2008.0</td>\n",
              "      <td>Racing</td>\n",
              "      <td>Nintendo</td>\n",
              "      <td>15.68</td>\n",
              "      <td>12.76</td>\n",
              "      <td>3.79</td>\n",
              "      <td>3.29</td>\n",
              "      <td>35.52</td>\n",
              "      <td>82.0</td>\n",
              "      <td>73.0</td>\n",
              "      <td>8.3</td>\n",
              "      <td>709.0</td>\n",
              "      <td>Nintendo</td>\n",
              "      <td>E</td>\n",
              "    </tr>\n",
              "    <tr>\n",
              "      <th>3</th>\n",
              "      <td>Wii Sports Resort</td>\n",
              "      <td>Wii</td>\n",
              "      <td>2009.0</td>\n",
              "      <td>Sports</td>\n",
              "      <td>Nintendo</td>\n",
              "      <td>15.61</td>\n",
              "      <td>10.93</td>\n",
              "      <td>3.28</td>\n",
              "      <td>2.95</td>\n",
              "      <td>32.77</td>\n",
              "      <td>80.0</td>\n",
              "      <td>73.0</td>\n",
              "      <td>8</td>\n",
              "      <td>192.0</td>\n",
              "      <td>Nintendo</td>\n",
              "      <td>E</td>\n",
              "    </tr>\n",
              "    <tr>\n",
              "      <th>4</th>\n",
              "      <td>Pokemon Red/Pokemon Blue</td>\n",
              "      <td>GB</td>\n",
              "      <td>1996.0</td>\n",
              "      <td>Role-Playing</td>\n",
              "      <td>Nintendo</td>\n",
              "      <td>11.27</td>\n",
              "      <td>8.89</td>\n",
              "      <td>10.22</td>\n",
              "      <td>1.00</td>\n",
              "      <td>31.37</td>\n",
              "      <td>NaN</td>\n",
              "      <td>NaN</td>\n",
              "      <td>NaN</td>\n",
              "      <td>NaN</td>\n",
              "      <td>NaN</td>\n",
              "      <td>NaN</td>\n",
              "    </tr>\n",
              "  </tbody>\n",
              "</table>\n",
              "</div>"
            ],
            "text/plain": [
              "                       Name Platform  ...  Developer Rating\n",
              "0                Wii Sports      Wii  ...   Nintendo      E\n",
              "1         Super Mario Bros.      NES  ...        NaN    NaN\n",
              "2            Mario Kart Wii      Wii  ...   Nintendo      E\n",
              "3         Wii Sports Resort      Wii  ...   Nintendo      E\n",
              "4  Pokemon Red/Pokemon Blue       GB  ...        NaN    NaN\n",
              "\n",
              "[5 rows x 16 columns]"
            ]
          },
          "metadata": {
            "tags": []
          },
          "execution_count": 82
        }
      ]
    },
    {
      "cell_type": "code",
      "metadata": {
        "colab": {
          "base_uri": "https://localhost:8080/",
          "height": 450
        },
        "id": "_do5ZiWR4Tlw",
        "outputId": "b3f71b85-74f3-454f-e66b-e05231d22f00"
      },
      "source": [
        "data = data[(data['Platform'] == 'PS3') | (data['Platform'] == 'PS4') | (data['Platform'] == 'X360') | (data['Platform'] == 'XOne') | (data['Platform'] == 'Wii') | (data['Platform'] == 'WiiU') | (data['Platform'] == 'PC')]\n",
        "\n",
        "#Let's double check the value counts to be sure\n",
        "print(pd.value_counts(data[\"Platform\"]))\n",
        "\n",
        "#Let's see the shape of the data again\n",
        "print(data.shape)\n",
        "\n",
        "#Lets see the missing ratios again\n",
        "data_na = (data.isnull().sum() / len(data)) * 100\n",
        "data_na = data_na.drop(data_na[data_na == 0].index).sort_values(ascending=False)[:30]\n",
        "missing_data = pd.DataFrame({'Missing Ratio' :data_na})\n",
        "missing_data.head(16)\n"
      ],
      "execution_count": null,
      "outputs": [
        {
          "output_type": "stream",
          "text": [
            "PS3     1331\n",
            "Wii     1320\n",
            "X360    1262\n",
            "PC       974\n",
            "PS4      393\n",
            "XOne     247\n",
            "WiiU     147\n",
            "Name: Platform, dtype: int64\n",
            "(5674, 16)\n"
          ],
          "name": "stdout"
        },
        {
          "output_type": "execute_result",
          "data": {
            "text/html": [
              "<div>\n",
              "<style scoped>\n",
              "    .dataframe tbody tr th:only-of-type {\n",
              "        vertical-align: middle;\n",
              "    }\n",
              "\n",
              "    .dataframe tbody tr th {\n",
              "        vertical-align: top;\n",
              "    }\n",
              "\n",
              "    .dataframe thead th {\n",
              "        text-align: right;\n",
              "    }\n",
              "</style>\n",
              "<table border=\"1\" class=\"dataframe\">\n",
              "  <thead>\n",
              "    <tr style=\"text-align: right;\">\n",
              "      <th></th>\n",
              "      <th>Missing Ratio</th>\n",
              "    </tr>\n",
              "  </thead>\n",
              "  <tbody>\n",
              "    <tr>\n",
              "      <th>Critic_Count</th>\n",
              "      <td>37.486782</td>\n",
              "    </tr>\n",
              "    <tr>\n",
              "      <th>Critic_Score</th>\n",
              "      <td>37.486782</td>\n",
              "    </tr>\n",
              "    <tr>\n",
              "      <th>User_Count</th>\n",
              "      <td>34.578780</td>\n",
              "    </tr>\n",
              "    <tr>\n",
              "      <th>Rating</th>\n",
              "      <td>23.757490</td>\n",
              "    </tr>\n",
              "    <tr>\n",
              "      <th>User_Score</th>\n",
              "      <td>22.559041</td>\n",
              "    </tr>\n",
              "    <tr>\n",
              "      <th>Developer</th>\n",
              "      <td>21.713077</td>\n",
              "    </tr>\n",
              "    <tr>\n",
              "      <th>Year_of_Release</th>\n",
              "      <td>1.868171</td>\n",
              "    </tr>\n",
              "    <tr>\n",
              "      <th>Publisher</th>\n",
              "      <td>0.229115</td>\n",
              "    </tr>\n",
              "  </tbody>\n",
              "</table>\n",
              "</div>"
            ],
            "text/plain": [
              "                 Missing Ratio\n",
              "Critic_Count         37.486782\n",
              "Critic_Score         37.486782\n",
              "User_Count           34.578780\n",
              "Rating               23.757490\n",
              "User_Score           22.559041\n",
              "Developer            21.713077\n",
              "Year_of_Release       1.868171\n",
              "Publisher             0.229115"
            ]
          },
          "metadata": {
            "tags": []
          },
          "execution_count": 83
        }
      ]
    },
    {
      "cell_type": "code",
      "metadata": {
        "id": "q_6Tjvz04Tia"
      },
      "source": [
        "\n",
        "#filling all Nas with mean\n",
        "data['Year_of_Release'] = data['Year_of_Release'].fillna(data['Year_of_Release'].mean())\n",
        "data['Critic_Count'] = data['Critic_Count'].fillna(data['Critic_Count'].mean())\n",
        "data['Critic_Score'] = data['Critic_Score'].fillna(data['Critic_Score'].mean())\n",
        "\n",
        "\n",
        "\n",
        "data['User_Score'] = data['User_Score'].replace('tbd', None)\n",
        "data['User_Score'] = data['User_Score'].astype(float)\n",
        "data['User_Score'] = data['User_Score'].fillna(data['User_Score'].mean())\n",
        "data['User_Score'] = data['User_Score'].astype(int)\n",
        "data['User_Count'] = data['User_Count'].fillna(data['User_Count'].mean())\n",
        "\n",
        "data = data.dropna(subset=['Publisher','Developer','Rating'])"
      ],
      "execution_count": null,
      "outputs": []
    },
    {
      "cell_type": "code",
      "metadata": {
        "colab": {
          "base_uri": "https://localhost:8080/"
        },
        "id": "gpST9WbY4Tem",
        "outputId": "9bd6baff-8256-40bd-d03c-8c2f09e70c54"
      },
      "source": [
        "print(data.shape) #pre-dummies shape\n",
        "data = pd.get_dummies(data=data, columns=['Platform', 'Genre', 'Rating'])\n",
        "print(data.shape) #post-dummies shape\n",
        "data.head #Check to verify that dummies are ok\n"
      ],
      "execution_count": null,
      "outputs": [
        {
          "output_type": "stream",
          "text": [
            "(4321, 16)\n",
            "(4321, 39)\n"
          ],
          "name": "stdout"
        },
        {
          "output_type": "execute_result",
          "data": {
            "text/plain": [
              "<bound method NDFrame.head of                                     Name  Year_of_Release  ... Rating_RP  Rating_T\n",
              "0                             Wii Sports           2006.0  ...         0         0\n",
              "2                         Mario Kart Wii           2008.0  ...         0         0\n",
              "3                      Wii Sports Resort           2009.0  ...         0         0\n",
              "7                               Wii Play           2006.0  ...         0         0\n",
              "8              New Super Mario Bros. Wii           2009.0  ...         0         0\n",
              "...                                  ...              ...  ...       ...       ...\n",
              "16682                     End of Nations           2012.0  ...         0         1\n",
              "16685                            Worms 2           1997.0  ...         0         0\n",
              "16696  Metal Gear Solid V: Ground Zeroes           2014.0  ...         0         0\n",
              "16700                             Breach           2011.0  ...         0         1\n",
              "16706            STORM: Frontline Nation           2011.0  ...         0         0\n",
              "\n",
              "[4321 rows x 39 columns]>"
            ]
          },
          "metadata": {
            "tags": []
          },
          "execution_count": 85
        }
      ]
    },
    {
      "cell_type": "code",
      "metadata": {
        "id": "i-IUuyO84TZb"
      },
      "source": [
        "data = data.drop(['Name', 'Publisher', 'Developer', 'NA_Sales', 'EU_Sales', 'JP_Sales', 'Other_Sales'], axis=1)"
      ],
      "execution_count": null,
      "outputs": []
    },
    {
      "cell_type": "code",
      "metadata": {
        "colab": {
          "base_uri": "https://localhost:8080/",
          "height": 282
        },
        "id": "_17x6kPw4TLK",
        "outputId": "d280c2c0-3cd5-49c9-d681-85175ba26715"
      },
      "source": [
        "#FINDING OUTLIERS\n",
        "fig, ax = plt.subplots()\n",
        "ax.scatter(x = data['Critic_Score'], y = data['Global_Sales'])\n",
        "plt.ylabel('Global_Sales', fontsize=13)\n",
        "plt.xlabel('Critic_Score', fontsize=13)\n",
        "plt.show()"
      ],
      "execution_count": null,
      "outputs": [
        {
          "output_type": "display_data",
          "data": {
            "image/png": "[encoded data removed]",
            "text/plain": [
              "<Figure size 432x288 with 1 Axes>"
            ]
          },
          "metadata": {
            "tags": [],
            "needs_background": "light"
          }
        }
      ]
    },
    {
      "cell_type": "code",
      "metadata": {
        "id": "Bm6AzBdQ4S60"
      },
      "source": [
        "data = data.drop(data[(data['Critic_Score']>60) & (data['Global_Sales']>60)].index)"
      ],
      "execution_count": null,
      "outputs": []
    },
    {
      "cell_type": "code",
      "metadata": {
        "colab": {
          "base_uri": "https://localhost:8080/",
          "height": 282
        },
        "id": "dkJzcFouLU9g",
        "outputId": "bb3adf60-84e5-4856-abc5-17f45118ceca"
      },
      "source": [
        "fig, ax = plt.subplots()\n",
        "ax.scatter(x = data['Critic_Score'], y = data['Global_Sales'])\n",
        "plt.ylabel('Global_Sales', fontsize=13)\n",
        "plt.xlabel('Critic_Score', fontsize=13)\n",
        "plt.show()"
      ],
      "execution_count": null,
      "outputs": [
        {
          "output_type": "display_data",
          "data": {
            "image/png": "[encoded data removed]",
            "text/plain": [
              "<Figure size 432x288 with 1 Axes>"
            ]
          },
          "metadata": {
            "tags": [],
            "needs_background": "light"
          }
        }
      ]
    },
    {
      "cell_type": "code",
      "metadata": {
        "colab": {
          "base_uri": "https://localhost:8080/",
          "height": 83
        },
        "id": "1XJLtiOB4TTK",
        "outputId": "06f84590-0857-4d36-d07b-c31daa8e00c8"
      },
      "source": [
        "\n",
        "X = data[['Year_of_Release', 'Critic_Score', 'Critic_Count',\n",
        "       'User_Score', 'User_Count', 'Platform_PC', 'Platform_PS3',\n",
        "       'Platform_PS4', 'Platform_Wii', 'Platform_WiiU', 'Platform_X360',\n",
        "       'Platform_XOne', 'Genre_Action', 'Genre_Adventure', 'Genre_Fighting',\n",
        "       'Genre_Misc', 'Genre_Platform', 'Genre_Puzzle', 'Genre_Racing',\n",
        "       'Genre_Role-Playing', 'Genre_Shooter', 'Genre_Simulation',\n",
        "       'Genre_Sports', 'Genre_Strategy', 'Rating_E', 'Rating_E10+', 'Rating_M',\n",
        "       'Rating_RP', 'Rating_T']]\n",
        "\n",
        "Y = data[['Global_Sales']]\n",
        "\n",
        "#Double checking the shape\n",
        "print(X.shape)\n",
        "print(Y.shape)\n",
        "data_na = (data.isnull().sum() / len(data)) * 100\n",
        "data_na = data_na.drop(data_na[data_na == 0].index).sort_values(ascending=False)[:30]\n",
        "missing_data = pd.DataFrame({'Missing Ratio' :data_na})\n",
        "missing_data.head(16)\n"
      ],
      "execution_count": null,
      "outputs": [
        {
          "output_type": "stream",
          "text": [
            "(4320, 29)\n",
            "(4320, 1)\n"
          ],
          "name": "stdout"
        },
        {
          "output_type": "execute_result",
          "data": {
            "text/html": [
              "<div>\n",
              "<style scoped>\n",
              "    .dataframe tbody tr th:only-of-type {\n",
              "        vertical-align: middle;\n",
              "    }\n",
              "\n",
              "    .dataframe tbody tr th {\n",
              "        vertical-align: top;\n",
              "    }\n",
              "\n",
              "    .dataframe thead th {\n",
              "        text-align: right;\n",
              "    }\n",
              "</style>\n",
              "<table border=\"1\" class=\"dataframe\">\n",
              "  <thead>\n",
              "    <tr style=\"text-align: right;\">\n",
              "      <th></th>\n",
              "      <th>Missing Ratio</th>\n",
              "    </tr>\n",
              "  </thead>\n",
              "  <tbody>\n",
              "  </tbody>\n",
              "</table>\n",
              "</div>"
            ],
            "text/plain": [
              "Empty DataFrame\n",
              "Columns: [Missing Ratio]\n",
              "Index: []"
            ]
          },
          "metadata": {
            "tags": []
          },
          "execution_count": 90
        }
      ]
    },
    {
      "cell_type": "code",
      "metadata": {
        "colab": {
          "base_uri": "https://localhost:8080/"
        },
        "id": "lkpiK2QwN69F",
        "outputId": "510bab57-8b9e-4af6-f97a-85b9fcc254c4"
      },
      "source": [
        "from sklearn.model_selection import train_test_split\n",
        "\n",
        "X_train, X_test, Y_train, Y_test = train_test_split(X, Y, random_state=42)\n",
        "\n",
        "#Let's check the shape of the split data as a precaution\n",
        "print(\"X_train shape: {}\".format(X_train.shape))\n",
        "print(\"Y_train shape: {}\".format(Y_train.shape))\n",
        "\n",
        "print(\"X_test shape: {}\".format(X_test.shape))\n",
        "print(\"Y_test shape: {}\".format(Y_test.shape))"
      ],
      "execution_count": null,
      "outputs": [
        {
          "output_type": "stream",
          "text": [
            "X_train shape: (3240, 29)\n",
            "Y_train shape: (3240, 1)\n",
            "X_test shape: (1080, 29)\n",
            "Y_test shape: (1080, 1)\n"
          ],
          "name": "stdout"
        }
      ]
    },
    {
      "cell_type": "code",
      "metadata": {
        "id": "9TThy3_lUfAg"
      },
      "source": [
        "#We use the numpy fuction log1p which  applies log(1+x) to all elements of the column\n",
        "Y_train = np.log1p(Y_train)\n",
        "Y_test = np.log1p(Y_test)"
      ],
      "execution_count": null,
      "outputs": []
    },
    {
      "cell_type": "code",
      "metadata": {
        "colab": {
          "base_uri": "https://localhost:8080/"
        },
        "id": "4r3rve2wLehQ",
        "outputId": "20b11b09-6a9d-4a5f-e3fe-3b1295901603"
      },
      "source": [
        "##LINEAR REGRESSION\n",
        "\n",
        "from sklearn.linear_model import LinearRegression\n",
        "\n",
        "#R2-SCORE\n",
        "regr = LinearRegression()\n",
        "regr.fit(X_train, Y_train)\n",
        "y_pred_test = regr.predict(X_test)\n",
        "print('R-squared = %.4f' % r2_score(Y_test, y_pred_test))\n",
        "#RMSE\n",
        "print(\"Root mean squared error = %.4f\" % np.sqrt(mean_squared_error(Y_test, y_pred_test)))"
      ],
      "execution_count": null,
      "outputs": [
        {
          "output_type": "stream",
          "text": [
            "R-squared = 0.4308\n",
            "Root mean squared error = 0.3565\n"
          ],
          "name": "stdout"
        }
      ]
    },
    {
      "cell_type": "code",
      "metadata": {
        "colab": {
          "base_uri": "https://localhost:8080/"
        },
        "id": "NGDBPaKNLeYQ",
        "outputId": "5107306c-78db-40d8-cf3a-70091967b42c"
      },
      "source": [
        "##DecisionTreeRegressor\n",
        "from sklearn.tree import DecisionTreeRegressor\n",
        "\n",
        "#R2-SCORE\n",
        "regr = DecisionTreeRegressor()\n",
        "regr.fit(X_train, Y_train)\n",
        "y_pred_test = regr.predict(X_test)\n",
        "print('R-squared = %.4f' % r2_score(Y_test, y_pred_test))\n",
        "#RMSE\n",
        "print(\"Root mean squared error = %.4f\" % np.sqrt(mean_squared_error(Y_test, y_pred_test)))\n"
      ],
      "execution_count": null,
      "outputs": [
        {
          "output_type": "stream",
          "text": [
            "R-squared = 0.3327\n",
            "Root mean squared error = 0.3860\n"
          ],
          "name": "stdout"
        }
      ]
    },
    {
      "cell_type": "code",
      "metadata": {
        "colab": {
          "base_uri": "https://localhost:8080/"
        },
        "id": "d12Y8CPqLeQw",
        "outputId": "c201db67-a867-4def-f075-c0103bf22243"
      },
      "source": [
        "##RIDGE\n",
        "\n",
        "from sklearn.linear_model import Ridge\n",
        "\n",
        "\n",
        "#R2-SCORE\n",
        "regr = Ridge()\n",
        "regr.fit(X_train, Y_train)\n",
        "y_pred_test = regr.predict(X_test)\n",
        "print('R-squared = %.4f' % r2_score(Y_test, y_pred_test))\n",
        "#RMSE\n",
        "print(\"Root mean squared error = %.4f\" % np.sqrt(mean_squared_error(Y_test, y_pred_test)))\n",
        "\n"
      ],
      "execution_count": null,
      "outputs": [
        {
          "output_type": "stream",
          "text": [
            "R-squared = 0.4314\n",
            "Root mean squared error = 0.3563\n"
          ],
          "name": "stdout"
        }
      ]
    },
    {
      "cell_type": "code",
      "metadata": {
        "colab": {
          "base_uri": "https://localhost:8080/"
        },
        "id": "kuyKcXksLeJZ",
        "outputId": "1fb89a48-6db5-40fd-ee33-827756bf5eb5"
      },
      "source": [
        "##SVR\n",
        "\n",
        "from sklearn.svm import SVR\n",
        "\n",
        "#R2-SCORE\n",
        "regr = SVR()\n",
        "regr.fit(X_train, Y_train)\n",
        "y_pred_test = regr.predict(X_test)\n",
        "print('R-squared = %.4f' % r2_score(Y_test, y_pred_test))\n",
        "#RMSE\n",
        "print(\"Root mean squared error = %.4f\" % np.sqrt(mean_squared_error(Y_test, y_pred_test)))\n"
      ],
      "execution_count": null,
      "outputs": [
        {
          "output_type": "stream",
          "text": [
            "R-squared = 0.1948\n",
            "Root mean squared error = 0.4240\n"
          ],
          "name": "stdout"
        }
      ]
    },
    {
      "cell_type": "code",
      "metadata": {
        "colab": {
          "base_uri": "https://localhost:8080/"
        },
        "id": "H2Lt0lAw7nO0",
        "outputId": "f235c40e-19ee-4c47-bb09-6644beb91cdc"
      },
      "source": [
        "##KNeighbors\n",
        "from sklearn.neighbors import KNeighborsRegressor\n",
        "\n",
        "#R2-SCORE\n",
        "regr = KNeighborsRegressor()\n",
        "regr.fit(X_train, Y_train)\n",
        "y_pred_test = regr.predict(X_test)\n",
        "print('R-squared = %.4f' % r2_score(Y_test, y_pred_test))\n",
        "#RMSE\n",
        "print(\"Root mean squared error = %.4f\" % np.sqrt(mean_squared_error(Y_test, y_pred_test)))\n",
        "\n"
      ],
      "execution_count": null,
      "outputs": [
        {
          "output_type": "stream",
          "text": [
            "R-squared = 0.3004\n",
            "Root mean squared error = 0.3953\n"
          ],
          "name": "stdout"
        }
      ]
    },
    {
      "cell_type": "code",
      "metadata": {
        "colab": {
          "base_uri": "https://localhost:8080/"
        },
        "id": "lm_uc1mh7nAS",
        "outputId": "3e21c472-2872-4a87-d64d-fc0da03c0d58"
      },
      "source": [
        "##ADABoost\n",
        "from sklearn.ensemble import AdaBoostRegressor\n",
        "\n",
        "#R2-SCORE\n",
        "regr = AdaBoostRegressor()\n",
        "regr.fit(X_train, Y_train)\n",
        "y_pred_test = regr.predict(X_test)\n",
        "print('R-squared = %.4f' % r2_score(Y_test, y_pred_test))\n",
        "#RMSE\n",
        "print(\"Root mean squared error = %.4f\" % np.sqrt(mean_squared_error(Y_test, y_pred_test)))\n"
      ],
      "execution_count": null,
      "outputs": [
        {
          "output_type": "stream",
          "text": [
            "R-squared = 0.3308\n",
            "Root mean squared error = 0.3866\n"
          ],
          "name": "stdout"
        }
      ]
    },
    {
      "cell_type": "code",
      "metadata": {
        "colab": {
          "base_uri": "https://localhost:8080/"
        },
        "id": "omxBaht6Ld-l",
        "outputId": "a4b41c39-9310-4477-857a-1c86b37a6042"
      },
      "source": [
        "##GradientBoostingRegressor\n",
        "\n",
        "from sklearn.ensemble import GradientBoostingRegressor\n",
        "\n",
        "\n",
        "#R2-SCORE\n",
        "regr = GradientBoostingRegressor()\n",
        "regr.fit(X_train, Y_train)\n",
        "y_pred_test = regr.predict(X_test)\n",
        "print('R-squared = %.4f' % r2_score(Y_test, y_pred_test))\n",
        "#RMSE\n",
        "print(\"Root mean squared error = %.4f\" % np.sqrt(mean_squared_error(Y_test, y_pred_test)))\n",
        "\n"
      ],
      "execution_count": null,
      "outputs": [
        {
          "output_type": "stream",
          "text": [
            "R-squared = 0.6406\n",
            "Root mean squared error = 0.2833\n"
          ],
          "name": "stdout"
        }
      ]
    },
    {
      "cell_type": "code",
      "metadata": {
        "colab": {
          "base_uri": "https://localhost:8080/"
        },
        "id": "a53zeR7rH3yP",
        "outputId": "28969d46-b930-4c46-a0ca-a0dc1efd3753"
      },
      "source": [
        "##RandomForestRegressor\n",
        "from sklearn.ensemble import RandomForestRegressor\n",
        "\n",
        "#R2-SCORE\n",
        "regr = RandomForestRegressor()\n",
        "regr.fit(X_train, Y_train)\n",
        "y_pred_test = regr.predict(X_test)\n",
        "print('R-squared = %.4f' % r2_score(Y_test, y_pred_test))\n",
        "#RMSE\n",
        "print(\"Root mean squared error = %.4f\" % np.sqrt(mean_squared_error(Y_test, y_pred_test)))\n"
      ],
      "execution_count": null,
      "outputs": [
        {
          "output_type": "stream",
          "text": [
            "R-squared = 0.6617\n",
            "Root mean squared error = 0.2749\n"
          ],
          "name": "stdout"
        }
      ]
    },
    {
      "cell_type": "markdown",
      "metadata": {
        "id": "Us_ZCPhSMfGR"
      },
      "source": [
        "HANDLING NOISY DATA"
      ]
    },
    {
      "cell_type": "markdown",
      "metadata": {
        "id": "I3fJfOnyXbIQ"
      },
      "source": [
        "Min-Max Normalization"
      ]
    },
    {
      "cell_type": "code",
      "metadata": {
        "colab": {
          "base_uri": "https://localhost:8080/",
          "height": 221
        },
        "id": "WzP3Ch4NNPTa",
        "outputId": "4a1ec89b-3b95-4235-8c66-46908d64f28f"
      },
      "source": [
        "data = pd.read_csv(\"/content/Video_Games_Sales_as_at_22_Dec_2016.csv\")\n",
        "\n",
        "# Examine the data types of every variable\n",
        "\n",
        "data.head()"
      ],
      "execution_count": null,
      "outputs": [
        {
          "output_type": "execute_result",
          "data": {
            "text/html": [
              "<div>\n",
              "<style scoped>\n",
              "    .dataframe tbody tr th:only-of-type {\n",
              "        vertical-align: middle;\n",
              "    }\n",
              "\n",
              "    .dataframe tbody tr th {\n",
              "        vertical-align: top;\n",
              "    }\n",
              "\n",
              "    .dataframe thead th {\n",
              "        text-align: right;\n",
              "    }\n",
              "</style>\n",
              "<table border=\"1\" class=\"dataframe\">\n",
              "  <thead>\n",
              "    <tr style=\"text-align: right;\">\n",
              "      <th></th>\n",
              "      <th>Name</th>\n",
              "      <th>Platform</th>\n",
              "      <th>Year_of_Release</th>\n",
              "      <th>Genre</th>\n",
              "      <th>Publisher</th>\n",
              "      <th>NA_Sales</th>\n",
              "      <th>EU_Sales</th>\n",
              "      <th>JP_Sales</th>\n",
              "      <th>Other_Sales</th>\n",
              "      <th>Global_Sales</th>\n",
              "      <th>Critic_Score</th>\n",
              "      <th>Critic_Count</th>\n",
              "      <th>User_Score</th>\n",
              "      <th>User_Count</th>\n",
              "      <th>Developer</th>\n",
              "      <th>Rating</th>\n",
              "    </tr>\n",
              "  </thead>\n",
              "  <tbody>\n",
              "    <tr>\n",
              "      <th>0</th>\n",
              "      <td>Wii Sports</td>\n",
              "      <td>Wii</td>\n",
              "      <td>2006.0</td>\n",
              "      <td>Sports</td>\n",
              "      <td>Nintendo</td>\n",
              "      <td>41.36</td>\n",
              "      <td>28.96</td>\n",
              "      <td>3.77</td>\n",
              "      <td>8.45</td>\n",
              "      <td>82.53</td>\n",
              "      <td>76.0</td>\n",
              "      <td>51.0</td>\n",
              "      <td>8</td>\n",
              "      <td>322.0</td>\n",
              "      <td>Nintendo</td>\n",
              "      <td>E</td>\n",
              "    </tr>\n",
              "    <tr>\n",
              "      <th>1</th>\n",
              "      <td>Super Mario Bros.</td>\n",
              "      <td>NES</td>\n",
              "      <td>1985.0</td>\n",
              "      <td>Platform</td>\n",
              "      <td>Nintendo</td>\n",
              "      <td>29.08</td>\n",
              "      <td>3.58</td>\n",
              "      <td>6.81</td>\n",
              "      <td>0.77</td>\n",
              "      <td>40.24</td>\n",
              "      <td>NaN</td>\n",
              "      <td>NaN</td>\n",
              "      <td>NaN</td>\n",
              "      <td>NaN</td>\n",
              "      <td>NaN</td>\n",
              "      <td>NaN</td>\n",
              "    </tr>\n",
              "    <tr>\n",
              "      <th>2</th>\n",
              "      <td>Mario Kart Wii</td>\n",
              "      <td>Wii</td>\n",
              "      <td>2008.0</td>\n",
              "      <td>Racing</td>\n",
              "      <td>Nintendo</td>\n",
              "      <td>15.68</td>\n",
              "      <td>12.76</td>\n",
              "      <td>3.79</td>\n",
              "      <td>3.29</td>\n",
              "      <td>35.52</td>\n",
              "      <td>82.0</td>\n",
              "      <td>73.0</td>\n",
              "      <td>8.3</td>\n",
              "      <td>709.0</td>\n",
              "      <td>Nintendo</td>\n",
              "      <td>E</td>\n",
              "    </tr>\n",
              "    <tr>\n",
              "      <th>3</th>\n",
              "      <td>Wii Sports Resort</td>\n",
              "      <td>Wii</td>\n",
              "      <td>2009.0</td>\n",
              "      <td>Sports</td>\n",
              "      <td>Nintendo</td>\n",
              "      <td>15.61</td>\n",
              "      <td>10.93</td>\n",
              "      <td>3.28</td>\n",
              "      <td>2.95</td>\n",
              "      <td>32.77</td>\n",
              "      <td>80.0</td>\n",
              "      <td>73.0</td>\n",
              "      <td>8</td>\n",
              "      <td>192.0</td>\n",
              "      <td>Nintendo</td>\n",
              "      <td>E</td>\n",
              "    </tr>\n",
              "    <tr>\n",
              "      <th>4</th>\n",
              "      <td>Pokemon Red/Pokemon Blue</td>\n",
              "      <td>GB</td>\n",
              "      <td>1996.0</td>\n",
              "      <td>Role-Playing</td>\n",
              "      <td>Nintendo</td>\n",
              "      <td>11.27</td>\n",
              "      <td>8.89</td>\n",
              "      <td>10.22</td>\n",
              "      <td>1.00</td>\n",
              "      <td>31.37</td>\n",
              "      <td>NaN</td>\n",
              "      <td>NaN</td>\n",
              "      <td>NaN</td>\n",
              "      <td>NaN</td>\n",
              "      <td>NaN</td>\n",
              "      <td>NaN</td>\n",
              "    </tr>\n",
              "  </tbody>\n",
              "</table>\n",
              "</div>"
            ],
            "text/plain": [
              "                       Name Platform  ...  Developer Rating\n",
              "0                Wii Sports      Wii  ...   Nintendo      E\n",
              "1         Super Mario Bros.      NES  ...        NaN    NaN\n",
              "2            Mario Kart Wii      Wii  ...   Nintendo      E\n",
              "3         Wii Sports Resort      Wii  ...   Nintendo      E\n",
              "4  Pokemon Red/Pokemon Blue       GB  ...        NaN    NaN\n",
              "\n",
              "[5 rows x 16 columns]"
            ]
          },
          "metadata": {
            "tags": []
          },
          "execution_count": 101
        }
      ]
    },
    {
      "cell_type": "code",
      "metadata": {
        "colab": {
          "base_uri": "https://localhost:8080/",
          "height": 450
        },
        "id": "pDpmFFwFNP9Q",
        "outputId": "d9f0e1fb-caa7-45d7-d10e-14c945bef21d"
      },
      "source": [
        "data = data[(data['Platform'] == 'PS3') | (data['Platform'] == 'PS4') | (data['Platform'] == 'X360') | (data['Platform'] == 'XOne') | (data['Platform'] == 'Wii') | (data['Platform'] == 'WiiU') | (data['Platform'] == 'PC')]\n",
        "\n",
        "#Let's double check the value counts to be sure\n",
        "print(pd.value_counts(data[\"Platform\"]))\n",
        "\n",
        "#Let's see the shape of the data again\n",
        "print(data.shape)\n",
        "\n",
        "#Lets see the missing ratios again\n",
        "data_na = (data.isnull().sum() / len(data)) * 100\n",
        "data_na = data_na.drop(data_na[data_na == 0].index).sort_values(ascending=False)[:30]\n",
        "missing_data = pd.DataFrame({'Missing Ratio' :data_na})\n",
        "missing_data.head(16)\n"
      ],
      "execution_count": null,
      "outputs": [
        {
          "output_type": "stream",
          "text": [
            "PS3     1331\n",
            "Wii     1320\n",
            "X360    1262\n",
            "PC       974\n",
            "PS4      393\n",
            "XOne     247\n",
            "WiiU     147\n",
            "Name: Platform, dtype: int64\n",
            "(5674, 16)\n"
          ],
          "name": "stdout"
        },
        {
          "output_type": "execute_result",
          "data": {
            "text/html": [
              "<div>\n",
              "<style scoped>\n",
              "    .dataframe tbody tr th:only-of-type {\n",
              "        vertical-align: middle;\n",
              "    }\n",
              "\n",
              "    .dataframe tbody tr th {\n",
              "        vertical-align: top;\n",
              "    }\n",
              "\n",
              "    .dataframe thead th {\n",
              "        text-align: right;\n",
              "    }\n",
              "</style>\n",
              "<table border=\"1\" class=\"dataframe\">\n",
              "  <thead>\n",
              "    <tr style=\"text-align: right;\">\n",
              "      <th></th>\n",
              "      <th>Missing Ratio</th>\n",
              "    </tr>\n",
              "  </thead>\n",
              "  <tbody>\n",
              "    <tr>\n",
              "      <th>Critic_Count</th>\n",
              "      <td>37.486782</td>\n",
              "    </tr>\n",
              "    <tr>\n",
              "      <th>Critic_Score</th>\n",
              "      <td>37.486782</td>\n",
              "    </tr>\n",
              "    <tr>\n",
              "      <th>User_Count</th>\n",
              "      <td>34.578780</td>\n",
              "    </tr>\n",
              "    <tr>\n",
              "      <th>Rating</th>\n",
              "      <td>23.757490</td>\n",
              "    </tr>\n",
              "    <tr>\n",
              "      <th>User_Score</th>\n",
              "      <td>22.559041</td>\n",
              "    </tr>\n",
              "    <tr>\n",
              "      <th>Developer</th>\n",
              "      <td>21.713077</td>\n",
              "    </tr>\n",
              "    <tr>\n",
              "      <th>Year_of_Release</th>\n",
              "      <td>1.868171</td>\n",
              "    </tr>\n",
              "    <tr>\n",
              "      <th>Publisher</th>\n",
              "      <td>0.229115</td>\n",
              "    </tr>\n",
              "  </tbody>\n",
              "</table>\n",
              "</div>"
            ],
            "text/plain": [
              "                 Missing Ratio\n",
              "Critic_Count         37.486782\n",
              "Critic_Score         37.486782\n",
              "User_Count           34.578780\n",
              "Rating               23.757490\n",
              "User_Score           22.559041\n",
              "Developer            21.713077\n",
              "Year_of_Release       1.868171\n",
              "Publisher             0.229115"
            ]
          },
          "metadata": {
            "tags": []
          },
          "execution_count": 102
        }
      ]
    },
    {
      "cell_type": "code",
      "metadata": {
        "id": "hd5dGhHBNPzZ"
      },
      "source": [
        "\n",
        "#filling all Nas with mean\n",
        "data['Year_of_Release'] = data['Year_of_Release'].fillna(data['Year_of_Release'].mean())\n",
        "data['Critic_Count'] = data['Critic_Count'].fillna(data['Critic_Count'].mean())\n",
        "data['Critic_Score'] = data['Critic_Score'].fillna(data['Critic_Score'].mean())\n",
        "\n",
        "\n",
        "\n",
        "data['User_Score'] = data['User_Score'].replace('tbd', None)\n",
        "data['User_Score'] = data['User_Score'].astype(float)\n",
        "data['User_Score'] = data['User_Score'].fillna(data['User_Score'].mean())\n",
        "data['User_Score'] = data['User_Score'].astype(int)\n",
        "data['User_Count'] = data['User_Count'].fillna(data['User_Count'].mean())\n",
        "\n",
        "data = data.dropna(subset=['Publisher','Developer','Rating'])"
      ],
      "execution_count": null,
      "outputs": []
    },
    {
      "cell_type": "code",
      "metadata": {
        "colab": {
          "base_uri": "https://localhost:8080/"
        },
        "id": "JMr33FezNPsQ",
        "outputId": "5c84262b-9e66-4aee-baf8-1bbe78bfc0ae"
      },
      "source": [
        "print(data.shape) #pre-dummies shape\n",
        "data = pd.get_dummies(data=data, columns=['Platform', 'Genre', 'Rating'])\n",
        "print(data.shape) #post-dummies shape\n",
        "data.head #Check to verify that dummies are ok\n"
      ],
      "execution_count": null,
      "outputs": [
        {
          "output_type": "stream",
          "text": [
            "(4321, 16)\n",
            "(4321, 39)\n"
          ],
          "name": "stdout"
        },
        {
          "output_type": "execute_result",
          "data": {
            "text/plain": [
              "<bound method NDFrame.head of                                     Name  Year_of_Release  ... Rating_RP  Rating_T\n",
              "0                             Wii Sports           2006.0  ...         0         0\n",
              "2                         Mario Kart Wii           2008.0  ...         0         0\n",
              "3                      Wii Sports Resort           2009.0  ...         0         0\n",
              "7                               Wii Play           2006.0  ...         0         0\n",
              "8              New Super Mario Bros. Wii           2009.0  ...         0         0\n",
              "...                                  ...              ...  ...       ...       ...\n",
              "16682                     End of Nations           2012.0  ...         0         1\n",
              "16685                            Worms 2           1997.0  ...         0         0\n",
              "16696  Metal Gear Solid V: Ground Zeroes           2014.0  ...         0         0\n",
              "16700                             Breach           2011.0  ...         0         1\n",
              "16706            STORM: Frontline Nation           2011.0  ...         0         0\n",
              "\n",
              "[4321 rows x 39 columns]>"
            ]
          },
          "metadata": {
            "tags": []
          },
          "execution_count": 104
        }
      ]
    },
    {
      "cell_type": "code",
      "metadata": {
        "id": "fOv_3Hk_Nk1Y"
      },
      "source": [
        "data = data.drop(['Name', 'Publisher', 'Developer', 'NA_Sales', 'EU_Sales', 'JP_Sales', 'Other_Sales'], axis=1)\n",
        "\n"
      ],
      "execution_count": null,
      "outputs": []
    },
    {
      "cell_type": "code",
      "metadata": {
        "colab": {
          "base_uri": "https://localhost:8080/"
        },
        "id": "lo1hwn7-Nlph",
        "outputId": "a7d06912-f82c-4fca-8425-39032c0a5314"
      },
      "source": [
        "X = data[['Year_of_Release', 'Critic_Score', 'Critic_Count',\n",
        "       'User_Score', 'User_Count', 'Platform_PC', 'Platform_PS3',\n",
        "       'Platform_PS4', 'Platform_Wii', 'Platform_WiiU', 'Platform_X360',\n",
        "       'Platform_XOne', 'Genre_Action', 'Genre_Adventure', 'Genre_Fighting',\n",
        "       'Genre_Misc', 'Genre_Platform', 'Genre_Puzzle', 'Genre_Racing',\n",
        "       'Genre_Role-Playing', 'Genre_Shooter', 'Genre_Simulation',\n",
        "       'Genre_Sports', 'Genre_Strategy', 'Rating_E', 'Rating_E10+', 'Rating_M',\n",
        "       'Rating_RP', 'Rating_T']]\n",
        "\n",
        "Y = data[['Global_Sales']]\n",
        "\n",
        "#Double checking the shape\n",
        "print(X.shape)\n",
        "print(Y.shape)"
      ],
      "execution_count": null,
      "outputs": [
        {
          "output_type": "stream",
          "text": [
            "(4321, 29)\n",
            "(4321, 1)\n"
          ],
          "name": "stdout"
        }
      ]
    },
    {
      "cell_type": "code",
      "metadata": {
        "colab": {
          "base_uri": "https://localhost:8080/"
        },
        "id": "yHn1LcDtNlhg",
        "outputId": "103430d3-6b80-4c8a-9c50-ec37b9e63a14"
      },
      "source": [
        "\n",
        "from sklearn.model_selection import train_test_split\n",
        "from sklearn.preprocessing import MinMaxScaler\n",
        "X_train, X_test, Y_train, Y_test = train_test_split(X, Y, random_state=42)\n",
        "norm=MinMaxScaler().fit(X_train)\n",
        "X_train=norm.transform(X_train)\n",
        "X_test=norm.transform(X_test)\n",
        "\n",
        "#Let's check the shape of the split data as a precaution\n",
        "print(\"X_train shape: {}\".format(X_train.shape))\n",
        "print(\"Y_train shape: {}\".format(Y_train.shape))\n",
        "\n",
        "print(\"X_test shape: {}\".format(X_test.shape))\n",
        "print(\"Y_test shape: {}\".format(Y_test.shape))\n",
        "print(X_train)\n"
      ],
      "execution_count": null,
      "outputs": [
        {
          "output_type": "stream",
          "text": [
            "X_train shape: (3240, 29)\n",
            "Y_train shape: (3240, 1)\n",
            "X_test shape: (1081, 29)\n",
            "Y_test shape: (1081, 1)\n",
            "[[0.77419355 0.67139422 0.26905964 ... 0.         0.         0.        ]\n",
            " [0.80645161 0.15294118 0.11818182 ... 0.         0.         0.        ]\n",
            " [0.93548387 0.74117647 0.25454545 ... 0.         0.         1.        ]\n",
            " ...\n",
            " [0.77419355 0.67139422 0.26905964 ... 0.         0.         0.        ]\n",
            " [0.80645161 0.4        0.01818182 ... 1.         0.         0.        ]\n",
            " [0.93548387 0.67139422 0.26905964 ... 1.         0.         0.        ]]\n"
          ],
          "name": "stdout"
        }
      ]
    },
    {
      "cell_type": "code",
      "metadata": {
        "id": "EHJDb3kGPXuF"
      },
      "source": [
        "#We use the numpy fuction log1p which  applies log(1+x) to all elements of the column\n",
        "Y_train = np.log1p(Y_train)\n",
        "Y_test = np.log1p(Y_test)"
      ],
      "execution_count": null,
      "outputs": []
    },
    {
      "cell_type": "code",
      "metadata": {
        "colab": {
          "base_uri": "https://localhost:8080/"
        },
        "id": "6DIDIjEUNlXg",
        "outputId": "8efa9272-ce15-43e4-db32-3dc49cd4d859"
      },
      "source": [
        "\n",
        "##LINEAR REGRESSION\n",
        "\n",
        "from sklearn.linear_model import LinearRegression\n",
        "\n",
        "#R2-SCORE\n",
        "regr = LinearRegression()\n",
        "regr.fit(X_train, Y_train)\n",
        "y_pred_test = regr.predict(X_test)\n",
        "print('R-squared = %.4f' % r2_score(Y_test, y_pred_test))\n",
        "#RMSE\n",
        "print(\"Root mean squared error = %.4f\" % np.sqrt(mean_squared_error(Y_test, y_pred_test)))\n",
        "\n"
      ],
      "execution_count": null,
      "outputs": [
        {
          "output_type": "stream",
          "text": [
            "R-squared = 0.3671\n",
            "Root mean squared error = 0.3770\n"
          ],
          "name": "stdout"
        }
      ]
    },
    {
      "cell_type": "code",
      "metadata": {
        "colab": {
          "base_uri": "https://localhost:8080/"
        },
        "id": "zk6C9AYjOvAA",
        "outputId": "771a876a-bc07-4614-bfa7-492f5ce78765"
      },
      "source": [
        "##DecissionTreeRegressor\n",
        "from sklearn.tree import DecisionTreeRegressor\n",
        "\n",
        "#R2-SCORE\n",
        "regr = DecisionTreeRegressor()\n",
        "regr.fit(X_train, Y_train)\n",
        "y_pred_test = regr.predict(X_test)\n",
        "print('R-squared = %.4f' % r2_score(Y_test, y_pred_test))\n",
        "#RMSE\n",
        "print(\"Root mean squared error = %.4f\" % np.sqrt(mean_squared_error(Y_test, y_pred_test)))\n"
      ],
      "execution_count": null,
      "outputs": [
        {
          "output_type": "stream",
          "text": [
            "R-squared = 0.1942\n",
            "Root mean squared error = 0.4254\n"
          ],
          "name": "stdout"
        }
      ]
    },
    {
      "cell_type": "code",
      "metadata": {
        "colab": {
          "base_uri": "https://localhost:8080/"
        },
        "id": "-z6NEVpSOu7L",
        "outputId": "8908a1f2-68e3-46fe-f191-bbd63b419c2e"
      },
      "source": [
        "##RIDGE\n",
        "\n",
        "from sklearn.linear_model import Ridge\n",
        "\n",
        "\n",
        "#R2-SCORE\n",
        "regr = Ridge()\n",
        "regr.fit(X_train, Y_train)\n",
        "y_pred_test = regr.predict(X_test)\n",
        "print('R-squared = %.4f' % r2_score(Y_test, y_pred_test))\n",
        "#RMSE\n",
        "print(\"Root mean squared error = %.4f\" % np.sqrt(mean_squared_error(Y_test, y_pred_test)))\n",
        "\n"
      ],
      "execution_count": null,
      "outputs": [
        {
          "output_type": "stream",
          "text": [
            "R-squared = 0.3667\n",
            "Root mean squared error = 0.3771\n"
          ],
          "name": "stdout"
        }
      ]
    },
    {
      "cell_type": "code",
      "metadata": {
        "colab": {
          "base_uri": "https://localhost:8080/"
        },
        "id": "HjjpsZtiOu2F",
        "outputId": "771fa052-30f6-406f-c350-b820ffdea09d"
      },
      "source": [
        "##SVR\n",
        "\n",
        "from sklearn.svm import SVR\n",
        "\n",
        "#R2-SCORE\n",
        "regr = SVR()\n",
        "regr.fit(X_train, Y_train)\n",
        "y_pred_test = regr.predict(X_test)\n",
        "print('R-squared = %.4f' % r2_score(Y_test, y_pred_test))\n",
        "#RMSE\n",
        "print(\"Root mean squared error = %.4f\" % np.sqrt(mean_squared_error(Y_test, y_pred_test)))\n",
        "\n"
      ],
      "execution_count": null,
      "outputs": [
        {
          "output_type": "stream",
          "text": [
            "R-squared = 0.4130\n",
            "Root mean squared error = 0.3631\n"
          ],
          "name": "stdout"
        }
      ]
    },
    {
      "cell_type": "code",
      "metadata": {
        "colab": {
          "base_uri": "https://localhost:8080/"
        },
        "id": "rlYaTwR27wRr",
        "outputId": "c979ad9e-391c-4a28-dc77-6aae5c8ba595"
      },
      "source": [
        "##KNeighbors\n",
        "from sklearn.neighbors import KNeighborsRegressor\n",
        "\n",
        "#R2-SCORE\n",
        "regr = KNeighborsRegressor()\n",
        "regr.fit(X_train, Y_train)\n",
        "y_pred_test = regr.predict(X_test)\n",
        "print('R-squared = %.4f' % r2_score(Y_test, y_pred_test))\n",
        "#RMSE\n",
        "print(\"Root mean squared error = %.4f\" % np.sqrt(mean_squared_error(Y_test, y_pred_test)))\n",
        "\n"
      ],
      "execution_count": null,
      "outputs": [
        {
          "output_type": "stream",
          "text": [
            "R-squared = 0.3310\n",
            "Root mean squared error = 0.3876\n"
          ],
          "name": "stdout"
        }
      ]
    },
    {
      "cell_type": "code",
      "metadata": {
        "colab": {
          "base_uri": "https://localhost:8080/"
        },
        "id": "vqVIeyWN7wGr",
        "outputId": "8d86e9f1-a013-4329-ec98-1db07be778df"
      },
      "source": [
        "##ADABoost\n",
        "from sklearn.ensemble import AdaBoostRegressor\n",
        "\n",
        "#R2-SCORE\n",
        "regr = AdaBoostRegressor()\n",
        "regr.fit(X_train, Y_train)\n",
        "y_pred_test = regr.predict(X_test)\n",
        "print('R-squared = %.4f' % r2_score(Y_test, y_pred_test))\n",
        "#RMSE\n",
        "print(\"Root mean squared error = %.4f\" % np.sqrt(mean_squared_error(Y_test, y_pred_test)))\n"
      ],
      "execution_count": null,
      "outputs": [
        {
          "output_type": "stream",
          "text": [
            "R-squared = 0.2329\n",
            "Root mean squared error = 0.4150\n"
          ],
          "name": "stdout"
        }
      ]
    },
    {
      "cell_type": "code",
      "metadata": {
        "colab": {
          "base_uri": "https://localhost:8080/"
        },
        "id": "LTHJKxFVOuyI",
        "outputId": "6355ad98-4922-48f8-ead9-57643c0e1af0"
      },
      "source": [
        "##GradientBoostingRegressor\n",
        "\n",
        "from sklearn.ensemble import GradientBoostingRegressor\n",
        "\n",
        "\n",
        "#R2-SCORE\n",
        "regr = GradientBoostingRegressor()\n",
        "regr.fit(X_train, Y_train)\n",
        "y_pred_test = regr.predict(X_test)\n",
        "print('R-squared = %.4f' % r2_score(Y_test, y_pred_test))\n",
        "#RMSE\n",
        "print(\"Root mean squared error = %.4f\" % np.sqrt(mean_squared_error(Y_test, y_pred_test)))\n",
        "\n"
      ],
      "execution_count": null,
      "outputs": [
        {
          "output_type": "stream",
          "text": [
            "R-squared = 0.5490\n",
            "Root mean squared error = 0.3182\n"
          ],
          "name": "stdout"
        }
      ]
    },
    {
      "cell_type": "code",
      "metadata": {
        "colab": {
          "base_uri": "https://localhost:8080/"
        },
        "id": "VA2wLLefIrNE",
        "outputId": "35fe7b33-9ea3-40af-b38c-70c40cdc5fe6"
      },
      "source": [
        "\n",
        "##RandomForestRegressor\n",
        "from sklearn.ensemble import RandomForestRegressor\n",
        "\n",
        "#R2-SCORE\n",
        "regr = RandomForestRegressor()\n",
        "regr.fit(X_train, Y_train)\n",
        "y_pred_test = regr.predict(X_test)\n",
        "print('R-squared = %.4f' % r2_score(Y_test, y_pred_test))\n",
        "#RMSE\n",
        "print(\"Root mean squared error = %.4f\" % np.sqrt(mean_squared_error(Y_test, y_pred_test)))\n"
      ],
      "execution_count": null,
      "outputs": [
        {
          "output_type": "stream",
          "text": [
            "R-squared = 0.5732\n",
            "Root mean squared error = 0.3096\n"
          ],
          "name": "stdout"
        }
      ]
    },
    {
      "cell_type": "code",
      "metadata": {
        "colab": {
          "base_uri": "https://localhost:8080/"
        },
        "id": "72hPheDgIshc",
        "outputId": "1f51b025-0d46-45c3-c855-60dcdf68629e"
      },
      "source": [
        "##XGB\n",
        "import xgboost as xgb\n",
        "\n",
        "#R2-SCORE\n",
        "regr = xgb.XGBRegressor()\n",
        "regr.fit(X_train, Y_train)\n",
        "y_pred_test = regr.predict(X_test)\n",
        "print('R-squared = %.4f' % r2_score(Y_test, y_pred_test))\n",
        "#RMSE\n",
        "print(\"Root mean squared error = %.4f\" % np.sqrt(mean_squared_error(Y_test, y_pred_test)))\n"
      ],
      "execution_count": null,
      "outputs": [
        {
          "output_type": "stream",
          "text": [
            "[07:14:13] WARNING: /workspace/src/objective/regression_obj.cu:152: reg:linear is now deprecated in favor of reg:squarederror.\n",
            "R-squared = 0.5504\n",
            "Root mean squared error = 0.3177\n"
          ],
          "name": "stdout"
        }
      ]
    },
    {
      "cell_type": "markdown",
      "metadata": {
        "id": "zFSCg1QIZ1Lm"
      },
      "source": [
        "STANDARDIZATION"
      ]
    },
    {
      "cell_type": "code",
      "metadata": {
        "colab": {
          "base_uri": "https://localhost:8080/",
          "height": 221
        },
        "id": "8lyJ_oUhYxjV",
        "outputId": "a02c0ca1-f84d-4eaf-8ae4-674acd4860aa"
      },
      "source": [
        "data = pd.read_csv(\"/content/Video_Games_Sales_as_at_22_Dec_2016.csv\")\n",
        "\n",
        "# Examine the data types of every variable\n",
        "\n",
        "data.head()"
      ],
      "execution_count": null,
      "outputs": [
        {
          "output_type": "execute_result",
          "data": {
            "text/html": [
              "<div>\n",
              "<style scoped>\n",
              "    .dataframe tbody tr th:only-of-type {\n",
              "        vertical-align: middle;\n",
              "    }\n",
              "\n",
              "    .dataframe tbody tr th {\n",
              "        vertical-align: top;\n",
              "    }\n",
              "\n",
              "    .dataframe thead th {\n",
              "        text-align: right;\n",
              "    }\n",
              "</style>\n",
              "<table border=\"1\" class=\"dataframe\">\n",
              "  <thead>\n",
              "    <tr style=\"text-align: right;\">\n",
              "      <th></th>\n",
              "      <th>Name</th>\n",
              "      <th>Platform</th>\n",
              "      <th>Year_of_Release</th>\n",
              "      <th>Genre</th>\n",
              "      <th>Publisher</th>\n",
              "      <th>NA_Sales</th>\n",
              "      <th>EU_Sales</th>\n",
              "      <th>JP_Sales</th>\n",
              "      <th>Other_Sales</th>\n",
              "      <th>Global_Sales</th>\n",
              "      <th>Critic_Score</th>\n",
              "      <th>Critic_Count</th>\n",
              "      <th>User_Score</th>\n",
              "      <th>User_Count</th>\n",
              "      <th>Developer</th>\n",
              "      <th>Rating</th>\n",
              "    </tr>\n",
              "  </thead>\n",
              "  <tbody>\n",
              "    <tr>\n",
              "      <th>0</th>\n",
              "      <td>Wii Sports</td>\n",
              "      <td>Wii</td>\n",
              "      <td>2006.0</td>\n",
              "      <td>Sports</td>\n",
              "      <td>Nintendo</td>\n",
              "      <td>41.36</td>\n",
              "      <td>28.96</td>\n",
              "      <td>3.77</td>\n",
              "      <td>8.45</td>\n",
              "      <td>82.53</td>\n",
              "      <td>76.0</td>\n",
              "      <td>51.0</td>\n",
              "      <td>8</td>\n",
              "      <td>322.0</td>\n",
              "      <td>Nintendo</td>\n",
              "      <td>E</td>\n",
              "    </tr>\n",
              "    <tr>\n",
              "      <th>1</th>\n",
              "      <td>Super Mario Bros.</td>\n",
              "      <td>NES</td>\n",
              "      <td>1985.0</td>\n",
              "      <td>Platform</td>\n",
              "      <td>Nintendo</td>\n",
              "      <td>29.08</td>\n",
              "      <td>3.58</td>\n",
              "      <td>6.81</td>\n",
              "      <td>0.77</td>\n",
              "      <td>40.24</td>\n",
              "      <td>NaN</td>\n",
              "      <td>NaN</td>\n",
              "      <td>NaN</td>\n",
              "      <td>NaN</td>\n",
              "      <td>NaN</td>\n",
              "      <td>NaN</td>\n",
              "    </tr>\n",
              "    <tr>\n",
              "      <th>2</th>\n",
              "      <td>Mario Kart Wii</td>\n",
              "      <td>Wii</td>\n",
              "      <td>2008.0</td>\n",
              "      <td>Racing</td>\n",
              "      <td>Nintendo</td>\n",
              "      <td>15.68</td>\n",
              "      <td>12.76</td>\n",
              "      <td>3.79</td>\n",
              "      <td>3.29</td>\n",
              "      <td>35.52</td>\n",
              "      <td>82.0</td>\n",
              "      <td>73.0</td>\n",
              "      <td>8.3</td>\n",
              "      <td>709.0</td>\n",
              "      <td>Nintendo</td>\n",
              "      <td>E</td>\n",
              "    </tr>\n",
              "    <tr>\n",
              "      <th>3</th>\n",
              "      <td>Wii Sports Resort</td>\n",
              "      <td>Wii</td>\n",
              "      <td>2009.0</td>\n",
              "      <td>Sports</td>\n",
              "      <td>Nintendo</td>\n",
              "      <td>15.61</td>\n",
              "      <td>10.93</td>\n",
              "      <td>3.28</td>\n",
              "      <td>2.95</td>\n",
              "      <td>32.77</td>\n",
              "      <td>80.0</td>\n",
              "      <td>73.0</td>\n",
              "      <td>8</td>\n",
              "      <td>192.0</td>\n",
              "      <td>Nintendo</td>\n",
              "      <td>E</td>\n",
              "    </tr>\n",
              "    <tr>\n",
              "      <th>4</th>\n",
              "      <td>Pokemon Red/Pokemon Blue</td>\n",
              "      <td>GB</td>\n",
              "      <td>1996.0</td>\n",
              "      <td>Role-Playing</td>\n",
              "      <td>Nintendo</td>\n",
              "      <td>11.27</td>\n",
              "      <td>8.89</td>\n",
              "      <td>10.22</td>\n",
              "      <td>1.00</td>\n",
              "      <td>31.37</td>\n",
              "      <td>NaN</td>\n",
              "      <td>NaN</td>\n",
              "      <td>NaN</td>\n",
              "      <td>NaN</td>\n",
              "      <td>NaN</td>\n",
              "      <td>NaN</td>\n",
              "    </tr>\n",
              "  </tbody>\n",
              "</table>\n",
              "</div>"
            ],
            "text/plain": [
              "                       Name Platform  ...  Developer Rating\n",
              "0                Wii Sports      Wii  ...   Nintendo      E\n",
              "1         Super Mario Bros.      NES  ...        NaN    NaN\n",
              "2            Mario Kart Wii      Wii  ...   Nintendo      E\n",
              "3         Wii Sports Resort      Wii  ...   Nintendo      E\n",
              "4  Pokemon Red/Pokemon Blue       GB  ...        NaN    NaN\n",
              "\n",
              "[5 rows x 16 columns]"
            ]
          },
          "metadata": {
            "tags": []
          },
          "execution_count": 118
        }
      ]
    },
    {
      "cell_type": "code",
      "metadata": {
        "colab": {
          "base_uri": "https://localhost:8080/",
          "height": 450
        },
        "id": "-tNafmZWYgyD",
        "outputId": "26151923-95b8-4c29-c42d-a8c98e4cd31c"
      },
      "source": [
        "data = data[(data['Platform'] == 'PS3') | (data['Platform'] == 'PS4') | (data['Platform'] == 'X360') | (data['Platform'] == 'XOne') | (data['Platform'] == 'Wii') | (data['Platform'] == 'WiiU') | (data['Platform'] == 'PC')]\n",
        "\n",
        "#Let's double check the value counts to be sure\n",
        "print(pd.value_counts(data[\"Platform\"]))\n",
        "\n",
        "#Let's see the shape of the data again\n",
        "print(data.shape)\n",
        "\n",
        "#Lets see the missing ratios again\n",
        "data_na = (data.isnull().sum() / len(data)) * 100\n",
        "data_na = data_na.drop(data_na[data_na == 0].index).sort_values(ascending=False)[:30]\n",
        "missing_data = pd.DataFrame({'Missing Ratio' :data_na})\n",
        "missing_data.head(16)\n"
      ],
      "execution_count": null,
      "outputs": [
        {
          "output_type": "stream",
          "text": [
            "PS3     1331\n",
            "Wii     1320\n",
            "X360    1262\n",
            "PC       974\n",
            "PS4      393\n",
            "XOne     247\n",
            "WiiU     147\n",
            "Name: Platform, dtype: int64\n",
            "(5674, 16)\n"
          ],
          "name": "stdout"
        },
        {
          "output_type": "execute_result",
          "data": {
            "text/html": [
              "<div>\n",
              "<style scoped>\n",
              "    .dataframe tbody tr th:only-of-type {\n",
              "        vertical-align: middle;\n",
              "    }\n",
              "\n",
              "    .dataframe tbody tr th {\n",
              "        vertical-align: top;\n",
              "    }\n",
              "\n",
              "    .dataframe thead th {\n",
              "        text-align: right;\n",
              "    }\n",
              "</style>\n",
              "<table border=\"1\" class=\"dataframe\">\n",
              "  <thead>\n",
              "    <tr style=\"text-align: right;\">\n",
              "      <th></th>\n",
              "      <th>Missing Ratio</th>\n",
              "    </tr>\n",
              "  </thead>\n",
              "  <tbody>\n",
              "    <tr>\n",
              "      <th>Critic_Count</th>\n",
              "      <td>37.486782</td>\n",
              "    </tr>\n",
              "    <tr>\n",
              "      <th>Critic_Score</th>\n",
              "      <td>37.486782</td>\n",
              "    </tr>\n",
              "    <tr>\n",
              "      <th>User_Count</th>\n",
              "      <td>34.578780</td>\n",
              "    </tr>\n",
              "    <tr>\n",
              "      <th>Rating</th>\n",
              "      <td>23.757490</td>\n",
              "    </tr>\n",
              "    <tr>\n",
              "      <th>User_Score</th>\n",
              "      <td>22.559041</td>\n",
              "    </tr>\n",
              "    <tr>\n",
              "      <th>Developer</th>\n",
              "      <td>21.713077</td>\n",
              "    </tr>\n",
              "    <tr>\n",
              "      <th>Year_of_Release</th>\n",
              "      <td>1.868171</td>\n",
              "    </tr>\n",
              "    <tr>\n",
              "      <th>Publisher</th>\n",
              "      <td>0.229115</td>\n",
              "    </tr>\n",
              "  </tbody>\n",
              "</table>\n",
              "</div>"
            ],
            "text/plain": [
              "                 Missing Ratio\n",
              "Critic_Count         37.486782\n",
              "Critic_Score         37.486782\n",
              "User_Count           34.578780\n",
              "Rating               23.757490\n",
              "User_Score           22.559041\n",
              "Developer            21.713077\n",
              "Year_of_Release       1.868171\n",
              "Publisher             0.229115"
            ]
          },
          "metadata": {
            "tags": []
          },
          "execution_count": 119
        }
      ]
    },
    {
      "cell_type": "code",
      "metadata": {
        "id": "mgzDKirkYgqK"
      },
      "source": [
        "\n",
        "#filling all Nas with mean\n",
        "data['Year_of_Release'] = data['Year_of_Release'].fillna(data['Year_of_Release'].mean())\n",
        "data['Critic_Count'] = data['Critic_Count'].fillna(data['Critic_Count'].mean())\n",
        "data['Critic_Score'] = data['Critic_Score'].fillna(data['Critic_Score'].mean())\n",
        "\n",
        "\n",
        "\n",
        "data['User_Score'] = data['User_Score'].replace('tbd', None)\n",
        "data['User_Score'] = data['User_Score'].astype(float)\n",
        "data['User_Score'] = data['User_Score'].fillna(data['User_Score'].mean())\n",
        "data['User_Score'] = data['User_Score'].astype(int)\n",
        "data['User_Count'] = data['User_Count'].fillna(data['User_Count'].mean())\n",
        "\n",
        "data = data.dropna(subset=['Publisher','Developer','Rating'])"
      ],
      "execution_count": null,
      "outputs": []
    },
    {
      "cell_type": "code",
      "metadata": {
        "colab": {
          "base_uri": "https://localhost:8080/"
        },
        "id": "uUxg1edCYgWp",
        "outputId": "cf908ed2-04c6-4c4e-8216-14e9c05a7454"
      },
      "source": [
        "print(data.shape) #pre-dummies shape\n",
        "data = pd.get_dummies(data=data, columns=['Platform', 'Genre', 'Rating'])\n",
        "print(data.shape) #post-dummies shape\n",
        "data.head #Check to verify that dummies are ok\n"
      ],
      "execution_count": null,
      "outputs": [
        {
          "output_type": "stream",
          "text": [
            "(4321, 16)\n",
            "(4321, 39)\n"
          ],
          "name": "stdout"
        },
        {
          "output_type": "execute_result",
          "data": {
            "text/plain": [
              "<bound method NDFrame.head of                                     Name  Year_of_Release  ... Rating_RP  Rating_T\n",
              "0                             Wii Sports           2006.0  ...         0         0\n",
              "2                         Mario Kart Wii           2008.0  ...         0         0\n",
              "3                      Wii Sports Resort           2009.0  ...         0         0\n",
              "7                               Wii Play           2006.0  ...         0         0\n",
              "8              New Super Mario Bros. Wii           2009.0  ...         0         0\n",
              "...                                  ...              ...  ...       ...       ...\n",
              "16682                     End of Nations           2012.0  ...         0         1\n",
              "16685                            Worms 2           1997.0  ...         0         0\n",
              "16696  Metal Gear Solid V: Ground Zeroes           2014.0  ...         0         0\n",
              "16700                             Breach           2011.0  ...         0         1\n",
              "16706            STORM: Frontline Nation           2011.0  ...         0         0\n",
              "\n",
              "[4321 rows x 39 columns]>"
            ]
          },
          "metadata": {
            "tags": []
          },
          "execution_count": 121
        }
      ]
    },
    {
      "cell_type": "code",
      "metadata": {
        "id": "BpBN854MYgSY"
      },
      "source": [
        "data = data.drop(['Name', 'Publisher', 'Developer', 'NA_Sales', 'EU_Sales', 'JP_Sales', 'Other_Sales'], axis=1)\n",
        "\n"
      ],
      "execution_count": null,
      "outputs": []
    },
    {
      "cell_type": "code",
      "metadata": {
        "colab": {
          "base_uri": "https://localhost:8080/"
        },
        "id": "CIJY_clbZDZv",
        "outputId": "89c591e7-9d31-4234-e9e7-2cf4d92a1ee1"
      },
      "source": [
        "X = data[['Year_of_Release', 'Critic_Score', 'Critic_Count',\n",
        "       'User_Score', 'User_Count', 'Platform_PC', 'Platform_PS3',\n",
        "       'Platform_PS4', 'Platform_Wii', 'Platform_WiiU', 'Platform_X360',\n",
        "       'Platform_XOne', 'Genre_Action', 'Genre_Adventure', 'Genre_Fighting',\n",
        "       'Genre_Misc', 'Genre_Platform', 'Genre_Puzzle', 'Genre_Racing',\n",
        "       'Genre_Role-Playing', 'Genre_Shooter', 'Genre_Simulation',\n",
        "       'Genre_Sports', 'Genre_Strategy', 'Rating_E', 'Rating_E10+', 'Rating_M',\n",
        "       'Rating_RP', 'Rating_T']]\n",
        "\n",
        "Y = data[['Global_Sales']]\n",
        "\n",
        "#Double checking the shape\n",
        "print(X.shape)\n",
        "print(Y.shape)"
      ],
      "execution_count": null,
      "outputs": [
        {
          "output_type": "stream",
          "text": [
            "(4321, 29)\n",
            "(4321, 1)\n"
          ],
          "name": "stdout"
        }
      ]
    },
    {
      "cell_type": "code",
      "metadata": {
        "colab": {
          "base_uri": "https://localhost:8080/"
        },
        "id": "b_8Fcv41ZJFH",
        "outputId": "302719f0-a124-40f5-f029-7af47da4a33e"
      },
      "source": [
        "\n",
        "from sklearn.model_selection import train_test_split\n",
        "from sklearn.preprocessing import StandardScaler\n",
        "X_train, X_test, Y_train, Y_test = train_test_split(X, Y, random_state=42)\n",
        "#Let's check the shape of the split data as a precaution\n",
        "print(\"X_train shape: {}\".format(X_train.shape))\n",
        "print(\"Y_train shape: {}\".format(Y_train.shape))\n",
        "\n",
        "print(\"X_test shape: {}\".format(X_test.shape))\n",
        "print(\"Y_test shape: {}\".format(Y_test.shape))\n",
        "print(X_train)\n"
      ],
      "execution_count": null,
      "outputs": [
        {
          "output_type": "stream",
          "text": [
            "X_train shape: (3240, 29)\n",
            "Y_train shape: (3240, 1)\n",
            "X_test shape: (1081, 29)\n",
            "Y_test shape: (1081, 1)\n",
            "       Year_of_Release  Critic_Score  ...  Rating_RP  Rating_T\n",
            "9691            2009.0     70.068509  ...          0         0\n",
            "5539            2010.0     26.000000  ...          0         0\n",
            "6796            2014.0     76.000000  ...          0         1\n",
            "2852            2011.0     84.000000  ...          0         0\n",
            "4408            2008.0     68.000000  ...          0         0\n",
            "...                ...           ...  ...        ...       ...\n",
            "12197           2010.0     70.068509  ...          0         0\n",
            "1183            2014.0     80.000000  ...          0         0\n",
            "10438           2009.0     70.068509  ...          0         0\n",
            "13887           2010.0     47.000000  ...          0         0\n",
            "2297            2014.0     70.068509  ...          0         0\n",
            "\n",
            "[3240 rows x 29 columns]\n"
          ],
          "name": "stdout"
        }
      ]
    },
    {
      "cell_type": "code",
      "metadata": {
        "colab": {
          "base_uri": "https://localhost:8080/"
        },
        "id": "X3v6zHB3aHEw",
        "outputId": "38c5e1c5-35f3-4a57-8f03-5c7ce8ad96fa"
      },
      "source": [
        "\n",
        "sc = StandardScaler()\n",
        "X_train = sc.fit_transform(X_train)\n",
        "X_test = sc.transform(X_test)\n",
        "\n",
        "\n",
        "print(X_train)"
      ],
      "execution_count": null,
      "outputs": [
        {
          "output_type": "stream",
          "text": [
            "[[-3.71570664e-01  4.62378820e-03  1.64286414e-03 ... -5.46440477e-01\n",
            "  -2.48528716e-02 -6.60913834e-01]\n",
            " [-6.21068456e-02 -3.39269403e+00 -8.49046812e-01 ... -5.46440477e-01\n",
            "  -2.48528716e-02 -6.60913834e-01]\n",
            " [ 1.17574843e+00  4.61892755e-01 -8.01920145e-02 ... -5.46440477e-01\n",
            "  -2.48528716e-02  1.51305654e+00]\n",
            " ...\n",
            " [-3.71570664e-01  4.62378820e-03  1.64286414e-03 ... -5.46440477e-01\n",
            "  -2.48528716e-02 -6.60913834e-01]\n",
            " [-6.21068456e-02 -1.77376758e+00 -1.41287366e+00 ...  1.83002549e+00\n",
            "  -2.48528716e-02 -6.60913834e-01]\n",
            " [ 1.17574843e+00  4.62378820e-03  1.64286414e-03 ...  1.83002549e+00\n",
            "  -2.48528716e-02 -6.60913834e-01]]\n"
          ],
          "name": "stdout"
        }
      ]
    },
    {
      "cell_type": "code",
      "metadata": {
        "id": "BlPNvb6nZMco"
      },
      "source": [
        "#We use the numpy fuction log1p which  applies log(1+x) to all elements of the column\n",
        "Y_train = np.log1p(Y_train)\n",
        "Y_test = np.log1p(Y_test)"
      ],
      "execution_count": null,
      "outputs": []
    },
    {
      "cell_type": "code",
      "metadata": {
        "colab": {
          "base_uri": "https://localhost:8080/"
        },
        "id": "crgnRJlxZOuV",
        "outputId": "3cef480a-e97a-4a0b-93cf-a8b3ca34f869"
      },
      "source": [
        "\n",
        "##LINEAR REGRESSION\n",
        "\n",
        "from sklearn.linear_model import LinearRegression\n",
        "\n",
        "#R2-SCORE\n",
        "regr = LinearRegression()\n",
        "regr.fit(X_train, Y_train)\n",
        "y_pred_test = regr.predict(X_test)\n",
        "print('R-squared = %.4f' % r2_score(Y_test, y_pred_test))\n",
        "#RMSE\n",
        "print(\"Root mean squared error = %.4f\" % np.sqrt(mean_squared_error(Y_test, y_pred_test)))\n",
        "\n"
      ],
      "execution_count": null,
      "outputs": [
        {
          "output_type": "stream",
          "text": [
            "R-squared = 0.3669\n",
            "Root mean squared error = 0.3770\n"
          ],
          "name": "stdout"
        }
      ]
    },
    {
      "cell_type": "code",
      "metadata": {
        "colab": {
          "base_uri": "https://localhost:8080/"
        },
        "id": "tb7sG__tZOp1",
        "outputId": "0c3238d6-cd0a-430a-e693-c9ac645905ab"
      },
      "source": [
        "##DecisionTreeRegressor\n",
        "from sklearn.tree import DecisionTreeRegressor\n",
        "\n",
        "#R2-SCORE\n",
        "regr = DecisionTreeRegressor()\n",
        "regr.fit(X_train, Y_train)\n",
        "y_pred_test = regr.predict(X_test)\n",
        "print('R-squared = %.4f' % r2_score(Y_test, y_pred_test))\n",
        "#RMSE\n",
        "print(\"Root mean squared error = %.4f\" % np.sqrt(mean_squared_error(Y_test, y_pred_test)))\n"
      ],
      "execution_count": null,
      "outputs": [
        {
          "output_type": "stream",
          "text": [
            "R-squared = 0.2294\n",
            "Root mean squared error = 0.4160\n"
          ],
          "name": "stdout"
        }
      ]
    },
    {
      "cell_type": "code",
      "metadata": {
        "colab": {
          "base_uri": "https://localhost:8080/"
        },
        "id": "BVnNza5wZOlt",
        "outputId": "d0486350-5615-48f1-f797-de257b3b0049"
      },
      "source": [
        "##RIDGE\n",
        "\n",
        "from sklearn.linear_model import Ridge\n",
        "\n",
        "\n",
        "#R2-SCORE\n",
        "regr = Ridge()\n",
        "regr.fit(X_train, Y_train)\n",
        "y_pred_test = regr.predict(X_test)\n",
        "print('R-squared = %.4f' % r2_score(Y_test, y_pred_test))\n",
        "#RMSE\n",
        "print(\"Root mean squared error = %.4f\" % np.sqrt(mean_squared_error(Y_test, y_pred_test)))\n",
        "\n"
      ],
      "execution_count": null,
      "outputs": [
        {
          "output_type": "stream",
          "text": [
            "R-squared = 0.3671\n",
            "Root mean squared error = 0.3770\n"
          ],
          "name": "stdout"
        }
      ]
    },
    {
      "cell_type": "code",
      "metadata": {
        "colab": {
          "base_uri": "https://localhost:8080/"
        },
        "id": "JTSdE2LXZOhe",
        "outputId": "00b1e916-f422-463e-e069-ce3b77f72792"
      },
      "source": [
        "##SVR\n",
        "\n",
        "from sklearn.svm import SVR\n",
        "\n",
        "#R2-SCORE\n",
        "regr = SVR()\n",
        "regr.fit(X_train, Y_train)\n",
        "y_pred_test = regr.predict(X_test)\n",
        "print('R-squared = %.4f' % r2_score(Y_test, y_pred_test))\n",
        "#RMSE\n",
        "print(\"Root mean squared error = %.4f\" % np.sqrt(mean_squared_error(Y_test, y_pred_test)))\n",
        "\n"
      ],
      "execution_count": null,
      "outputs": [
        {
          "output_type": "stream",
          "text": [
            "R-squared = 0.4997\n",
            "Root mean squared error = 0.3352\n"
          ],
          "name": "stdout"
        }
      ]
    },
    {
      "cell_type": "code",
      "metadata": {
        "colab": {
          "base_uri": "https://localhost:8080/"
        },
        "id": "jD5z_mxY75Xm",
        "outputId": "95345362-0ab6-4413-a871-46cd06112277"
      },
      "source": [
        "##KNeighbors\n",
        "from sklearn.neighbors import KNeighborsRegressor\n",
        "\n",
        "#R2-SCORE\n",
        "regr = KNeighborsRegressor()\n",
        "regr.fit(X_train, Y_train)\n",
        "y_pred_test = regr.predict(X_test)\n",
        "print('R-squared = %.4f' % r2_score(Y_test, y_pred_test))\n",
        "#RMSE\n",
        "print(\"Root mean squared error = %.4f\" % np.sqrt(mean_squared_error(Y_test, y_pred_test)))\n",
        "\n"
      ],
      "execution_count": null,
      "outputs": [
        {
          "output_type": "stream",
          "text": [
            "R-squared = 0.3940\n",
            "Root mean squared error = 0.3689\n"
          ],
          "name": "stdout"
        }
      ]
    },
    {
      "cell_type": "code",
      "metadata": {
        "colab": {
          "base_uri": "https://localhost:8080/"
        },
        "id": "lbnWoLbz75G8",
        "outputId": "3af213eb-0ef9-4f87-ee07-503925dcda94"
      },
      "source": [
        "##ADABoost\n",
        "from sklearn.ensemble import AdaBoostRegressor\n",
        "\n",
        "#R2-SCORE\n",
        "regr = AdaBoostRegressor()\n",
        "regr.fit(X_train, Y_train)\n",
        "y_pred_test = regr.predict(X_test)\n",
        "print('R-squared = %.4f' % r2_score(Y_test, y_pred_test))\n",
        "#RMSE\n",
        "print(\"Root mean squared error = %.4f\" % np.sqrt(mean_squared_error(Y_test, y_pred_test)))\n"
      ],
      "execution_count": null,
      "outputs": [
        {
          "output_type": "stream",
          "text": [
            "R-squared = 0.2129\n",
            "Root mean squared error = 0.4204\n"
          ],
          "name": "stdout"
        }
      ]
    },
    {
      "cell_type": "code",
      "metadata": {
        "colab": {
          "base_uri": "https://localhost:8080/"
        },
        "id": "exXFFWwSZOLv",
        "outputId": "0e9ce6a2-1854-4637-a527-36987052d7ac"
      },
      "source": [
        "##GradientBoostingRegressor\n",
        "\n",
        "from sklearn.ensemble import GradientBoostingRegressor\n",
        "\n",
        "\n",
        "#R2-SCORE\n",
        "regr = GradientBoostingRegressor()\n",
        "regr.fit(X_train, Y_train)\n",
        "y_pred_test = regr.predict(X_test)\n",
        "print('R-squared = %.4f' % r2_score(Y_test, y_pred_test))\n",
        "#RMSE\n",
        "print(\"Root mean squared error = %.4f\" % np.sqrt(mean_squared_error(Y_test, y_pred_test)))\n",
        "\n"
      ],
      "execution_count": null,
      "outputs": [
        {
          "output_type": "stream",
          "text": [
            "R-squared = 0.5494\n",
            "Root mean squared error = 0.3181\n"
          ],
          "name": "stdout"
        }
      ]
    },
    {
      "cell_type": "code",
      "metadata": {
        "colab": {
          "base_uri": "https://localhost:8080/"
        },
        "id": "-lDU35WwI2Ka",
        "outputId": "f8d213ce-b6b7-4a63-c7f4-20156757e8d5"
      },
      "source": [
        "##RandomForestRegressor\n",
        "from sklearn.ensemble import RandomForestRegressor\n",
        "\n",
        "#R2-SCORE\n",
        "regr = RandomForestRegressor()\n",
        "regr.fit(X_train, Y_train)\n",
        "y_pred_test = regr.predict(X_test)\n",
        "print('R-squared = %.4f' % r2_score(Y_test, y_pred_test))\n",
        "#RMSE\n",
        "print(\"Root mean squared error = %.4f\" % np.sqrt(mean_squared_error(Y_test, y_pred_test)))\n"
      ],
      "execution_count": null,
      "outputs": [
        {
          "output_type": "stream",
          "text": [
            "R-squared = 0.5679\n",
            "Root mean squared error = 0.3115\n"
          ],
          "name": "stdout"
        }
      ]
    },
    {
      "cell_type": "code",
      "metadata": {
        "colab": {
          "base_uri": "https://localhost:8080/"
        },
        "id": "uNiHlq-mI2CK",
        "outputId": "ef66e264-9ee2-499c-9452-33c459412ea8"
      },
      "source": [
        "##XGB\n",
        "import xgboost as xgb\n",
        "\n",
        "#R2-SCORE\n",
        "regr = xgb.XGBRegressor()\n",
        "regr.fit(X_train, Y_train)\n",
        "y_pred_test = regr.predict(X_test)\n",
        "print('R-squared = %.4f' % r2_score(Y_test, y_pred_test))\n",
        "#RMSE\n",
        "print(\"Root mean squared error = %.4f\" % np.sqrt(mean_squared_error(Y_test, y_pred_test)))\n"
      ],
      "execution_count": null,
      "outputs": [
        {
          "output_type": "stream",
          "text": [
            "[07:14:17] WARNING: /workspace/src/objective/regression_obj.cu:152: reg:linear is now deprecated in favor of reg:squarederror.\n",
            "R-squared = 0.5504\n",
            "Root mean squared error = 0.3177\n"
          ],
          "name": "stdout"
        }
      ]
    },
    {
      "cell_type": "markdown",
      "metadata": {
        "id": "f4aMnEL3ljvX"
      },
      "source": [
        "TRYING ALL ALGORITHMS USING SUITABLE COMBINATION OF PREPROCESSING TECHNIQUES\n",
        "\n"
      ]
    },
    {
      "cell_type": "code",
      "metadata": {
        "id": "gaDnGgF4lsPj"
      },
      "source": [
        "data = pd.read_csv(\"/content/Video_Games_Sales_as_at_22_Dec_2016.csv\")"
      ],
      "execution_count": null,
      "outputs": []
    },
    {
      "cell_type": "code",
      "metadata": {
        "colab": {
          "base_uri": "https://localhost:8080/",
          "height": 450
        },
        "id": "l_DHhRt5lteR",
        "outputId": "ede0a98f-57b8-4df3-d199-e8c7d4efd8a0"
      },
      "source": [
        "# Examine the data types of every variable\n",
        "\n",
        "data.head()\n",
        "#remove outliers\n",
        "data = data.drop(data[(data['Critic_Score']>60) & (data['Global_Sales']>60)].index)\n",
        "\n",
        "data = data[(data['Platform'] == 'PS3') | (data['Platform'] == 'PS4') | (data['Platform'] == 'X360') | (data['Platform'] == 'XOne') | (data['Platform'] == 'Wii') | (data['Platform'] == 'WiiU') | (data['Platform'] == 'PC')]\n",
        "#Let's double check the value counts to be sure\n",
        "print(pd.value_counts(data[\"Platform\"]))\n",
        "\n",
        "#Let's see the shape of the data again\n",
        "print(data.shape)\n",
        "\n",
        "#Lets see the missing ratios again\n",
        "data_na = (data.isnull().sum() / len(data)) * 100\n",
        "data_na = data_na.drop(data_na[data_na == 0].index).sort_values(ascending=False)[:30]\n",
        "missing_data = pd.DataFrame({'Missing Ratio' :data_na})\n",
        "missing_data.head(16)\n"
      ],
      "execution_count": null,
      "outputs": [
        {
          "output_type": "stream",
          "text": [
            "PS3     1331\n",
            "Wii     1319\n",
            "X360    1262\n",
            "PC       974\n",
            "PS4      393\n",
            "XOne     247\n",
            "WiiU     147\n",
            "Name: Platform, dtype: int64\n",
            "(5673, 16)\n"
          ],
          "name": "stdout"
        },
        {
          "output_type": "execute_result",
          "data": {
            "text/html": [
              "<div>\n",
              "<style scoped>\n",
              "    .dataframe tbody tr th:only-of-type {\n",
              "        vertical-align: middle;\n",
              "    }\n",
              "\n",
              "    .dataframe tbody tr th {\n",
              "        vertical-align: top;\n",
              "    }\n",
              "\n",
              "    .dataframe thead th {\n",
              "        text-align: right;\n",
              "    }\n",
              "</style>\n",
              "<table border=\"1\" class=\"dataframe\">\n",
              "  <thead>\n",
              "    <tr style=\"text-align: right;\">\n",
              "      <th></th>\n",
              "      <th>Missing Ratio</th>\n",
              "    </tr>\n",
              "  </thead>\n",
              "  <tbody>\n",
              "    <tr>\n",
              "      <th>Critic_Count</th>\n",
              "      <td>37.493390</td>\n",
              "    </tr>\n",
              "    <tr>\n",
              "      <th>Critic_Score</th>\n",
              "      <td>37.493390</td>\n",
              "    </tr>\n",
              "    <tr>\n",
              "      <th>User_Count</th>\n",
              "      <td>34.584876</td>\n",
              "    </tr>\n",
              "    <tr>\n",
              "      <th>Rating</th>\n",
              "      <td>23.761678</td>\n",
              "    </tr>\n",
              "    <tr>\n",
              "      <th>User_Score</th>\n",
              "      <td>22.563018</td>\n",
              "    </tr>\n",
              "    <tr>\n",
              "      <th>Developer</th>\n",
              "      <td>21.716905</td>\n",
              "    </tr>\n",
              "    <tr>\n",
              "      <th>Year_of_Release</th>\n",
              "      <td>1.868500</td>\n",
              "    </tr>\n",
              "    <tr>\n",
              "      <th>Publisher</th>\n",
              "      <td>0.229156</td>\n",
              "    </tr>\n",
              "  </tbody>\n",
              "</table>\n",
              "</div>"
            ],
            "text/plain": [
              "                 Missing Ratio\n",
              "Critic_Count         37.493390\n",
              "Critic_Score         37.493390\n",
              "User_Count           34.584876\n",
              "Rating               23.761678\n",
              "User_Score           22.563018\n",
              "Developer            21.716905\n",
              "Year_of_Release       1.868500\n",
              "Publisher             0.229156"
            ]
          },
          "metadata": {
            "tags": []
          },
          "execution_count": 137
        }
      ]
    },
    {
      "cell_type": "code",
      "metadata": {
        "colab": {
          "base_uri": "https://localhost:8080/",
          "height": 235
        },
        "id": "mOWoBTc9ltWp",
        "outputId": "172b351c-c4c0-401b-fe27-7084474f3835"
      },
      "source": [
        "#Crtic_score is an important feature but is missing almost 40% of data thus we are dropping the na rows of this column\n",
        "data = data.dropna(subset=['Critic_Score'])\n",
        "\n",
        "#Lets see the missing ratios again\n",
        "data_na = (data.isnull().sum() / len(data)) * 100\n",
        "data_na = data_na.drop(data_na[data_na == 0].index).sort_values(ascending=False)[:30]\n",
        "missing_data = pd.DataFrame({'Missing Ratio' :data_na})\n",
        "missing_data.head(16)"
      ],
      "execution_count": null,
      "outputs": [
        {
          "output_type": "execute_result",
          "data": {
            "text/html": [
              "<div>\n",
              "<style scoped>\n",
              "    .dataframe tbody tr th:only-of-type {\n",
              "        vertical-align: middle;\n",
              "    }\n",
              "\n",
              "    .dataframe tbody tr th {\n",
              "        vertical-align: top;\n",
              "    }\n",
              "\n",
              "    .dataframe thead th {\n",
              "        text-align: right;\n",
              "    }\n",
              "</style>\n",
              "<table border=\"1\" class=\"dataframe\">\n",
              "  <thead>\n",
              "    <tr style=\"text-align: right;\">\n",
              "      <th></th>\n",
              "      <th>Missing Ratio</th>\n",
              "    </tr>\n",
              "  </thead>\n",
              "  <tbody>\n",
              "    <tr>\n",
              "      <th>User_Count</th>\n",
              "      <td>5.019741</td>\n",
              "    </tr>\n",
              "    <tr>\n",
              "      <th>Rating</th>\n",
              "      <td>2.002256</td>\n",
              "    </tr>\n",
              "    <tr>\n",
              "      <th>Year_of_Release</th>\n",
              "      <td>2.002256</td>\n",
              "    </tr>\n",
              "    <tr>\n",
              "      <th>User_Score</th>\n",
              "      <td>0.564016</td>\n",
              "    </tr>\n",
              "    <tr>\n",
              "      <th>Developer</th>\n",
              "      <td>0.084602</td>\n",
              "    </tr>\n",
              "    <tr>\n",
              "      <th>Publisher</th>\n",
              "      <td>0.084602</td>\n",
              "    </tr>\n",
              "  </tbody>\n",
              "</table>\n",
              "</div>"
            ],
            "text/plain": [
              "                 Missing Ratio\n",
              "User_Count            5.019741\n",
              "Rating                2.002256\n",
              "Year_of_Release       2.002256\n",
              "User_Score            0.564016\n",
              "Developer             0.084602\n",
              "Publisher             0.084602"
            ]
          },
          "metadata": {
            "tags": []
          },
          "execution_count": 138
        }
      ]
    },
    {
      "cell_type": "code",
      "metadata": {
        "colab": {
          "base_uri": "https://localhost:8080/",
          "height": 49
        },
        "id": "d4-27AWZltMM",
        "outputId": "ae56163e-e92f-4ed0-c254-d034e47bde3a"
      },
      "source": [
        "data['Publisher'] = data['Publisher'].fillna(data['Publisher'].mode()[0])\n",
        "data['Developer'] = data['Developer'].fillna(data['Developer'].mode()[0])\n",
        "data['Rating'] = data['Rating'].fillna(data['Rating'].mode()[0])\n",
        "data['Year_of_Release'] = data['Year_of_Release'].fillna(data['Year_of_Release'].median())\n",
        "#There's \"tbd\" values in the mix here which we need to handle first\n",
        "data['User_Score'] = data['User_Score'].replace('tbd', None)\n",
        "#Now we can handle the N/A's appropriately\n",
        "data['User_Score'] = data['User_Score'].fillna(data['User_Score'].median())\n",
        "\n",
        "data['User_Count'] = data['User_Count'].fillna(data['User_Count'].median())\n",
        "#Lets see the missing ratios again\n",
        "data_na = (data.isnull().sum() / len(data)) * 100\n",
        "data_na = data_na.drop(data_na[data_na == 0].index).sort_values(ascending=False)[:30]\n",
        "missing_data = pd.DataFrame({'Missing Ratio' :data_na})\n",
        "missing_data.head(16)"
      ],
      "execution_count": null,
      "outputs": [
        {
          "output_type": "execute_result",
          "data": {
            "text/html": [
              "<div>\n",
              "<style scoped>\n",
              "    .dataframe tbody tr th:only-of-type {\n",
              "        vertical-align: middle;\n",
              "    }\n",
              "\n",
              "    .dataframe tbody tr th {\n",
              "        vertical-align: top;\n",
              "    }\n",
              "\n",
              "    .dataframe thead th {\n",
              "        text-align: right;\n",
              "    }\n",
              "</style>\n",
              "<table border=\"1\" class=\"dataframe\">\n",
              "  <thead>\n",
              "    <tr style=\"text-align: right;\">\n",
              "      <th></th>\n",
              "      <th>Missing Ratio</th>\n",
              "    </tr>\n",
              "  </thead>\n",
              "  <tbody>\n",
              "  </tbody>\n",
              "</table>\n",
              "</div>"
            ],
            "text/plain": [
              "Empty DataFrame\n",
              "Columns: [Missing Ratio]\n",
              "Index: []"
            ]
          },
          "metadata": {
            "tags": []
          },
          "execution_count": 139
        }
      ]
    },
    {
      "cell_type": "code",
      "metadata": {
        "colab": {
          "base_uri": "https://localhost:8080/"
        },
        "id": "ji82hj41ltEZ",
        "outputId": "a39af760-4158-4f50-949a-56b20df56166"
      },
      "source": [
        "#HADLING CATEGORICAL VALUES \n",
        "#ONE HOT ENCODING\n",
        "print(data.shape) #pre-dummies shape\n",
        "data = pd.get_dummies(data=data, columns=['Platform', 'Genre', 'Rating'])\n",
        "print(data.shape) #post-dummies shape\n",
        "data.head #Check to verify that dummies are ok"
      ],
      "execution_count": null,
      "outputs": [
        {
          "output_type": "stream",
          "text": [
            "(3546, 16)\n",
            "(3546, 37)\n"
          ],
          "name": "stdout"
        },
        {
          "output_type": "execute_result",
          "data": {
            "text/plain": [
              "<bound method NDFrame.head of                                     Name  Year_of_Release  ... Rating_RP  Rating_T\n",
              "2                         Mario Kart Wii           2008.0  ...         0         0\n",
              "3                      Wii Sports Resort           2009.0  ...         0         0\n",
              "7                               Wii Play           2006.0  ...         0         0\n",
              "8              New Super Mario Bros. Wii           2009.0  ...         0         0\n",
              "13                               Wii Fit           2007.0  ...         0         0\n",
              "...                                  ...              ...  ...       ...       ...\n",
              "16664                   Prison Architect           2016.0  ...         0         1\n",
              "16696  Metal Gear Solid V: Ground Zeroes           2014.0  ...         0         0\n",
              "16700                             Breach           2011.0  ...         0         1\n",
              "16706            STORM: Frontline Nation           2011.0  ...         0         0\n",
              "16709                            15 Days           2009.0  ...         0         1\n",
              "\n",
              "[3546 rows x 37 columns]>"
            ]
          },
          "metadata": {
            "tags": []
          },
          "execution_count": 140
        }
      ]
    },
    {
      "cell_type": "code",
      "metadata": {
        "id": "AIwOcpCkls_M"
      },
      "source": [
        "#Dropping unwanted columns\n",
        "data = data.drop(['Name', 'Publisher', 'Developer', 'NA_Sales', 'EU_Sales', 'JP_Sales', 'Other_Sales'], axis=1)"
      ],
      "execution_count": null,
      "outputs": []
    },
    {
      "cell_type": "code",
      "metadata": {
        "colab": {
          "base_uri": "https://localhost:8080/"
        },
        "id": "6pzDxT9Lrght",
        "outputId": "f348e252-d0a6-4408-8e6a-ab7d738e0485"
      },
      "source": [
        "X = data[['Year_of_Release', 'Critic_Score', 'Critic_Count',\n",
        "       'User_Score', 'User_Count', 'Platform_PC', 'Platform_PS3',\n",
        "       'Platform_PS4', 'Platform_Wii', 'Platform_WiiU', 'Platform_X360',\n",
        "       'Platform_XOne', 'Genre_Action', 'Genre_Adventure', 'Genre_Fighting',\n",
        "       'Genre_Misc', 'Genre_Platform', 'Genre_Puzzle', 'Genre_Racing',\n",
        "       'Genre_Role-Playing', 'Genre_Shooter', 'Genre_Simulation',\n",
        "       'Genre_Sports', 'Genre_Strategy', 'Rating_E', 'Rating_E10+', 'Rating_M',\n",
        "       'Rating_RP', 'Rating_T']]\n",
        "\n",
        "Y = data[['Global_Sales']]\n",
        "\n",
        "#Double checking the shape\n",
        "print(X.shape)\n",
        "print(Y.shape)"
      ],
      "execution_count": null,
      "outputs": [
        {
          "output_type": "stream",
          "text": [
            "(3546, 29)\n",
            "(3546, 1)\n"
          ],
          "name": "stdout"
        }
      ]
    },
    {
      "cell_type": "code",
      "metadata": {
        "colab": {
          "base_uri": "https://localhost:8080/"
        },
        "id": "HwSqULW6rsAR",
        "outputId": "a92d866b-54e7-4a96-c007-c0690109c7c1"
      },
      "source": [
        "from sklearn.model_selection import train_test_split\n",
        "\n",
        "X_train, X_test, Y_train, Y_test = train_test_split(X, Y,test_size=0.25, random_state=42)\n",
        "\n",
        "#Let's check the shape of the split data as a precaution\n",
        "print(\"X_train shape: {}\".format(X_train.shape))\n",
        "print(\"Y_train shape: {}\".format(Y_train.shape))\n",
        "\n",
        "print(\"X_test shape: {}\".format(X_test.shape))\n",
        "print(\"Y_test shape: {}\".format(Y_test.shape))"
      ],
      "execution_count": null,
      "outputs": [
        {
          "output_type": "stream",
          "text": [
            "X_train shape: (2659, 29)\n",
            "Y_train shape: (2659, 1)\n",
            "X_test shape: (887, 29)\n",
            "Y_test shape: (887, 1)\n"
          ],
          "name": "stdout"
        }
      ]
    },
    {
      "cell_type": "code",
      "metadata": {
        "id": "-f0fnUfirr68"
      },
      "source": [
        "#Handling Abnormal distribution\n",
        "Y_train = np.log1p(Y_train)\n",
        "Y_test = np.log1p(Y_test)"
      ],
      "execution_count": null,
      "outputs": []
    },
    {
      "cell_type": "code",
      "metadata": {
        "id": "Yb5kji51rrxn"
      },
      "source": [
        "from sklearn.preprocessing import MinMaxScaler\n",
        "\n",
        "scaler = MinMaxScaler()\n",
        "scaler.fit(X_train)\n",
        "\n",
        "X_train = scaler.transform(X_train) \n",
        "X_test = scaler.transform(X_test)"
      ],
      "execution_count": null,
      "outputs": []
    },
    {
      "cell_type": "code",
      "metadata": {
        "colab": {
          "base_uri": "https://localhost:8080/"
        },
        "id": "KsX-j-F2si2s",
        "outputId": "97c68a32-38e3-4cea-a419-7905ad623ccc"
      },
      "source": [
        "\n",
        "##LINEAR REGRESSION\n",
        "\n",
        "from sklearn.linear_model import LinearRegression\n",
        "\n",
        "#R2-SCORE\n",
        "regr = LinearRegression()\n",
        "regr.fit(X_train, Y_train)\n",
        "y_pred_test = regr.predict(X_test)\n",
        "print('R-squared = %.4f' % r2_score(Y_test, y_pred_test))\n",
        "#RMSE\n",
        "print(\"Root mean squared error = %.4f\" % np.sqrt(mean_squared_error(Y_test, y_pred_test)))\n",
        "\n"
      ],
      "execution_count": null,
      "outputs": [
        {
          "output_type": "stream",
          "text": [
            "R-squared = 0.4919\n",
            "Root mean squared error = 0.3610\n"
          ],
          "name": "stdout"
        }
      ]
    },
    {
      "cell_type": "code",
      "metadata": {
        "colab": {
          "base_uri": "https://localhost:8080/"
        },
        "id": "6dT0FtRTumfN",
        "outputId": "f6eb1bf4-94a0-4414-c016-939c83ac681a"
      },
      "source": [
        "##DecissionTreeRegressor\n",
        "from sklearn.tree import DecisionTreeRegressor\n",
        "\n",
        "#R2-SCORE\n",
        "regr = DecisionTreeRegressor()\n",
        "regr.fit(X_train, Y_train)\n",
        "y_pred_test = regr.predict(X_test)\n",
        "print('R-squared = %.4f' % r2_score(Y_test, y_pred_test))\n",
        "#RMSE\n",
        "print(\"Root mean squared error = %.4f\" % np.sqrt(mean_squared_error(Y_test, y_pred_test)))\n"
      ],
      "execution_count": null,
      "outputs": [
        {
          "output_type": "stream",
          "text": [
            "R-squared = 0.3971\n",
            "Root mean squared error = 0.3933\n"
          ],
          "name": "stdout"
        }
      ]
    },
    {
      "cell_type": "code",
      "metadata": {
        "colab": {
          "base_uri": "https://localhost:8080/"
        },
        "id": "JNJV1ReIsiRA",
        "outputId": "28739fb7-9fd6-480b-b2d8-146eef672fde"
      },
      "source": [
        "##RIDGE\n",
        "\n",
        "from sklearn.linear_model import Ridge\n",
        "\n",
        "\n",
        "#R2-SCORE\n",
        "regr = Ridge()\n",
        "regr.fit(X_train, Y_train)\n",
        "y_pred_test = regr.predict(X_test)\n",
        "print('R-squared = %.4f' % r2_score(Y_test, y_pred_test))\n",
        "#RMSE\n",
        "print(\"Root mean squared error = %.4f\" % np.sqrt(mean_squared_error(Y_test, y_pred_test)))\n",
        "\n"
      ],
      "execution_count": null,
      "outputs": [
        {
          "output_type": "stream",
          "text": [
            "R-squared = 0.4872\n",
            "Root mean squared error = 0.3627\n"
          ],
          "name": "stdout"
        }
      ]
    },
    {
      "cell_type": "code",
      "metadata": {
        "colab": {
          "base_uri": "https://localhost:8080/"
        },
        "id": "PWTf5-SFsiFe",
        "outputId": "59e78da0-d677-48d6-8e11-8e7f980bde1a"
      },
      "source": [
        "##SVR\n",
        "\n",
        "from sklearn.svm import SVR\n",
        "\n",
        "#R2-SCORE\n",
        "regr = SVR()\n",
        "regr.fit(X_train, Y_train)\n",
        "y_pred_test = regr.predict(X_test)\n",
        "print('R-squared = %.4f' % r2_score(Y_test, y_pred_test))\n",
        "#RMSE\n",
        "print(\"Root mean squared error = %.4f\" % np.sqrt(mean_squared_error(Y_test, y_pred_test)))\n",
        "\n"
      ],
      "execution_count": null,
      "outputs": [
        {
          "output_type": "stream",
          "text": [
            "R-squared = 0.5267\n",
            "Root mean squared error = 0.3484\n"
          ],
          "name": "stdout"
        }
      ]
    },
    {
      "cell_type": "code",
      "metadata": {
        "colab": {
          "base_uri": "https://localhost:8080/"
        },
        "id": "JlHPQ8208HJY",
        "outputId": "c4e61f88-11cb-4418-8abc-e155edfdcbf7"
      },
      "source": [
        "##KNeighbors\n",
        "from sklearn.neighbors import KNeighborsRegressor\n",
        "\n",
        "#R2-SCORE\n",
        "regr = KNeighborsRegressor()\n",
        "regr.fit(X_train, Y_train)\n",
        "y_pred_test = regr.predict(X_test)\n",
        "print('R-squared = %.4f' % r2_score(Y_test, y_pred_test))\n",
        "#RMSE\n",
        "print(\"Root mean squared error = %.4f\" % np.sqrt(mean_squared_error(Y_test, y_pred_test)))\n",
        "\n"
      ],
      "execution_count": null,
      "outputs": [
        {
          "output_type": "stream",
          "text": [
            "R-squared = 0.4341\n",
            "Root mean squared error = 0.3810\n"
          ],
          "name": "stdout"
        }
      ]
    },
    {
      "cell_type": "code",
      "metadata": {
        "colab": {
          "base_uri": "https://localhost:8080/"
        },
        "id": "mXB6y2et8HAI",
        "outputId": "bc794f08-5793-4545-e119-92776c47de41"
      },
      "source": [
        "##ADABoost\n",
        "from sklearn.ensemble import AdaBoostRegressor\n",
        "\n",
        "#R2-SCORE\n",
        "regr = AdaBoostRegressor()\n",
        "regr.fit(X_train, Y_train)\n",
        "y_pred_test = regr.predict(X_test)\n",
        "print('R-squared = %.4f' % r2_score(Y_test, y_pred_test))\n",
        "#RMSE\n",
        "print(\"Root mean squared error = %.4f\" % np.sqrt(mean_squared_error(Y_test, y_pred_test)))\n"
      ],
      "execution_count": null,
      "outputs": [
        {
          "output_type": "stream",
          "text": [
            "R-squared = 0.4180\n",
            "Root mean squared error = 0.3864\n"
          ],
          "name": "stdout"
        }
      ]
    },
    {
      "cell_type": "code",
      "metadata": {
        "colab": {
          "base_uri": "https://localhost:8080/"
        },
        "id": "qHpi8PK6sh3A",
        "outputId": "aa2bd82c-c5f6-4be0-97c6-fa55dada8dbb"
      },
      "source": [
        "##GradientBoostingRegressor\n",
        "\n",
        "from sklearn.ensemble import GradientBoostingRegressor\n",
        "\n",
        "\n",
        "#R2-SCORE\n",
        "regr = GradientBoostingRegressor()\n",
        "regr.fit(X_train, Y_train)\n",
        "y_pred_test = regr.predict(X_test)\n",
        "print('R-squared = %.4f' % r2_score(Y_test, y_pred_test))\n",
        "#RMSE\n",
        "print(\"Root mean squared error = %.4f\" % np.sqrt(mean_squared_error(Y_test, y_pred_test)))\n",
        "\n"
      ],
      "execution_count": null,
      "outputs": [
        {
          "output_type": "stream",
          "text": [
            "R-squared = 0.6260\n",
            "Root mean squared error = 0.3098\n"
          ],
          "name": "stdout"
        }
      ]
    },
    {
      "cell_type": "code",
      "metadata": {
        "colab": {
          "base_uri": "https://localhost:8080/"
        },
        "id": "alWkFBOrvu-_",
        "outputId": "e7099db8-fb1d-4085-add1-e084c0ce88f6"
      },
      "source": [
        "##RandomForestRegressor\n",
        "from sklearn.ensemble import RandomForestRegressor\n",
        "\n",
        "#R2-SCORE\n",
        "regr = RandomForestRegressor()\n",
        "regr.fit(X_train, Y_train)\n",
        "y_pred_test = regr.predict(X_test)\n",
        "print('R-squared = %.4f' % r2_score(Y_test, y_pred_test))\n",
        "#RMSE\n",
        "print(\"Root mean squared error = %.4f\" % np.sqrt(mean_squared_error(Y_test, y_pred_test)))\n"
      ],
      "execution_count": null,
      "outputs": [
        {
          "output_type": "stream",
          "text": [
            "R-squared = 0.6320\n",
            "Root mean squared error = 0.3073\n"
          ],
          "name": "stdout"
        }
      ]
    },
    {
      "cell_type": "code",
      "metadata": {
        "colab": {
          "base_uri": "https://localhost:8080/"
        },
        "id": "3rfi_pnwwe-k",
        "outputId": "56d09dba-eb4e-43de-cb2a-3875903892c2"
      },
      "source": [
        "##XGB\n",
        "import xgboost as xgb\n",
        "\n",
        "#R2-SCORE\n",
        "regr = xgb.XGBRegressor()\n",
        "regr.fit(X_train, Y_train)\n",
        "y_pred_test = regr.predict(X_test)\n",
        "print('R-squared = %.4f' % r2_score(Y_test, y_pred_test))\n",
        "#RMSE\n",
        "print(\"Root mean squared error = %.4f\" % np.sqrt(mean_squared_error(Y_test, y_pred_test)))\n"
      ],
      "execution_count": null,
      "outputs": [
        {
          "output_type": "stream",
          "text": [
            "[07:14:21] WARNING: /workspace/src/objective/regression_obj.cu:152: reg:linear is now deprecated in favor of reg:squarederror.\n",
            "R-squared = 0.6151\n",
            "Root mean squared error = 0.3143\n"
          ],
          "name": "stdout"
        }
      ]
    }
  ]
}